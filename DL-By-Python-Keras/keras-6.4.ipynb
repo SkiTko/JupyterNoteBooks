{
 "cells": [
  {
   "cell_type": "markdown",
   "metadata": {},
   "source": [
    "# 6\n",
    "## 6.4\n",
    "### 6.4.3"
   ]
  },
  {
   "cell_type": "code",
   "execution_count": 1,
   "metadata": {},
   "outputs": [
    {
     "name": "stdout",
     "output_type": "stream",
     "text": [
      "loading data...\n",
      "25000 train sequences\n",
      "25000 test sequences\n",
      "Pad sequences (samples x time)\n",
      "x_train shape: (25000, 500)\n",
      "x_test shape: (25000, 500)\n"
     ]
    }
   ],
   "source": [
    "# List 6-45\n",
    "\n",
    "from tensorflow.keras.datasets import imdb\n",
    "from tensorflow.keras.preprocessing import sequence\n",
    "\n",
    "max_features = 10000\n",
    "max_len = 500\n",
    "\n",
    "print('loading data...')\n",
    "(x_train, y_train), (x_test, y_test) = imdb.load_data(num_words=max_features)\n",
    "print(len(x_train), 'train sequences')\n",
    "print(len(x_test), 'test sequences')\n",
    "\n",
    "print('Pad sequences (samples x time)')\n",
    "x_train = sequence.pad_sequences(x_train, maxlen=max_len)\n",
    "x_test  = sequence.pad_sequences(x_test , maxlen=max_len)\n",
    "print('x_train shape:', x_train.shape)\n",
    "print('x_test shape:', x_test.shape)"
   ]
  },
  {
   "cell_type": "code",
   "execution_count": 2,
   "metadata": {},
   "outputs": [
    {
     "name": "stderr",
     "output_type": "stream",
     "text": [
      "WARNING: Logging before flag parsing goes to stderr.\n",
      "W1013 13:56:32.709692 140019685576832 deprecation.py:506] From /home/takao/.pyenv/versions/3.7.4/envs/Jupyter/lib/python3.7/site-packages/tensorflow/python/keras/initializers.py:119: calling RandomUniform.__init__ (from tensorflow.python.ops.init_ops) with dtype is deprecated and will be removed in a future version.\n",
      "Instructions for updating:\n",
      "Call initializer instance with the dtype argument instead of passing it to the constructor\n",
      "W1013 13:56:32.723527 140019685576832 deprecation.py:506] From /home/takao/.pyenv/versions/3.7.4/envs/Jupyter/lib/python3.7/site-packages/tensorflow/python/ops/init_ops.py:1251: calling VarianceScaling.__init__ (from tensorflow.python.ops.init_ops) with dtype is deprecated and will be removed in a future version.\n",
      "Instructions for updating:\n",
      "Call initializer instance with the dtype argument instead of passing it to the constructor\n",
      "W1013 13:56:32.888413 140019685576832 deprecation.py:323] From /home/takao/.pyenv/versions/3.7.4/envs/Jupyter/lib/python3.7/site-packages/tensorflow/python/ops/math_grad.py:1250: add_dispatch_support.<locals>.wrapper (from tensorflow.python.ops.array_ops) is deprecated and will be removed in a future version.\n",
      "Instructions for updating:\n",
      "Use tf.where in 2.0, which has the same broadcast rule as np.where\n"
     ]
    },
    {
     "name": "stdout",
     "output_type": "stream",
     "text": [
      "Model: \"sequential\"\n",
      "_________________________________________________________________\n",
      "Layer (type)                 Output Shape              Param #   \n",
      "=================================================================\n",
      "embedding (Embedding)        (None, 500, 128)          1280000   \n",
      "_________________________________________________________________\n",
      "conv1d (Conv1D)              (None, 494, 32)           28704     \n",
      "_________________________________________________________________\n",
      "max_pooling1d (MaxPooling1D) (None, 98, 32)            0         \n",
      "_________________________________________________________________\n",
      "conv1d_1 (Conv1D)            (None, 92, 32)            7200      \n",
      "_________________________________________________________________\n",
      "global_max_pooling1d (Global (None, 32)                0         \n",
      "_________________________________________________________________\n",
      "dense (Dense)                (None, 1)                 33        \n",
      "=================================================================\n",
      "Total params: 1,315,937\n",
      "Trainable params: 1,315,937\n",
      "Non-trainable params: 0\n",
      "_________________________________________________________________\n",
      "Train on 20000 samples, validate on 5000 samples\n",
      "Epoch 1/10\n",
      "20000/20000 [==============================] - 5s 265us/sample - loss: 0.9196 - acc: 0.5110 - val_loss: 0.6877 - val_acc: 0.5714\n",
      "Epoch 2/10\n",
      "20000/20000 [==============================] - 4s 178us/sample - loss: 0.6714 - acc: 0.6381 - val_loss: 0.6615 - val_acc: 0.6674\n",
      "Epoch 3/10\n",
      "20000/20000 [==============================] - 3s 172us/sample - loss: 0.6232 - acc: 0.7520 - val_loss: 0.6054 - val_acc: 0.7350\n",
      "Epoch 4/10\n",
      "20000/20000 [==============================] - 3s 170us/sample - loss: 0.5271 - acc: 0.8063 - val_loss: 0.4878 - val_acc: 0.8056\n",
      "Epoch 5/10\n",
      "20000/20000 [==============================] - 3s 171us/sample - loss: 0.4047 - acc: 0.8492 - val_loss: 0.4228 - val_acc: 0.8368\n",
      "Epoch 6/10\n",
      "20000/20000 [==============================] - 3s 171us/sample - loss: 0.3403 - acc: 0.8765 - val_loss: 0.4220 - val_acc: 0.8490\n",
      "Epoch 7/10\n",
      "20000/20000 [==============================] - 3s 170us/sample - loss: 0.3025 - acc: 0.8939 - val_loss: 0.4712 - val_acc: 0.8484\n",
      "Epoch 8/10\n",
      "20000/20000 [==============================] - 3s 171us/sample - loss: 0.2705 - acc: 0.9064 - val_loss: 0.4323 - val_acc: 0.8536\n",
      "Epoch 9/10\n",
      "20000/20000 [==============================] - 3s 171us/sample - loss: 0.2465 - acc: 0.9172 - val_loss: 0.4509 - val_acc: 0.8640\n",
      "Epoch 10/10\n",
      "20000/20000 [==============================] - 3s 171us/sample - loss: 0.2236 - acc: 0.9266 - val_loss: 0.4511 - val_acc: 0.8630\n"
     ]
    }
   ],
   "source": [
    "# List 6-46\n",
    "\n",
    "from tensorflow.keras.models import Sequential\n",
    "from tensorflow.keras import layers\n",
    "from tensorflow.keras.optimizers import RMSprop\n",
    "\n",
    "model = Sequential()\n",
    "model.add(layers.Embedding(max_features, 128, input_length=max_len))\n",
    "model.add(layers.Conv1D(32, 7, activation='relu'))\n",
    "model.add(layers.MaxPooling1D(5))\n",
    "model.add(layers.Conv1D(32, 7, activation='relu'))\n",
    "model.add(layers.GlobalMaxPooling1D())\n",
    "model.add(layers.Dense(1))\n",
    "model.summary()\n",
    "\n",
    "model.compile(optimizer=RMSprop(lr=1e-4),\n",
    "              loss='binary_crossentropy',\n",
    "              metrics=['acc'])\n",
    "history = model.fit(x_train, y_train, \n",
    "                    epochs=10,\n",
    "                    batch_size=128,\n",
    "                    validation_split=0.2)"
   ]
  },
  {
   "cell_type": "code",
   "execution_count": 3,
   "metadata": {},
   "outputs": [
    {
     "data": {
      "image/png": "[encoded data removed]",
      "text/plain": [
       "<Figure size 432x288 with 1 Axes>"
      ]
     },
     "metadata": {
      "needs_background": "light"
     },
     "output_type": "display_data"
    },
    {
     "data": {
      "image/png": "[encoded data removed]",
      "text/plain": [
       "<Figure size 432x288 with 1 Axes>"
      ]
     },
     "metadata": {
      "needs_background": "light"
     },
     "output_type": "display_data"
    }
   ],
   "source": [
    "import matplotlib.pyplot as plt\n",
    "%matplotlib inline\n",
    "\n",
    "acc = history.history['acc']\n",
    "val_acc = history.history['val_acc']\n",
    "loss = history.history['loss']\n",
    "val_loss = history.history['val_loss']\n",
    "\n",
    "epochs = range(len(acc))\n",
    "\n",
    "plt.plot(epochs, acc, 'bo', label='Training acc')\n",
    "plt.plot(epochs, val_acc, 'b', label='Validation acc')\n",
    "plt.title('Training and validation accuracy')\n",
    "plt.legend()\n",
    "\n",
    "plt.figure()\n",
    "\n",
    "plt.plot(epochs, loss, 'bo', label='Training loss')\n",
    "plt.plot(epochs, val_loss, 'b', label='Validation loss')\n",
    "plt.title('Training and validation loss')\n",
    "plt.legend()\n",
    "\n",
    "plt.show()"
   ]
  },
  {
   "cell_type": "markdown",
   "metadata": {},
   "source": [
    "### 6.4.4"
   ]
  },
  {
   "cell_type": "code",
   "execution_count": 20,
   "metadata": {},
   "outputs": [],
   "source": [
    "# List 6-28\n",
    "\n",
    "import os\n",
    "\n",
    "data_dir='/home/takao/Documents/dev/jupyter/DL-By-Python-Keras/6-jena_climate'\n",
    "fname = os.path.join(data_dir, 'jena_climate_2009_2016.csv')\n",
    "\n",
    "f = open(fname)\n",
    "data = f.read()\n",
    "f.close()\n",
    "\n",
    "lines = data.split('\\n')\n",
    "header = lines[0].split(',')\n",
    "lines = lines[1:]\n",
    "\n",
    "\n",
    "\n",
    "# List 6-29\n",
    "\n",
    "import numpy as np\n",
    "\n",
    "float_data = np.zeros((len(lines), len(header) - 1))\n",
    "for i, line in enumerate(lines):\n",
    "    values = [float(x) for x in line.split(',')[1:]]\n",
    "    float_data[i,:] = values\n",
    "    \n",
    "    \n",
    "    \n",
    "# List 6-33\n",
    "\n",
    "def generator(data, lookback, delay, min_index, max_index, shuffle=False, batch_size=128, step=6):\n",
    "    if max_index is None:\n",
    "        max_index = len(data) - delay - 1\n",
    "    i = min_index + lookback\n",
    "    while 1:\n",
    "        if shuffle:\n",
    "            rows = np.random.randint(min_index + lookback, max_index,\n",
    "                                     size=batch_size)\n",
    "        else:\n",
    "            if i + batch_size >= max_index:\n",
    "                i = min_index + lookback\n",
    "            rows = np.arange(i, min(i + batch_size, max_index))\n",
    "            i += len(rows)\n",
    "\n",
    "        samples = np.zeros((len(rows),\n",
    "                           lookback // step,\n",
    "                           data.shape[-1]))\n",
    "        targets = np.zeros((len(rows),))\n",
    "        for j, row in enumerate(rows):\n",
    "            indeces = range(rows[j] - lookback, rows[j], step)\n",
    "            samples[j] = data[indeces]\n",
    "            targets[j] = data[rows[j] + delay][1]\n",
    "        yield samples, targets\n",
    "        \n",
    "        \n",
    "        \n",
    "lookback = 1440\n",
    "step = 6\n",
    "delay = 144\n",
    "batch_size = 128\n",
    "\n",
    "train_gen = generator(float_data,\n",
    "                      lookback=lookback,\n",
    "                      delay=delay,\n",
    "                      min_index=0,\n",
    "                      max_index=200000,\n",
    "                      shuffle=True,\n",
    "                      step=step,\n",
    "                      batch_size=batch_size)\n",
    "\n",
    "val_gen = generator(float_data,\n",
    "                    lookback=lookback,\n",
    "                    delay=delay,\n",
    "                    min_index=200001,\n",
    "                    max_index=300000,\n",
    "                    step=step,\n",
    "                    batch_size=batch_size)\n",
    "\n",
    "test_gen = generator(float_data,\n",
    "                     lookback=lookback,\n",
    "                     delay=delay,\n",
    "                     min_index=300001,\n",
    "                     max_index=None,\n",
    "                     step=step,\n",
    "                     batch_size=batch_size)\n",
    "\n",
    "val_steps = (300000 - 200001 - lookback) // batch_size\n",
    "\n",
    "test_steps = (len(float_data) - 300001 - lookback) // batch_size"
   ]
  },
  {
   "cell_type": "code",
   "execution_count": 21,
   "metadata": {},
   "outputs": [
    {
     "name": "stdout",
     "output_type": "stream",
     "text": [
      "Epoch 1/20\n",
      "500/500 [==============================] - 10s 20ms/step - loss: 6.0162 - val_loss: 3.9702\n",
      "Epoch 2/20\n",
      "500/500 [==============================] - 9s 19ms/step - loss: 4.1381 - val_loss: 4.2785\n",
      "Epoch 3/20\n",
      "500/500 [==============================] - 10s 20ms/step - loss: 3.9007 - val_loss: 3.9405\n",
      "Epoch 4/20\n",
      "500/500 [==============================] - 10s 20ms/step - loss: 3.7779 - val_loss: 3.8179\n",
      "Epoch 5/20\n",
      "500/500 [==============================] - 10s 20ms/step - loss: 3.6746 - val_loss: 3.7879\n",
      "Epoch 6/20\n",
      "500/500 [==============================] - 10s 20ms/step - loss: 3.6374 - val_loss: 4.1715\n",
      "Epoch 7/20\n",
      "500/500 [==============================] - 10s 20ms/step - loss: 3.5793 - val_loss: 3.8349\n",
      "Epoch 8/20\n",
      "500/500 [==============================] - 10s 20ms/step - loss: 3.5251 - val_loss: 3.8344\n",
      "Epoch 9/20\n",
      "500/500 [==============================] - 10s 20ms/step - loss: 3.4970 - val_loss: 3.8761\n",
      "Epoch 10/20\n",
      "500/500 [==============================] - 10s 20ms/step - loss: 3.4584 - val_loss: 3.9778\n",
      "Epoch 11/20\n",
      "500/500 [==============================] - 10s 20ms/step - loss: 3.4247 - val_loss: 3.8944\n",
      "Epoch 12/20\n",
      "500/500 [==============================] - 10s 20ms/step - loss: 3.3793 - val_loss: 4.0429\n",
      "Epoch 13/20\n",
      "500/500 [==============================] - 10s 20ms/step - loss: 3.3517 - val_loss: 3.8537\n",
      "Epoch 14/20\n",
      "500/500 [==============================] - 10s 20ms/step - loss: 3.3289 - val_loss: 4.7409\n",
      "Epoch 15/20\n",
      "500/500 [==============================] - 10s 20ms/step - loss: 3.3012 - val_loss: 3.8187\n",
      "Epoch 16/20\n",
      "500/500 [==============================] - 10s 20ms/step - loss: 3.2737 - val_loss: 3.8625\n",
      "Epoch 17/20\n",
      "500/500 [==============================] - 10s 20ms/step - loss: 3.2495 - val_loss: 3.8345\n",
      "Epoch 18/20\n",
      "500/500 [==============================] - 10s 20ms/step - loss: 3.2220 - val_loss: 3.7935\n",
      "Epoch 19/20\n",
      "500/500 [==============================] - 10s 20ms/step - loss: 3.2195 - val_loss: 3.8800\n",
      "Epoch 20/20\n",
      "500/500 [==============================] - 10s 19ms/step - loss: 3.1941 - val_loss: 3.9824\n"
     ]
    }
   ],
   "source": [
    "# List 6-47\n",
    "\n",
    "from tensorflow.keras.models import Sequential\n",
    "from tensorflow.keras import layers\n",
    "from tensorflow.keras.optimizers import RMSprop\n",
    "\n",
    "model = Sequential()\n",
    "model.add(layers.Conv1D(32, 5, activation='relu',\n",
    "                        input_shape=(None, float_data.shape[-1])))\n",
    "model.add(layers.MaxPooling1D(3))\n",
    "model.add(layers.Conv1D(32, 5, activation='relu'))\n",
    "model.add(layers.MaxPooling1D(3))\n",
    "model.add(layers.Conv1D(32, 5, activation='relu'))\n",
    "model.add(layers.GlobalMaxPooling1D())\n",
    "model.add(layers.Dense(1))\n",
    "\n",
    "model.compile(optimizer=RMSprop(), loss='mae')\n",
    "history = model.fit_generator(train_gen,\n",
    "                              steps_per_epoch=500,\n",
    "                              epochs=20,\n",
    "                              validation_data=val_gen,\n",
    "                              validation_steps=val_steps)"
   ]
  },
  {
   "cell_type": "code",
   "execution_count": 22,
   "metadata": {},
   "outputs": [
    {
     "data": {
      "image/png": "[encoded data removed]",
      "text/plain": [
       "<Figure size 432x288 with 1 Axes>"
      ]
     },
     "metadata": {
      "needs_background": "light"
     },
     "output_type": "display_data"
    }
   ],
   "source": [
    "import matplotlib.pyplot as plt\n",
    "%matplotlib inline\n",
    "\n",
    "loss = history.history['loss']\n",
    "val_loss = history.history['val_loss']\n",
    "\n",
    "epochs = range(len(loss))\n",
    "\n",
    "plt.plot(epochs, loss, 'bo', label='Training loss')\n",
    "plt.plot(epochs, val_loss, 'b', label='Validation loss')\n",
    "plt.title('Training and validation loss')\n",
    "plt.legend()\n",
    "\n",
    "plt.show()"
   ]
  },
  {
   "cell_type": "code",
   "execution_count": 23,
   "metadata": {},
   "outputs": [],
   "source": [
    "# List 6-48\n",
    "lookback = 720\n",
    "step = 3\n",
    "delay = 144\n",
    "\n",
    "train_gen = generator(float_data,\n",
    "                      lookback=lookback,\n",
    "                      delay=delay,\n",
    "                      min_index=0,\n",
    "                      max_index=200000,\n",
    "                      shuffle=True,\n",
    "                      step=step)\n",
    "\n",
    "val_gen = generator(float_data,\n",
    "                    lookback=lookback,\n",
    "                    delay=delay,\n",
    "                    min_index=200001,\n",
    "                    max_index=300000,\n",
    "                    step=step)\n",
    "\n",
    "test_gen = generator(float_data,\n",
    "                     lookback=lookback,\n",
    "                     delay=delay,\n",
    "                     min_index=300001,\n",
    "                     max_index=None,\n",
    "                     step=step)\n",
    "\n",
    "val_steps = (300000 - 200001 - lookback) // 128\n",
    "test_steps = (len(float_data) - 300001 - lookback) // 128"
   ]
  },
  {
   "cell_type": "code",
   "execution_count": 24,
   "metadata": {},
   "outputs": [
    {
     "name": "stdout",
     "output_type": "stream",
     "text": [
      "Model: \"sequential_9\"\n",
      "_________________________________________________________________\n",
      "Layer (type)                 Output Shape              Param #   \n",
      "=================================================================\n",
      "conv1d_21 (Conv1D)           (None, None, 32)          2272      \n",
      "_________________________________________________________________\n",
      "max_pooling1d_13 (MaxPooling (None, None, 32)          0         \n",
      "_________________________________________________________________\n",
      "conv1d_22 (Conv1D)           (None, None, 32)          5152      \n",
      "_________________________________________________________________\n",
      "gru_1 (GRU)                  (None, 32)                6240      \n",
      "_________________________________________________________________\n",
      "dense_5 (Dense)              (None, 1)                 33        \n",
      "=================================================================\n",
      "Total params: 13,697\n",
      "Trainable params: 13,697\n",
      "Non-trainable params: 0\n",
      "_________________________________________________________________\n",
      "Epoch 1/20\n",
      "500/500 [==============================] - 52s 105ms/step - loss: 7.5380 - val_loss: 6.7615\n",
      "Epoch 2/20\n",
      "500/500 [==============================] - 55s 110ms/step - loss: 5.6056 - val_loss: 4.0525\n",
      "Epoch 3/20\n",
      "500/500 [==============================] - 55s 110ms/step - loss: 3.9706 - val_loss: 3.2491\n",
      "Epoch 4/20\n",
      "500/500 [==============================] - 54s 108ms/step - loss: 3.5896 - val_loss: 3.0871\n",
      "Epoch 5/20\n",
      "500/500 [==============================] - 55s 110ms/step - loss: 3.3963 - val_loss: 2.9714\n",
      "Epoch 6/20\n",
      "500/500 [==============================] - 54s 109ms/step - loss: 3.3572 - val_loss: 3.2461\n",
      "Epoch 7/20\n",
      "500/500 [==============================] - 55s 110ms/step - loss: 3.2901 - val_loss: 2.9339\n",
      "Epoch 8/20\n",
      "500/500 [==============================] - 54s 108ms/step - loss: 3.2231 - val_loss: 2.8717\n",
      "Epoch 9/20\n",
      "500/500 [==============================] - 55s 110ms/step - loss: 3.2472 - val_loss: 2.8743\n",
      "Epoch 10/20\n",
      "500/500 [==============================] - 53s 107ms/step - loss: 3.1607 - val_loss: 3.1787\n",
      "Epoch 11/20\n",
      "500/500 [==============================] - 55s 110ms/step - loss: 3.2029 - val_loss: 3.0294\n",
      "Epoch 12/20\n",
      "500/500 [==============================] - 52s 105ms/step - loss: 3.1643 - val_loss: 3.0555\n",
      "Epoch 13/20\n",
      "500/500 [==============================] - 52s 103ms/step - loss: 3.1587 - val_loss: 3.0806\n",
      "Epoch 14/20\n",
      "500/500 [==============================] - 51s 103ms/step - loss: 3.1569 - val_loss: 2.9447\n",
      "Epoch 15/20\n",
      "500/500 [==============================] - 51s 102ms/step - loss: 3.1756 - val_loss: 2.8206\n",
      "Epoch 16/20\n",
      "500/500 [==============================] - 52s 103ms/step - loss: 3.1361 - val_loss: 2.8812\n",
      "Epoch 17/20\n",
      "500/500 [==============================] - 51s 101ms/step - loss: 3.1163 - val_loss: 2.9042\n",
      "Epoch 18/20\n",
      "500/500 [==============================] - 54s 109ms/step - loss: 3.0879 - val_loss: 2.9059\n",
      "Epoch 19/20\n",
      "500/500 [==============================] - 55s 109ms/step - loss: 3.1205 - val_loss: 2.9584\n",
      "Epoch 20/20\n",
      "500/500 [==============================] - 53s 107ms/step - loss: 3.0770 - val_loss: 2.9806\n"
     ]
    }
   ],
   "source": [
    "# List 6-49\n",
    "\n",
    "from tensorflow.keras.models import Sequential\n",
    "from tensorflow.keras import layers\n",
    "from tensorflow.keras.optimizers import RMSprop\n",
    "\n",
    "model = Sequential()\n",
    "model.add(layers.Conv1D(32, 5, activation='relu',\n",
    "                        input_shape=(None, float_data.shape[-1])))\n",
    "model.add(layers.MaxPooling1D(3))\n",
    "model.add(layers.Conv1D(32, 5, activation='relu'))\n",
    "model.add(layers.GRU(32, dropout=0.1, recurrent_dropout=0.5))\n",
    "model.add(layers.Dense(1))\n",
    "\n",
    "model.summary()\n",
    "\n",
    "model.compile(optimizer=RMSprop(), loss='mae')\n",
    "history = model.fit_generator(train_gen,\n",
    "                              steps_per_epoch=500,\n",
    "                              epochs=20,\n",
    "                              validation_data=val_gen,\n",
    "                              validation_steps=val_steps)"
   ]
  },
  {
   "cell_type": "code",
   "execution_count": 25,
   "metadata": {},
   "outputs": [
    {
     "data": {
      "image/png": "[encoded data removed]",
      "text/plain": [
       "<Figure size 432x288 with 1 Axes>"
      ]
     },
     "metadata": {
      "needs_background": "light"
     },
     "output_type": "display_data"
    }
   ],
   "source": [
    "import matplotlib.pyplot as plt\n",
    "%matplotlib inline\n",
    "\n",
    "loss = history.history['loss']\n",
    "val_loss = history.history['val_loss']\n",
    "\n",
    "epochs = range(len(loss))\n",
    "\n",
    "plt.plot(epochs, loss, 'bo', label='Training loss')\n",
    "plt.plot(epochs, val_loss, 'b', label='Validation loss')\n",
    "plt.title('Training and validation loss')\n",
    "plt.legend()\n",
    "\n",
    "plt.show()"
   ]
  },
  {
   "cell_type": "code",
   "execution_count": null,
   "metadata": {},
   "outputs": [],
   "source": []
  }
 ],
 "metadata": {
  "kernelspec": {
   "display_name": "Python 3",
   "language": "python",
   "name": "python3"
  },
  "language_info": {
   "codemirror_mode": {
    "name": "ipython",
    "version": 3
   },
   "file_extension": ".py",
   "mimetype": "text/x-python",
   "name": "python",
   "nbconvert_exporter": "python",
   "pygments_lexer": "ipython3",
   "version": "3.7.6"
  }
 },
 "nbformat": 4,
 "nbformat_minor": 4
}
