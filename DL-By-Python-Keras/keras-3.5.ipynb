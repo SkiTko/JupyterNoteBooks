{
 "cells": [
  {
   "cell_type": "markdown",
   "metadata": {},
   "source": [
    "# 3\n",
    "## 3.5"
   ]
  },
  {
   "cell_type": "code",
   "execution_count": 41,
   "metadata": {},
   "outputs": [],
   "source": [
    "# List 3-12\n",
    "%matplotlib inline\n",
    "\n",
    "from tensorflow.keras.datasets import reuters\n",
    "\n",
    "(train_data, train_labels), (test_data, test_labels) = reuters.load_data(num_words=10000)"
   ]
  },
  {
   "cell_type": "code",
   "execution_count": 42,
   "metadata": {},
   "outputs": [
    {
     "data": {
      "text/plain": [
       "8982"
      ]
     },
     "execution_count": 42,
     "metadata": {},
     "output_type": "execute_result"
    }
   ],
   "source": [
    "len(train_data)"
   ]
  },
  {
   "cell_type": "code",
   "execution_count": 43,
   "metadata": {},
   "outputs": [
    {
     "data": {
      "text/plain": [
       "2246"
      ]
     },
     "execution_count": 43,
     "metadata": {},
     "output_type": "execute_result"
    }
   ],
   "source": [
    "len(test_data)"
   ]
  },
  {
   "cell_type": "code",
   "execution_count": 44,
   "metadata": {},
   "outputs": [
    {
     "data": {
      "text/plain": [
       "[1,\n",
       " 245,\n",
       " 273,\n",
       " 207,\n",
       " 156,\n",
       " 53,\n",
       " 74,\n",
       " 160,\n",
       " 26,\n",
       " 14,\n",
       " 46,\n",
       " 296,\n",
       " 26,\n",
       " 39,\n",
       " 74,\n",
       " 2979,\n",
       " 3554,\n",
       " 14,\n",
       " 46,\n",
       " 4689,\n",
       " 4329,\n",
       " 86,\n",
       " 61,\n",
       " 3499,\n",
       " 4795,\n",
       " 14,\n",
       " 61,\n",
       " 451,\n",
       " 4329,\n",
       " 17,\n",
       " 12]"
      ]
     },
     "execution_count": 44,
     "metadata": {},
     "output_type": "execute_result"
    }
   ],
   "source": [
    "train_data[10]"
   ]
  },
  {
   "cell_type": "code",
   "execution_count": 45,
   "metadata": {},
   "outputs": [
    {
     "data": {
      "text/plain": [
       "'? ? ? said as a result of its december acquisition of space co it expects earnings per share in 1987 of 1 15 to 1 30 dlrs per share up from 70 cts in 1986 the company said pretax net should rise to nine to 10 mln dlrs from six mln dlrs in 1986 and rental operation revenues to 19 to 22 mln dlrs from 12 5 mln dlrs it said cash flow per share this year should be 2 50 to three dlrs reuter 3'"
      ]
     },
     "execution_count": 45,
     "metadata": {},
     "output_type": "execute_result"
    }
   ],
   "source": [
    "# List 3-13\n",
    "\n",
    "word_index = reuters.get_word_index()\n",
    "reverse_word_index = dict([(value, key) for (key, value) in word_index.items()])\n",
    "\n",
    "decoded_newswire = ' '.join([reverse_word_index.get(i-3, '?') for i in train_data[0]])\n",
    "decoded_newswire"
   ]
  },
  {
   "cell_type": "code",
   "execution_count": 46,
   "metadata": {},
   "outputs": [
    {
     "data": {
      "text/plain": [
       "3"
      ]
     },
     "execution_count": 46,
     "metadata": {},
     "output_type": "execute_result"
    }
   ],
   "source": [
    "train_labels[10]"
   ]
  },
  {
   "cell_type": "code",
   "execution_count": 47,
   "metadata": {},
   "outputs": [],
   "source": [
    "# List 3-14\n",
    "\n",
    "import numpy as np\n",
    "\n",
    "def vectorize_sequences(sequences, dimension=10000):\n",
    "    results = np.zeros((len(sequences), dimension))\n",
    "    for i, sequence in enumerate(sequences):\n",
    "        results[i, sequence] = 1.\n",
    "    return results\n",
    "\n",
    "x_train = vectorize_sequences(train_data)\n",
    "x_test  = vectorize_sequences(test_data)"
   ]
  },
  {
   "cell_type": "code",
   "execution_count": 48,
   "metadata": {},
   "outputs": [],
   "source": [
    "def to_one_hot(labels, dimension=46):\n",
    "    results = np.zeros((len(labels), dimension))\n",
    "    for i, label in enumerate(labels):\n",
    "        results[i, label] = 1.\n",
    "    return results\n",
    "\n",
    "one_hot_train_labels = to_one_hot(train_labels)\n",
    "one_hot_test_labels  = to_one_hot(test_labels)"
   ]
  },
  {
   "cell_type": "markdown",
   "metadata": {},
   "source": [
    "## 3.5.3"
   ]
  },
  {
   "cell_type": "code",
   "execution_count": 49,
   "metadata": {},
   "outputs": [],
   "source": [
    "# List 3-15\n",
    "\n",
    "from tensorflow.keras import models\n",
    "from tensorflow.keras import layers\n",
    "\n",
    "model = models.Sequential()\n",
    "model.add(layers.Dense(64, activation='relu', input_shape=(10000,)))\n",
    "model.add(layers.Dense(64, activation='relu'))\n",
    "model.add(layers.Dense(46, activation='softmax'))"
   ]
  },
  {
   "cell_type": "code",
   "execution_count": 50,
   "metadata": {},
   "outputs": [],
   "source": [
    "# List 3-16\n",
    "model.compile(optimizer='rmsprop', loss='categorical_crossentropy', metrics=['accuracy'])"
   ]
  },
  {
   "cell_type": "markdown",
   "metadata": {},
   "source": [
    "## 3.5.4"
   ]
  },
  {
   "cell_type": "code",
   "execution_count": 51,
   "metadata": {},
   "outputs": [],
   "source": [
    "# List 3-17\n",
    "\n",
    "x_val = x_train[:1000]\n",
    "partial_x_train = x_train[1000:]\n",
    "\n",
    "y_val = one_hot_train_labels[:1000]\n",
    "partial_y_train = one_hot_train_labels[1000:]"
   ]
  },
  {
   "cell_type": "code",
   "execution_count": 52,
   "metadata": {},
   "outputs": [
    {
     "name": "stdout",
     "output_type": "stream",
     "text": [
      "Train on 7982 samples, validate on 1000 samples\n",
      "Epoch 1/20\n",
      "7982/7982 [==============================] - 1s 102us/sample - loss: 2.7128 - acc: 0.4915 - val_loss: 1.8103 - val_acc: 0.6340\n",
      "Epoch 2/20\n",
      "7982/7982 [==============================] - 1s 66us/sample - loss: 1.4719 - acc: 0.6907 - val_loss: 1.3330 - val_acc: 0.7100\n",
      "Epoch 3/20\n",
      "7982/7982 [==============================] - 0s 46us/sample - loss: 1.0805 - acc: 0.7633 - val_loss: 1.1426 - val_acc: 0.7500\n",
      "Epoch 4/20\n",
      "7982/7982 [==============================] - 0s 62us/sample - loss: 0.8452 - acc: 0.8197 - val_loss: 1.0357 - val_acc: 0.7840\n",
      "Epoch 5/20\n",
      "7982/7982 [==============================] - 1s 64us/sample - loss: 0.6647 - acc: 0.8607 - val_loss: 0.9509 - val_acc: 0.8100\n",
      "Epoch 6/20\n",
      "7982/7982 [==============================] - 0s 58us/sample - loss: 0.5244 - acc: 0.8925 - val_loss: 0.9071 - val_acc: 0.8160\n",
      "Epoch 7/20\n",
      "7982/7982 [==============================] - 0s 56us/sample - loss: 0.4229 - acc: 0.9138 - val_loss: 0.8842 - val_acc: 0.8110\n",
      "Epoch 8/20\n",
      "7982/7982 [==============================] - 0s 60us/sample - loss: 0.3403 - acc: 0.9307 - val_loss: 0.8908 - val_acc: 0.8150\n",
      "Epoch 9/20\n",
      "7982/7982 [==============================] - 1s 64us/sample - loss: 0.2793 - acc: 0.9405 - val_loss: 0.8934 - val_acc: 0.8110\n",
      "Epoch 10/20\n",
      "7982/7982 [==============================] - 0s 62us/sample - loss: 0.2354 - acc: 0.9451 - val_loss: 0.8783 - val_acc: 0.8220\n",
      "Epoch 11/20\n",
      "7982/7982 [==============================] - 0s 60us/sample - loss: 0.2065 - acc: 0.9498 - val_loss: 0.8668 - val_acc: 0.8300\n",
      "Epoch 12/20\n",
      "7982/7982 [==============================] - 0s 58us/sample - loss: 0.1762 - acc: 0.9543 - val_loss: 0.8899 - val_acc: 0.8230\n",
      "Epoch 13/20\n",
      "7982/7982 [==============================] - 1s 66us/sample - loss: 0.1601 - acc: 0.9554 - val_loss: 0.9032 - val_acc: 0.8140\n",
      "Epoch 14/20\n",
      "7982/7982 [==============================] - 0s 62us/sample - loss: 0.1459 - acc: 0.9550 - val_loss: 0.9677 - val_acc: 0.8140\n",
      "Epoch 15/20\n",
      "7982/7982 [==============================] - 0s 55us/sample - loss: 0.1384 - acc: 0.9562 - val_loss: 0.9388 - val_acc: 0.8180\n",
      "Epoch 16/20\n",
      "7982/7982 [==============================] - 1s 67us/sample - loss: 0.1292 - acc: 0.9558 - val_loss: 1.0290 - val_acc: 0.8000\n",
      "Epoch 17/20\n",
      "7982/7982 [==============================] - 1s 68us/sample - loss: 0.1233 - acc: 0.9563 - val_loss: 1.0088 - val_acc: 0.8080\n",
      "Epoch 18/20\n",
      "7982/7982 [==============================] - 1s 68us/sample - loss: 0.1217 - acc: 0.9573 - val_loss: 1.0069 - val_acc: 0.8020\n",
      "Epoch 19/20\n",
      "7982/7982 [==============================] - 1s 79us/sample - loss: 0.1128 - acc: 0.9575 - val_loss: 1.0119 - val_acc: 0.8090\n",
      "Epoch 20/20\n",
      "7982/7982 [==============================] - 1s 78us/sample - loss: 0.1127 - acc: 0.9577 - val_loss: 1.0397 - val_acc: 0.8110\n"
     ]
    }
   ],
   "source": [
    "# List 3-18\n",
    "\n",
    "history = model.fit(partial_x_train, partial_y_train, epochs=20, batch_size=512, validation_data=(x_val, y_val))"
   ]
  },
  {
   "cell_type": "code",
   "execution_count": 53,
   "metadata": {},
   "outputs": [
    {
     "data": {
      "image/png": "[encoded data removed]",
      "text/plain": [
       "<Figure size 432x288 with 1 Axes>"
      ]
     },
     "metadata": {
      "needs_background": "light"
     },
     "output_type": "display_data"
    }
   ],
   "source": [
    "# List 3-19\n",
    "\n",
    "import matplotlib.pyplot as plt\n",
    "\n",
    "loss = history.history['loss']\n",
    "val_loss = history.history['val_loss']\n",
    "epochs = range(1, len(loss) + 1)\n",
    "\n",
    "plt.plot(epochs, loss, 'bo', label='Training loss')\n",
    "plt.plot(epochs, val_loss, 'b', label='Validation loss')\n",
    "plt.title('Training and validation loss')\n",
    "plt.xlabel('Epochs')\n",
    "plt.ylabel('Loss')\n",
    "plt.legend()\n",
    "plt.show()"
   ]
  },
  {
   "cell_type": "code",
   "execution_count": 54,
   "metadata": {},
   "outputs": [
    {
     "data": {
      "image/png": "[encoded data removed]",
      "text/plain": [
       "<Figure size 432x288 with 1 Axes>"
      ]
     },
     "metadata": {
      "needs_background": "light"
     },
     "output_type": "display_data"
    }
   ],
   "source": [
    "# List 3-20\n",
    "\n",
    "plt.clf()\n",
    "\n",
    "acc = history.history['acc']\n",
    "val_acc = history.history['val_acc']\n",
    "\n",
    "plt.plot(epochs, acc, 'bo', label='Training acc')\n",
    "plt.plot(epochs, val_acc, 'b', label='Validation acc')\n",
    "plt.title('Training and validation accracy')\n",
    "plt.xlabel('Epochs')\n",
    "plt.ylabel('Accuracy')\n",
    "plt.legend()\n",
    "plt.show()"
   ]
  },
  {
   "cell_type": "code",
   "execution_count": 55,
   "metadata": {},
   "outputs": [
    {
     "name": "stdout",
     "output_type": "stream",
     "text": [
      "Train on 7982 samples, validate on 1000 samples\n",
      "Epoch 1/8\n",
      "7982/7982 [==============================] - 1s 106us/sample - loss: 2.7596 - acc: 0.4825 - val_loss: 1.8564 - val_acc: 0.6190\n",
      "Epoch 2/8\n",
      "7982/7982 [==============================] - 1s 85us/sample - loss: 1.5245 - acc: 0.6898 - val_loss: 1.3795 - val_acc: 0.7090\n",
      "Epoch 3/8\n",
      "7982/7982 [==============================] - 1s 63us/sample - loss: 1.1286 - acc: 0.7576 - val_loss: 1.1789 - val_acc: 0.7430\n",
      "Epoch 4/8\n",
      "7982/7982 [==============================] - 0s 49us/sample - loss: 0.8920 - acc: 0.8118 - val_loss: 1.0848 - val_acc: 0.7720\n",
      "Epoch 5/8\n",
      "7982/7982 [==============================] - 1s 67us/sample - loss: 0.7156 - acc: 0.8498 - val_loss: 1.0033 - val_acc: 0.7880\n",
      "Epoch 6/8\n",
      "7982/7982 [==============================] - 0s 61us/sample - loss: 0.5807 - acc: 0.8807 - val_loss: 0.9457 - val_acc: 0.8100\n",
      "Epoch 7/8\n",
      "7982/7982 [==============================] - 0s 60us/sample - loss: 0.4672 - acc: 0.9029 - val_loss: 0.9345 - val_acc: 0.8050\n",
      "Epoch 8/8\n",
      "7982/7982 [==============================] - 0s 54us/sample - loss: 0.3869 - acc: 0.9184 - val_loss: 0.9059 - val_acc: 0.8160\n",
      "2246/2246 [==============================] - 0s 102us/sample - loss: 0.9927 - acc: 0.7818\n"
     ]
    },
    {
     "data": {
      "text/plain": [
       "[0.9926914196405046, 0.78183436]"
      ]
     },
     "execution_count": 55,
     "metadata": {},
     "output_type": "execute_result"
    }
   ],
   "source": [
    "# List 3-21\n",
    "\n",
    "model = models.Sequential()\n",
    "model.add(layers.Dense(64, activation='relu', input_shape=(10000,)))\n",
    "model.add(layers.Dense(64, activation='relu'))\n",
    "model.add(layers.Dense(46, activation='softmax'))\n",
    "\n",
    "model.compile(optimizer='rmsprop', loss='categorical_crossentropy', metrics=['accuracy'])\n",
    "\n",
    "history = model.fit(partial_x_train, partial_y_train, epochs=8, batch_size=512, validation_data=(x_val, y_val))\n",
    "\n",
    "results = model.evaluate(x_test, one_hot_test_labels)\n",
    "results"
   ]
  },
  {
   "cell_type": "code",
   "execution_count": 56,
   "metadata": {},
   "outputs": [
    {
     "data": {
      "text/plain": [
       "0.188780053428317"
      ]
     },
     "execution_count": 56,
     "metadata": {},
     "output_type": "execute_result"
    }
   ],
   "source": [
    "import copy\n",
    "\n",
    "test_labels_copy = copy.copy(test_labels)\n",
    "np.random.shuffle(test_labels_copy)\n",
    "float(np.sum(np.array(test_labels) == np.array(test_labels_copy))) / len(test_labels)"
   ]
  },
  {
   "cell_type": "markdown",
   "metadata": {},
   "source": [
    "## 3.5.5"
   ]
  },
  {
   "cell_type": "code",
   "execution_count": 57,
   "metadata": {},
   "outputs": [
    {
     "data": {
      "text/plain": [
       "(46,)"
      ]
     },
     "execution_count": 57,
     "metadata": {},
     "output_type": "execute_result"
    }
   ],
   "source": [
    "# List 3-22\n",
    "\n",
    "predictions = model.predict(x_test)\n",
    "predictions[0].shape"
   ]
  },
  {
   "cell_type": "code",
   "execution_count": 58,
   "metadata": {},
   "outputs": [
    {
     "data": {
      "text/plain": [
       "1.0"
      ]
     },
     "execution_count": 58,
     "metadata": {},
     "output_type": "execute_result"
    }
   ],
   "source": [
    "np.sum(predictions[0])"
   ]
  },
  {
   "cell_type": "code",
   "execution_count": 59,
   "metadata": {},
   "outputs": [
    {
     "data": {
      "text/plain": [
       "3"
      ]
     },
     "execution_count": 59,
     "metadata": {},
     "output_type": "execute_result"
    }
   ],
   "source": [
    "np.argmax(predictions[0])"
   ]
  },
  {
   "cell_type": "markdown",
   "metadata": {},
   "source": [
    "## 3.5.6"
   ]
  },
  {
   "cell_type": "code",
   "execution_count": 60,
   "metadata": {},
   "outputs": [],
   "source": [
    "y_train = np.array(train_labels)\n",
    "y_test  = np.array(test_labels)"
   ]
  },
  {
   "cell_type": "code",
   "execution_count": 61,
   "metadata": {},
   "outputs": [
    {
     "name": "stdout",
     "output_type": "stream",
     "text": [
      "Train on 7982 samples, validate on 1000 samples\n",
      "Epoch 1/8\n",
      "7982/7982 [==============================] - 1s 79us/sample - loss: 2.7740 - acc: 0.4746 - val_loss: 1.8178 - val_acc: 0.6260\n",
      "Epoch 2/8\n",
      "7982/7982 [==============================] - 1s 64us/sample - loss: 1.4700 - acc: 0.7017 - val_loss: 1.3430 - val_acc: 0.7110\n",
      "Epoch 3/8\n",
      "7982/7982 [==============================] - 0s 54us/sample - loss: 1.0792 - acc: 0.7794 - val_loss: 1.1553 - val_acc: 0.7530\n",
      "Epoch 4/8\n",
      "7982/7982 [==============================] - 0s 47us/sample - loss: 0.8407 - acc: 0.8235 - val_loss: 1.0620 - val_acc: 0.7750\n",
      "Epoch 5/8\n",
      "7982/7982 [==============================] - 0s 52us/sample - loss: 0.6716 - acc: 0.8584 - val_loss: 0.9677 - val_acc: 0.8000\n",
      "Epoch 6/8\n",
      "7982/7982 [==============================] - 0s 44us/sample - loss: 0.5391 - acc: 0.8867 - val_loss: 0.9348 - val_acc: 0.8000\n",
      "Epoch 7/8\n",
      "7982/7982 [==============================] - 1s 67us/sample - loss: 0.4335 - acc: 0.9102 - val_loss: 0.9177 - val_acc: 0.8010\n",
      "Epoch 8/8\n",
      "7982/7982 [==============================] - 0s 45us/sample - loss: 0.3524 - acc: 0.9257 - val_loss: 0.9276 - val_acc: 0.8080\n",
      "2246/2246 [==============================] - 0s 84us/sample - loss: 1.0060 - acc: 0.7769\n"
     ]
    },
    {
     "data": {
      "text/plain": [
       "[1.0059738921354842, 0.77693677]"
      ]
     },
     "execution_count": 61,
     "metadata": {},
     "output_type": "execute_result"
    }
   ],
   "source": [
    "x_train = vectorize_sequences(train_data)\n",
    "x_test  = vectorize_sequences(test_data)\n",
    "\n",
    "x_val = x_train[:1000]\n",
    "partial_x_train = x_train[1000:]\n",
    "\n",
    "y_val = y_train[:1000]\n",
    "partial_y_train = y_train[1000:]\n",
    "\n",
    "model = models.Sequential()\n",
    "model.add(layers.Dense(64, activation='relu', input_shape=(10000,)))\n",
    "model.add(layers.Dense(64, activation='relu'))\n",
    "model.add(layers.Dense(46, activation='softmax'))\n",
    "\n",
    "model.compile(optimizer='rmsprop', loss='sparse_categorical_crossentropy', metrics=['accuracy'])\n",
    "\n",
    "history = model.fit(partial_x_train, partial_y_train, epochs=8, batch_size=512, validation_data=(x_val, y_val))\n",
    "\n",
    "results = model.evaluate(x_test, y_test)\n",
    "results"
   ]
  },
  {
   "cell_type": "markdown",
   "metadata": {},
   "source": [
    "## 3.5.7"
   ]
  },
  {
   "cell_type": "code",
   "execution_count": 62,
   "metadata": {},
   "outputs": [
    {
     "name": "stdout",
     "output_type": "stream",
     "text": [
      "Train on 7982 samples, validate on 1000 samples\n",
      "Epoch 1/20\n",
      "7982/7982 [==============================] - 1s 101us/sample - loss: 3.5632 - acc: 0.1010 - val_loss: 3.2328 - val_acc: 0.2280\n",
      "Epoch 2/20\n",
      "7982/7982 [==============================] - 0s 62us/sample - loss: 2.8758 - acc: 0.2276 - val_loss: 2.5434 - val_acc: 0.2630\n",
      "Epoch 3/20\n",
      "7982/7982 [==============================] - 0s 62us/sample - loss: 2.1668 - acc: 0.2686 - val_loss: 1.9372 - val_acc: 0.2780\n",
      "Epoch 4/20\n",
      "7982/7982 [==============================] - 0s 62us/sample - loss: 1.6750 - acc: 0.4609 - val_loss: 1.7263 - val_acc: 0.5510\n",
      "Epoch 5/20\n",
      "7982/7982 [==============================] - 0s 62us/sample - loss: 1.3845 - acc: 0.6411 - val_loss: 1.5307 - val_acc: 0.6620\n",
      "Epoch 6/20\n",
      "7982/7982 [==============================] - 0s 62us/sample - loss: 1.1506 - acc: 0.7221 - val_loss: 1.4496 - val_acc: 0.6820\n",
      "Epoch 7/20\n",
      "7982/7982 [==============================] - 0s 62us/sample - loss: 1.0101 - acc: 0.7533 - val_loss: 1.4034 - val_acc: 0.6960\n",
      "Epoch 8/20\n",
      "7982/7982 [==============================] - 1s 63us/sample - loss: 0.9138 - acc: 0.7710 - val_loss: 1.3862 - val_acc: 0.7010\n",
      "Epoch 9/20\n",
      "7982/7982 [==============================] - 0s 62us/sample - loss: 0.8371 - acc: 0.7928 - val_loss: 1.4377 - val_acc: 0.6940\n",
      "Epoch 10/20\n",
      "7982/7982 [==============================] - 0s 62us/sample - loss: 0.7731 - acc: 0.8056 - val_loss: 1.4263 - val_acc: 0.7050\n",
      "Epoch 11/20\n",
      "7982/7982 [==============================] - 0s 61us/sample - loss: 0.7167 - acc: 0.8177 - val_loss: 1.4804 - val_acc: 0.7120\n",
      "Epoch 12/20\n",
      "7982/7982 [==============================] - 0s 62us/sample - loss: 0.6720 - acc: 0.8264 - val_loss: 1.5068 - val_acc: 0.7090\n",
      "Epoch 13/20\n",
      "7982/7982 [==============================] - 1s 63us/sample - loss: 0.6292 - acc: 0.8365 - val_loss: 1.5554 - val_acc: 0.7080\n",
      "Epoch 14/20\n",
      "7982/7982 [==============================] - 1s 63us/sample - loss: 0.5917 - acc: 0.8449 - val_loss: 1.6068 - val_acc: 0.7140\n",
      "Epoch 15/20\n",
      "7982/7982 [==============================] - 0s 61us/sample - loss: 0.5585 - acc: 0.8554 - val_loss: 1.6331 - val_acc: 0.7150\n",
      "Epoch 16/20\n",
      "7982/7982 [==============================] - 0s 62us/sample - loss: 0.5282 - acc: 0.8597 - val_loss: 1.6985 - val_acc: 0.7140\n",
      "Epoch 17/20\n",
      "7982/7982 [==============================] - 0s 62us/sample - loss: 0.5037 - acc: 0.8662 - val_loss: 1.7840 - val_acc: 0.7050\n",
      "Epoch 18/20\n",
      "7982/7982 [==============================] - 1s 63us/sample - loss: 0.4793 - acc: 0.8731 - val_loss: 1.8415 - val_acc: 0.7000\n",
      "Epoch 19/20\n",
      "7982/7982 [==============================] - 0s 62us/sample - loss: 0.4577 - acc: 0.8772 - val_loss: 1.9239 - val_acc: 0.7030\n",
      "Epoch 20/20\n",
      "7982/7982 [==============================] - 0s 63us/sample - loss: 0.4402 - acc: 0.8826 - val_loss: 1.9514 - val_acc: 0.7020\n"
     ]
    }
   ],
   "source": [
    "x_train = vectorize_sequences(train_data)\n",
    "x_test  = vectorize_sequences(test_data)\n",
    "\n",
    "one_hot_train_labels = to_one_hot(train_labels)\n",
    "one_hot_test_labels  = to_one_hot(test_labels)\n",
    "\n",
    "x_val = x_train[:1000]\n",
    "partial_x_train = x_train[1000:]\n",
    "\n",
    "y_val = one_hot_train_labels[:1000]\n",
    "partial_y_train = one_hot_train_labels[1000:]\n",
    "\n",
    "# List 3-23\n",
    "model = models.Sequential()\n",
    "model.add(layers.Dense(64, activation='relu', input_shape=(10000,)))\n",
    "model.add(layers.Dense(4, activation='relu'))\n",
    "model.add(layers.Dense(46, activation='softmax'))\n",
    "\n",
    "model.compile(optimizer='rmsprop', loss='categorical_crossentropy', metrics=['accuracy'])\n",
    "\n",
    "history = model.fit(partial_x_train, partial_y_train, epochs=20, batch_size=128, validation_data=(x_val, y_val))"
   ]
  },
  {
   "cell_type": "code",
   "execution_count": 63,
   "metadata": {},
   "outputs": [
    {
     "data": {
      "image/png": "[encoded data removed]",
      "text/plain": [
       "<Figure size 432x288 with 1 Axes>"
      ]
     },
     "metadata": {
      "needs_background": "light"
     },
     "output_type": "display_data"
    }
   ],
   "source": [
    "plt.clf()\n",
    "\n",
    "loss = history.history['loss']\n",
    "val_loss = history.history['val_loss']\n",
    "epochs = range(1, len(loss) + 1)\n",
    "\n",
    "plt.plot(epochs, loss, 'bo', label='Training loss')\n",
    "plt.plot(epochs, val_loss, 'b', label='Validation loss')\n",
    "plt.title('Training and validation loss')\n",
    "plt.xlabel('Epochs')\n",
    "plt.ylabel('Loss')\n",
    "plt.legend()\n",
    "plt.show()"
   ]
  },
  {
   "cell_type": "code",
   "execution_count": 64,
   "metadata": {},
   "outputs": [
    {
     "data": {
      "image/png": "[encoded data removed]",
      "text/plain": [
       "<Figure size 432x288 with 1 Axes>"
      ]
     },
     "metadata": {
      "needs_background": "light"
     },
     "output_type": "display_data"
    }
   ],
   "source": [
    "plt.clf()\n",
    "\n",
    "acc = history.history['acc']\n",
    "val_acc = history.history['val_acc']\n",
    "\n",
    "plt.plot(epochs, acc, 'bo', label='Training acc')\n",
    "plt.plot(epochs, val_acc, 'b', label='Validation acc')\n",
    "plt.title('Training and validation accracy')\n",
    "plt.xlabel('Epochs')\n",
    "plt.ylabel('Accuracy')\n",
    "plt.legend()\n",
    "plt.show()"
   ]
  },
  {
   "cell_type": "markdown",
   "metadata": {},
   "source": [
    "## 3.5.8\n",
    "### 小さい中間層"
   ]
  },
  {
   "cell_type": "code",
   "execution_count": 65,
   "metadata": {},
   "outputs": [
    {
     "name": "stdout",
     "output_type": "stream",
     "text": [
      "Train on 7982 samples, validate on 1000 samples\n",
      "Epoch 1/20\n",
      "7982/7982 [==============================] - 1s 92us/sample - loss: 1.9423 - acc: 0.6054 - val_loss: 1.3078 - val_acc: 0.6940\n",
      "Epoch 2/20\n",
      "7982/7982 [==============================] - 1s 64us/sample - loss: 1.0497 - acc: 0.7705 - val_loss: 1.0956 - val_acc: 0.7410\n",
      "Epoch 3/20\n",
      "7982/7982 [==============================] - 1s 65us/sample - loss: 0.7434 - acc: 0.8384 - val_loss: 0.9528 - val_acc: 0.8000\n",
      "Epoch 4/20\n",
      "7982/7982 [==============================] - 1s 65us/sample - loss: 0.5369 - acc: 0.8864 - val_loss: 0.9020 - val_acc: 0.8110\n",
      "Epoch 5/20\n",
      "7982/7982 [==============================] - 1s 64us/sample - loss: 0.3915 - acc: 0.9168 - val_loss: 0.9307 - val_acc: 0.8050\n",
      "Epoch 6/20\n",
      "7982/7982 [==============================] - 1s 64us/sample - loss: 0.3038 - acc: 0.9346 - val_loss: 0.8757 - val_acc: 0.8310\n",
      "Epoch 7/20\n",
      "7982/7982 [==============================] - 1s 64us/sample - loss: 0.2414 - acc: 0.9420 - val_loss: 0.9086 - val_acc: 0.8270\n",
      "Epoch 8/20\n",
      "7982/7982 [==============================] - 1s 65us/sample - loss: 0.2039 - acc: 0.9480 - val_loss: 0.9370 - val_acc: 0.8170\n",
      "Epoch 9/20\n",
      "7982/7982 [==============================] - 1s 63us/sample - loss: 0.1775 - acc: 0.9514 - val_loss: 0.9963 - val_acc: 0.8120\n",
      "Epoch 10/20\n",
      "7982/7982 [==============================] - 1s 63us/sample - loss: 0.1648 - acc: 0.9534 - val_loss: 1.0509 - val_acc: 0.8030\n",
      "Epoch 11/20\n",
      "7982/7982 [==============================] - 1s 64us/sample - loss: 0.1475 - acc: 0.9550 - val_loss: 1.0354 - val_acc: 0.8030\n",
      "Epoch 12/20\n",
      "7982/7982 [==============================] - 1s 64us/sample - loss: 0.1397 - acc: 0.9570 - val_loss: 1.1103 - val_acc: 0.8050\n",
      "Epoch 13/20\n",
      "7982/7982 [==============================] - 1s 64us/sample - loss: 0.1347 - acc: 0.9568 - val_loss: 1.0950 - val_acc: 0.8080\n",
      "Epoch 14/20\n",
      "7982/7982 [==============================] - 1s 65us/sample - loss: 0.1295 - acc: 0.9579 - val_loss: 1.1215 - val_acc: 0.8110\n",
      "Epoch 15/20\n",
      "7982/7982 [==============================] - 1s 65us/sample - loss: 0.1243 - acc: 0.9569 - val_loss: 1.1376 - val_acc: 0.7990\n",
      "Epoch 16/20\n",
      "7982/7982 [==============================] - 1s 63us/sample - loss: 0.1251 - acc: 0.9555 - val_loss: 1.1883 - val_acc: 0.7980\n",
      "Epoch 17/20\n",
      "7982/7982 [==============================] - 1s 64us/sample - loss: 0.1225 - acc: 0.9563 - val_loss: 1.2221 - val_acc: 0.7920\n",
      "Epoch 18/20\n",
      "7982/7982 [==============================] - 1s 63us/sample - loss: 0.1169 - acc: 0.9560 - val_loss: 1.1761 - val_acc: 0.7980\n",
      "Epoch 19/20\n",
      "7982/7982 [==============================] - 1s 65us/sample - loss: 0.1138 - acc: 0.9565 - val_loss: 1.2522 - val_acc: 0.7860\n",
      "Epoch 20/20\n",
      "7982/7982 [==============================] - 1s 64us/sample - loss: 0.1143 - acc: 0.9578 - val_loss: 1.2224 - val_acc: 0.8060\n"
     ]
    }
   ],
   "source": [
    "model = models.Sequential()\n",
    "model.add(layers.Dense(64, activation='relu', input_shape=(10000,)))\n",
    "model.add(layers.Dense(32, activation='relu'))\n",
    "model.add(layers.Dense(46, activation='softmax'))\n",
    "\n",
    "model.compile(optimizer='rmsprop', loss='categorical_crossentropy', metrics=['accuracy'])\n",
    "\n",
    "history = model.fit(partial_x_train, partial_y_train, epochs=20, batch_size=128, validation_data=(x_val, y_val))"
   ]
  },
  {
   "cell_type": "code",
   "execution_count": 66,
   "metadata": {},
   "outputs": [
    {
     "data": {
      "image/png": "[encoded data removed]",
      "text/plain": [
       "<Figure size 432x288 with 1 Axes>"
      ]
     },
     "metadata": {
      "needs_background": "light"
     },
     "output_type": "display_data"
    }
   ],
   "source": [
    "plt.clf()\n",
    "\n",
    "loss = history.history['loss']\n",
    "val_loss = history.history['val_loss']\n",
    "epochs = range(1, len(loss) + 1)\n",
    "\n",
    "plt.plot(epochs, loss, 'bo', label='Training loss')\n",
    "plt.plot(epochs, val_loss, 'b', label='Validation loss')\n",
    "plt.title('Training and validation loss')\n",
    "plt.xlabel('Epochs')\n",
    "plt.ylabel('Loss')\n",
    "plt.legend()\n",
    "plt.show()"
   ]
  },
  {
   "cell_type": "code",
   "execution_count": 67,
   "metadata": {},
   "outputs": [
    {
     "data": {
      "image/png": "[encoded data removed]",
      "text/plain": [
       "<Figure size 432x288 with 1 Axes>"
      ]
     },
     "metadata": {
      "needs_background": "light"
     },
     "output_type": "display_data"
    }
   ],
   "source": [
    "plt.clf()\n",
    "\n",
    "acc = history.history['acc']\n",
    "val_acc = history.history['val_acc']\n",
    "\n",
    "plt.plot(epochs, acc, 'bo', label='Training acc')\n",
    "plt.plot(epochs, val_acc, 'b', label='Validation acc')\n",
    "plt.title('Training and validation accracy')\n",
    "plt.xlabel('Epochs')\n",
    "plt.ylabel('Accuracy')\n",
    "plt.legend()\n",
    "plt.show()"
   ]
  },
  {
   "cell_type": "markdown",
   "metadata": {},
   "source": [
    "### 大きい中間層"
   ]
  },
  {
   "cell_type": "code",
   "execution_count": 68,
   "metadata": {},
   "outputs": [
    {
     "name": "stdout",
     "output_type": "stream",
     "text": [
      "Train on 7982 samples, validate on 1000 samples\n",
      "Epoch 1/20\n",
      "7982/7982 [==============================] - 1s 99us/sample - loss: 1.7299 - acc: 0.6396 - val_loss: 1.2097 - val_acc: 0.7270\n",
      "Epoch 2/20\n",
      "7982/7982 [==============================] - 1s 66us/sample - loss: 0.9198 - acc: 0.8022 - val_loss: 0.9765 - val_acc: 0.8000\n",
      "Epoch 3/20\n",
      "7982/7982 [==============================] - 1s 66us/sample - loss: 0.5974 - acc: 0.8712 - val_loss: 0.8944 - val_acc: 0.8220\n",
      "Epoch 4/20\n",
      "7982/7982 [==============================] - 1s 69us/sample - loss: 0.4037 - acc: 0.9131 - val_loss: 0.9064 - val_acc: 0.8270\n",
      "Epoch 5/20\n",
      "7982/7982 [==============================] - 1s 67us/sample - loss: 0.2860 - acc: 0.9365 - val_loss: 0.8995 - val_acc: 0.8230\n",
      "Epoch 6/20\n",
      "7982/7982 [==============================] - 1s 67us/sample - loss: 0.2286 - acc: 0.9444 - val_loss: 0.9410 - val_acc: 0.8250\n",
      "Epoch 7/20\n",
      "7982/7982 [==============================] - 1s 65us/sample - loss: 0.1900 - acc: 0.9513 - val_loss: 0.9789 - val_acc: 0.8100\n",
      "Epoch 8/20\n",
      "7982/7982 [==============================] - 1s 66us/sample - loss: 0.1703 - acc: 0.9534 - val_loss: 1.0776 - val_acc: 0.8020\n",
      "Epoch 9/20\n",
      "7982/7982 [==============================] - 1s 67us/sample - loss: 0.1533 - acc: 0.9568 - val_loss: 1.0612 - val_acc: 0.8080\n",
      "Epoch 10/20\n",
      "7982/7982 [==============================] - 1s 66us/sample - loss: 0.1446 - acc: 0.9544 - val_loss: 1.0322 - val_acc: 0.8120\n",
      "Epoch 11/20\n",
      "7982/7982 [==============================] - 1s 68us/sample - loss: 0.1372 - acc: 0.9563 - val_loss: 1.0837 - val_acc: 0.7980\n",
      "Epoch 12/20\n",
      "7982/7982 [==============================] - 1s 67us/sample - loss: 0.1285 - acc: 0.9575 - val_loss: 1.1719 - val_acc: 0.7990\n",
      "Epoch 13/20\n",
      "7982/7982 [==============================] - 1s 68us/sample - loss: 0.1227 - acc: 0.9577 - val_loss: 1.1409 - val_acc: 0.7970\n",
      "Epoch 14/20\n",
      "7982/7982 [==============================] - 1s 68us/sample - loss: 0.1178 - acc: 0.9579 - val_loss: 1.2123 - val_acc: 0.7880\n",
      "Epoch 15/20\n",
      "7982/7982 [==============================] - 1s 67us/sample - loss: 0.1175 - acc: 0.9560 - val_loss: 1.1413 - val_acc: 0.8010\n",
      "Epoch 16/20\n",
      "7982/7982 [==============================] - 1s 66us/sample - loss: 0.1106 - acc: 0.9548 - val_loss: 1.1811 - val_acc: 0.7930\n",
      "Epoch 17/20\n",
      "7982/7982 [==============================] - 1s 66us/sample - loss: 0.1043 - acc: 0.9570 - val_loss: 1.2314 - val_acc: 0.8020\n",
      "Epoch 18/20\n",
      "7982/7982 [==============================] - 1s 69us/sample - loss: 0.1033 - acc: 0.9562 - val_loss: 1.2754 - val_acc: 0.8040\n",
      "Epoch 19/20\n",
      "7982/7982 [==============================] - 1s 69us/sample - loss: 0.0995 - acc: 0.9584 - val_loss: 1.2776 - val_acc: 0.8000\n",
      "Epoch 20/20\n",
      "7982/7982 [==============================] - 1s 67us/sample - loss: 0.0961 - acc: 0.9580 - val_loss: 1.3648 - val_acc: 0.8000\n"
     ]
    }
   ],
   "source": [
    "model = models.Sequential()\n",
    "model.add(layers.Dense(64, activation='relu', input_shape=(10000,)))\n",
    "model.add(layers.Dense(128, activation='relu'))\n",
    "model.add(layers.Dense(46, activation='softmax'))\n",
    "\n",
    "model.compile(optimizer='rmsprop', loss='categorical_crossentropy', metrics=['accuracy'])\n",
    "\n",
    "history = model.fit(partial_x_train, partial_y_train, epochs=20, batch_size=128, validation_data=(x_val, y_val))"
   ]
  },
  {
   "cell_type": "code",
   "execution_count": 69,
   "metadata": {},
   "outputs": [
    {
     "data": {
      "image/png": "[encoded data removed]",
      "text/plain": [
       "<Figure size 432x288 with 1 Axes>"
      ]
     },
     "metadata": {
      "needs_background": "light"
     },
     "output_type": "display_data"
    }
   ],
   "source": [
    "plt.clf()\n",
    "\n",
    "loss = history.history['loss']\n",
    "val_loss = history.history['val_loss']\n",
    "epochs = range(1, len(loss) + 1)\n",
    "\n",
    "plt.plot(epochs, loss, 'bo', label='Training loss')\n",
    "plt.plot(epochs, val_loss, 'b', label='Validation loss')\n",
    "plt.title('Training and validation loss')\n",
    "plt.xlabel('Epochs')\n",
    "plt.ylabel('Loss')\n",
    "plt.legend()\n",
    "plt.show()"
   ]
  },
  {
   "cell_type": "code",
   "execution_count": 70,
   "metadata": {},
   "outputs": [
    {
     "data": {
      "image/png": "[encoded data removed]",
      "text/plain": [
       "<Figure size 432x288 with 1 Axes>"
      ]
     },
     "metadata": {
      "needs_background": "light"
     },
     "output_type": "display_data"
    }
   ],
   "source": [
    "plt.clf()\n",
    "\n",
    "acc = history.history['acc']\n",
    "val_acc = history.history['val_acc']\n",
    "\n",
    "plt.plot(epochs, acc, 'bo', label='Training acc')\n",
    "plt.plot(epochs, val_acc, 'b', label='Validation acc')\n",
    "plt.title('Training and validation accracy')\n",
    "plt.xlabel('Epochs')\n",
    "plt.ylabel('Accuracy')\n",
    "plt.legend()\n",
    "plt.show()"
   ]
  },
  {
   "cell_type": "markdown",
   "metadata": {},
   "source": [
    "### 隠れ層を1つにする"
   ]
  },
  {
   "cell_type": "code",
   "execution_count": null,
   "metadata": {},
   "outputs": [
    {
     "name": "stdout",
     "output_type": "stream",
     "text": [
      "Train on 7982 samples, validate on 1000 samples\n",
      "Epoch 1/20\n",
      "7982/7982 [==============================] - 1s 103us/sample - loss: 2.5757 - acc: 0.5524 - val_loss: 1.8282 - val_acc: 0.6610\n",
      "Epoch 2/20\n",
      "7982/7982 [==============================] - 0s 56us/sample - loss: 1.4623 - acc: 0.7209 - val_loss: 1.3523 - val_acc: 0.7200\n",
      "Epoch 3/20\n",
      "7982/7982 [==============================] - 0s 59us/sample - loss: 1.0568 - acc: 0.7890 - val_loss: 1.1495 - val_acc: 0.7650\n",
      "Epoch 4/20\n",
      "7982/7982 [==============================] - 0s 46us/sample - loss: 0.8220 - acc: 0.8374 - val_loss: 1.0226 - val_acc: 0.7980\n",
      "Epoch 5/20\n",
      "7982/7982 [==============================] - 0s 43us/sample - loss: 0.6593 - acc: 0.8750 - val_loss: 0.9441 - val_acc: 0.8090\n",
      "Epoch 6/20\n",
      "7982/7982 [==============================] - 0s 43us/sample - loss: 0.5375 - acc: 0.8961 - val_loss: 0.8933 - val_acc: 0.8180\n",
      "Epoch 7/20\n",
      "7982/7982 [==============================] - 1s 67us/sample - loss: 0.4449 - acc: 0.9129 - val_loss: 0.8532 - val_acc: 0.8230\n",
      "Epoch 8/20\n",
      "7982/7982 [==============================] - 0s 58us/sample - loss: 0.3686 - acc: 0.9258 - val_loss: 0.8422 - val_acc: 0.8280\n",
      "Epoch 9/20\n",
      "7982/7982 [==============================] - 1s 76us/sample - loss: 0.3110 - acc: 0.9357 - val_loss: 0.8268 - val_acc: 0.8200\n",
      "Epoch 10/20\n",
      "7982/7982 [==============================] - 1s 63us/sample - loss: 0.2669 - acc: 0.9412 - val_loss: 0.8346 - val_acc: 0.8180\n",
      "Epoch 11/20\n",
      "7982/7982 [==============================] - 0s 51us/sample - loss: 0.2283 - acc: 0.9484 - val_loss: 0.8261 - val_acc: 0.8290\n",
      "Epoch 12/20\n",
      "7982/7982 [==============================] - 0s 62us/sample - loss: 0.2018 - acc: 0.9508 - val_loss: 0.8206 - val_acc: 0.8250\n",
      "Epoch 13/20\n",
      "7982/7982 [==============================] - 0s 61us/sample - loss: 0.1790 - acc: 0.9535 - val_loss: 0.8348 - val_acc: 0.8220\n",
      "Epoch 14/20\n",
      "7982/7982 [==============================] - 0s 48us/sample - loss: 0.1601 - acc: 0.9550 - val_loss: 0.8456 - val_acc: 0.8230\n",
      "Epoch 15/20\n",
      "7982/7982 [==============================] - 1s 65us/sample - loss: 0.1473 - acc: 0.9548 - val_loss: 0.8569 - val_acc: 0.8200\n",
      "Epoch 16/20\n",
      "7982/7982 [==============================] - 0s 54us/sample - loss: 0.1369 - acc: 0.9548 - val_loss: 0.8718 - val_acc: 0.8220\n",
      "Epoch 17/20\n",
      "7982/7982 [==============================] - 0s 62us/sample - loss: 0.1265 - acc: 0.9580 - val_loss: 0.8892 - val_acc: 0.8140\n",
      "Epoch 18/20\n",
      "7680/7982 [===========================>..] - ETA: 0s - loss: 0.1197 - acc: 0.9585"
     ]
    }
   ],
   "source": [
    "model = models.Sequential()\n",
    "model.add(layers.Dense(64, activation='relu', input_shape=(10000,)))\n",
    "model.add(layers.Dense(46, activation='softmax'))\n",
    "\n",
    "model.compile(optimizer='rmsprop', loss='categorical_crossentropy', metrics=['accuracy'])\n",
    "\n",
    "history = model.fit(partial_x_train, partial_y_train, epochs=20, batch_size=512, validation_data=(x_val, y_val))"
   ]
  },
  {
   "cell_type": "code",
   "execution_count": null,
   "metadata": {},
   "outputs": [],
   "source": [
    "plt.clf()\n",
    "\n",
    "loss = history.history['loss']\n",
    "val_loss = history.history['val_loss']\n",
    "epochs = range(1, len(loss) + 1)\n",
    "\n",
    "plt.plot(epochs, loss, 'bo', label='Training loss')\n",
    "plt.plot(epochs, val_loss, 'b', label='Validation loss')\n",
    "plt.title('Training and validation loss')\n",
    "plt.xlabel('Epochs')\n",
    "plt.ylabel('Loss')\n",
    "plt.legend()\n",
    "plt.show()"
   ]
  },
  {
   "cell_type": "code",
   "execution_count": null,
   "metadata": {},
   "outputs": [],
   "source": [
    "plt.clf()\n",
    "\n",
    "acc = history.history['acc']\n",
    "val_acc = history.history['val_acc']\n",
    "\n",
    "plt.plot(epochs, acc, 'bo', label='Training acc')\n",
    "plt.plot(epochs, val_acc, 'b', label='Validation acc')\n",
    "plt.title('Training and validation accracy')\n",
    "plt.xlabel('Epochs')\n",
    "plt.ylabel('Accuracy')\n",
    "plt.legend()\n",
    "plt.show()"
   ]
  },
  {
   "cell_type": "markdown",
   "metadata": {},
   "source": [
    "### 隠れ層を3つにする"
   ]
  },
  {
   "cell_type": "code",
   "execution_count": null,
   "metadata": {},
   "outputs": [],
   "source": [
    "model = models.Sequential()\n",
    "model.add(layers.Dense(64, activation='relu', input_shape=(10000,)))\n",
    "model.add(layers.Dense(64, activation='relu'))\n",
    "model.add(layers.Dense(64, activation='relu'))\n",
    "model.add(layers.Dense(46, activation='softmax'))\n",
    "\n",
    "model.compile(optimizer='rmsprop', loss='categorical_crossentropy', metrics=['accuracy'])\n",
    "\n",
    "history = model.fit(partial_x_train, partial_y_train, epochs=20, batch_size=512, validation_data=(x_val, y_val))"
   ]
  },
  {
   "cell_type": "code",
   "execution_count": null,
   "metadata": {},
   "outputs": [],
   "source": [
    "plt.clf()\n",
    "\n",
    "loss = history.history['loss']\n",
    "val_loss = history.history['val_loss']\n",
    "epochs = range(1, len(loss) + 1)\n",
    "\n",
    "plt.plot(epochs, loss, 'bo', label='Training loss')\n",
    "plt.plot(epochs, val_loss, 'b', label='Validation loss')\n",
    "plt.title('Training and validation loss')\n",
    "plt.xlabel('Epochs')\n",
    "plt.ylabel('Loss')\n",
    "plt.legend()\n",
    "plt.show()"
   ]
  },
  {
   "cell_type": "code",
   "execution_count": null,
   "metadata": {},
   "outputs": [],
   "source": [
    "plt.clf()\n",
    "\n",
    "acc = history.history['acc']\n",
    "val_acc = history.history['val_acc']\n",
    "\n",
    "plt.plot(epochs, acc, 'bo', label='Training acc')\n",
    "plt.plot(epochs, val_acc, 'b', label='Validation acc')\n",
    "plt.title('Training and validation accracy')\n",
    "plt.xlabel('Epochs')\n",
    "plt.ylabel('Accuracy')\n",
    "plt.legend()\n",
    "plt.show()"
   ]
  },
  {
   "cell_type": "code",
   "execution_count": null,
   "metadata": {},
   "outputs": [],
   "source": []
  }
 ],
 "metadata": {
  "kernelspec": {
   "display_name": "Python 3",
   "language": "python",
   "name": "python3"
  },
  "language_info": {
   "codemirror_mode": {
    "name": "ipython",
    "version": 3
   },
   "file_extension": ".py",
   "mimetype": "text/x-python",
   "name": "python",
   "nbconvert_exporter": "python",
   "pygments_lexer": "ipython3",
   "version": "3.7.4"
  }
 },
 "nbformat": 4,
 "nbformat_minor": 4
}
