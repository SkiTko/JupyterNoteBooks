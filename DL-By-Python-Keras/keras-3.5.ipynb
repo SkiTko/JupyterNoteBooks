{
 "cells": [
  {
   "cell_type": "markdown",
   "metadata": {},
   "source": [
    "# 3\n",
    "## 3.5"
   ]
  },
  {
   "cell_type": "code",
   "execution_count": 1,
   "metadata": {},
   "outputs": [],
   "source": [
    "# List 3-12\n",
    "%matplotlib inline\n",
    "\n",
    "from tensorflow.keras.datasets import reuters\n",
    "\n",
    "(train_data, train_labels), (test_data, test_labels) = reuters.load_data(num_words=10000)"
   ]
  },
  {
   "cell_type": "code",
   "execution_count": 2,
   "metadata": {},
   "outputs": [
    {
     "data": {
      "text/plain": [
       "8982"
      ]
     },
     "execution_count": 2,
     "metadata": {},
     "output_type": "execute_result"
    }
   ],
   "source": [
    "len(train_data)"
   ]
  },
  {
   "cell_type": "code",
   "execution_count": 3,
   "metadata": {},
   "outputs": [
    {
     "data": {
      "text/plain": [
       "2246"
      ]
     },
     "execution_count": 3,
     "metadata": {},
     "output_type": "execute_result"
    }
   ],
   "source": [
    "len(test_data)"
   ]
  },
  {
   "cell_type": "code",
   "execution_count": 4,
   "metadata": {},
   "outputs": [
    {
     "data": {
      "text/plain": [
       "[1,\n",
       " 245,\n",
       " 273,\n",
       " 207,\n",
       " 156,\n",
       " 53,\n",
       " 74,\n",
       " 160,\n",
       " 26,\n",
       " 14,\n",
       " 46,\n",
       " 296,\n",
       " 26,\n",
       " 39,\n",
       " 74,\n",
       " 2979,\n",
       " 3554,\n",
       " 14,\n",
       " 46,\n",
       " 4689,\n",
       " 4329,\n",
       " 86,\n",
       " 61,\n",
       " 3499,\n",
       " 4795,\n",
       " 14,\n",
       " 61,\n",
       " 451,\n",
       " 4329,\n",
       " 17,\n",
       " 12]"
      ]
     },
     "execution_count": 4,
     "metadata": {},
     "output_type": "execute_result"
    }
   ],
   "source": [
    "train_data[10]"
   ]
  },
  {
   "cell_type": "code",
   "execution_count": 5,
   "metadata": {},
   "outputs": [
    {
     "data": {
      "text/plain": [
       "'? ? ? said as a result of its december acquisition of space co it expects earnings per share in 1987 of 1 15 to 1 30 dlrs per share up from 70 cts in 1986 the company said pretax net should rise to nine to 10 mln dlrs from six mln dlrs in 1986 and rental operation revenues to 19 to 22 mln dlrs from 12 5 mln dlrs it said cash flow per share this year should be 2 50 to three dlrs reuter 3'"
      ]
     },
     "execution_count": 5,
     "metadata": {},
     "output_type": "execute_result"
    }
   ],
   "source": [
    "# List 3-13\n",
    "\n",
    "word_index = reuters.get_word_index()\n",
    "reverse_word_index = dict([(value, key) for (key, value) in word_index.items()])\n",
    "\n",
    "decoded_newswire = ' '.join([reverse_word_index.get(i-3, '?') for i in train_data[0]])\n",
    "decoded_newswire"
   ]
  },
  {
   "cell_type": "code",
   "execution_count": 6,
   "metadata": {},
   "outputs": [
    {
     "data": {
      "text/plain": [
       "3"
      ]
     },
     "execution_count": 6,
     "metadata": {},
     "output_type": "execute_result"
    }
   ],
   "source": [
    "train_labels[10]"
   ]
  },
  {
   "cell_type": "code",
   "execution_count": 7,
   "metadata": {},
   "outputs": [],
   "source": [
    "# List 3-14\n",
    "\n",
    "import numpy as np\n",
    "\n",
    "def vectorize_sequences(sequences, dimension=10000):\n",
    "    results = np.zeros((len(sequences), dimension))\n",
    "    for i, sequence in enumerate(sequences):\n",
    "        results[i, sequence] = 1.\n",
    "    return results\n",
    "\n",
    "x_train = vectorize_sequences(train_data)\n",
    "x_test  = vectorize_sequences(test_data)"
   ]
  },
  {
   "cell_type": "code",
   "execution_count": 8,
   "metadata": {},
   "outputs": [],
   "source": [
    "def to_one_hot(labels, dimension=46):\n",
    "    results = np.zeros((len(labels), dimension))\n",
    "    for i, label in enumerate(labels):\n",
    "        results[i, label] = 1.\n",
    "    return results\n",
    "\n",
    "one_hot_train_labels = to_one_hot(train_labels)\n",
    "one_hot_test_labels  = to_one_hot(test_labels)"
   ]
  },
  {
   "cell_type": "markdown",
   "metadata": {},
   "source": [
    "## 3.5.3"
   ]
  },
  {
   "cell_type": "code",
   "execution_count": 9,
   "metadata": {},
   "outputs": [
    {
     "name": "stderr",
     "output_type": "stream",
     "text": [
      "WARNING: Logging before flag parsing goes to stderr.\n",
      "W0816 16:29:01.659508 140653700411520 deprecation.py:506] From /home/takao/.pyenv/versions/3.7.4/envs/Jupyter/lib/python3.7/site-packages/tensorflow/python/ops/init_ops.py:1251: calling VarianceScaling.__init__ (from tensorflow.python.ops.init_ops) with dtype is deprecated and will be removed in a future version.\n",
      "Instructions for updating:\n",
      "Call initializer instance with the dtype argument instead of passing it to the constructor\n"
     ]
    }
   ],
   "source": [
    "# List 3-15\n",
    "\n",
    "from tensorflow.keras import models\n",
    "from tensorflow.keras import layers\n",
    "\n",
    "model = models.Sequential()\n",
    "model.add(layers.Dense(64, activation='relu', input_shape=(10000,)))\n",
    "model.add(layers.Dense(64, activation='relu'))\n",
    "model.add(layers.Dense(46, activation='softmax'))"
   ]
  },
  {
   "cell_type": "code",
   "execution_count": 10,
   "metadata": {},
   "outputs": [],
   "source": [
    "# List 3-16\n",
    "model.compile(optimizer='rmsprop', loss='categorical_crossentropy', metrics=['accuracy'])"
   ]
  },
  {
   "cell_type": "markdown",
   "metadata": {},
   "source": [
    "## 3.5.4"
   ]
  },
  {
   "cell_type": "code",
   "execution_count": 11,
   "metadata": {},
   "outputs": [],
   "source": [
    "# List 3-17\n",
    "\n",
    "x_val = x_train[:1000]\n",
    "partial_x_train = x_train[1000:]\n",
    "\n",
    "y_val = one_hot_train_labels[:1000]\n",
    "partial_y_train = one_hot_train_labels[1000:]"
   ]
  },
  {
   "cell_type": "code",
   "execution_count": 12,
   "metadata": {},
   "outputs": [
    {
     "name": "stdout",
     "output_type": "stream",
     "text": [
      "Train on 7982 samples, validate on 1000 samples\n",
      "Epoch 1/20\n",
      "7982/7982 [==============================] - 1s 81us/sample - loss: 2.6150 - acc: 0.5026 - val_loss: 1.6725 - val_acc: 0.6540\n",
      "Epoch 2/20\n",
      "7982/7982 [==============================] - 0s 60us/sample - loss: 1.3891 - acc: 0.7132 - val_loss: 1.2974 - val_acc: 0.7280\n",
      "Epoch 3/20\n",
      "7982/7982 [==============================] - 0s 57us/sample - loss: 1.0518 - acc: 0.7796 - val_loss: 1.1295 - val_acc: 0.7640\n",
      "Epoch 4/20\n",
      "7982/7982 [==============================] - 0s 60us/sample - loss: 0.8331 - acc: 0.8295 - val_loss: 1.0485 - val_acc: 0.7850\n",
      "Epoch 5/20\n",
      "7982/7982 [==============================] - 0s 51us/sample - loss: 0.6735 - acc: 0.8581 - val_loss: 0.9727 - val_acc: 0.8100\n",
      "Epoch 6/20\n",
      "7982/7982 [==============================] - 0s 51us/sample - loss: 0.5395 - acc: 0.8867 - val_loss: 0.9360 - val_acc: 0.8200\n",
      "Epoch 7/20\n",
      "7982/7982 [==============================] - 0s 60us/sample - loss: 0.4388 - acc: 0.9087 - val_loss: 0.9174 - val_acc: 0.8110\n",
      "Epoch 8/20\n",
      "7982/7982 [==============================] - 0s 62us/sample - loss: 0.3577 - acc: 0.9252 - val_loss: 0.9361 - val_acc: 0.8120\n",
      "Epoch 9/20\n",
      "7982/7982 [==============================] - 1s 63us/sample - loss: 0.2959 - acc: 0.9364 - val_loss: 0.9320 - val_acc: 0.8090\n",
      "Epoch 10/20\n",
      "7982/7982 [==============================] - 1s 66us/sample - loss: 0.2479 - acc: 0.9441 - val_loss: 0.9189 - val_acc: 0.8170\n",
      "Epoch 11/20\n",
      "7982/7982 [==============================] - 1s 63us/sample - loss: 0.2189 - acc: 0.9474 - val_loss: 0.9149 - val_acc: 0.8130\n",
      "Epoch 12/20\n",
      "7982/7982 [==============================] - 1s 65us/sample - loss: 0.1856 - acc: 0.9528 - val_loss: 0.9533 - val_acc: 0.8160\n",
      "Epoch 13/20\n",
      "7982/7982 [==============================] - 0s 63us/sample - loss: 0.1669 - acc: 0.9530 - val_loss: 0.9663 - val_acc: 0.8120\n",
      "Epoch 14/20\n",
      "7982/7982 [==============================] - 0s 58us/sample - loss: 0.1533 - acc: 0.9539 - val_loss: 1.0188 - val_acc: 0.8070\n",
      "Epoch 15/20\n",
      "7982/7982 [==============================] - 0s 60us/sample - loss: 0.1435 - acc: 0.9551 - val_loss: 0.9897 - val_acc: 0.8110\n",
      "Epoch 16/20\n",
      "7982/7982 [==============================] - 0s 61us/sample - loss: 0.1344 - acc: 0.9564 - val_loss: 1.0634 - val_acc: 0.8040\n",
      "Epoch 17/20\n",
      "7982/7982 [==============================] - 0s 59us/sample - loss: 0.1266 - acc: 0.9567 - val_loss: 1.0959 - val_acc: 0.8010\n",
      "Epoch 18/20\n",
      "7982/7982 [==============================] - 0s 59us/sample - loss: 0.1256 - acc: 0.9568 - val_loss: 1.1007 - val_acc: 0.7990\n",
      "Epoch 19/20\n",
      "7982/7982 [==============================] - 0s 61us/sample - loss: 0.1155 - acc: 0.9578 - val_loss: 1.0962 - val_acc: 0.8040\n",
      "Epoch 20/20\n",
      "7982/7982 [==============================] - 1s 64us/sample - loss: 0.1139 - acc: 0.9588 - val_loss: 1.0933 - val_acc: 0.8010\n"
     ]
    }
   ],
   "source": [
    "# List 3-18\n",
    "\n",
    "history = model.fit(partial_x_train, partial_y_train, epochs=20, batch_size=512, validation_data=(x_val, y_val))"
   ]
  },
  {
   "cell_type": "code",
   "execution_count": 13,
   "metadata": {},
   "outputs": [
    {
     "data": {
      "image/png": "[encoded data removed]",
      "text/plain": [
       "<Figure size 432x288 with 1 Axes>"
      ]
     },
     "metadata": {
      "needs_background": "light"
     },
     "output_type": "display_data"
    }
   ],
   "source": [
    "# List 3-19\n",
    "\n",
    "import matplotlib.pyplot as plt\n",
    "\n",
    "loss = history.history['loss']\n",
    "val_loss = history.history['val_loss']\n",
    "epochs = range(1, len(loss) + 1)\n",
    "\n",
    "plt.plot(epochs, loss, 'bo', label='Training loss')\n",
    "plt.plot(epochs, val_loss, 'b', label='Validation loss')\n",
    "plt.title('Training and validation loss')\n",
    "plt.xlabel('Epochs')\n",
    "plt.ylabel('Loss')\n",
    "plt.legend()\n",
    "plt.show()"
   ]
  },
  {
   "cell_type": "code",
   "execution_count": 14,
   "metadata": {},
   "outputs": [
    {
     "data": {
      "image/png": "[encoded data removed]",
      "text/plain": [
       "<Figure size 432x288 with 1 Axes>"
      ]
     },
     "metadata": {
      "needs_background": "light"
     },
     "output_type": "display_data"
    }
   ],
   "source": [
    "# List 3-20\n",
    "\n",
    "plt.clf()\n",
    "\n",
    "acc = history.history['acc']\n",
    "val_acc = history.history['val_acc']\n",
    "\n",
    "plt.plot(epochs, acc, 'bo', label='Training acc')\n",
    "plt.plot(epochs, val_acc, 'b', label='Validation acc')\n",
    "plt.title('Training and validation accracy')\n",
    "plt.xlabel('Epochs')\n",
    "plt.ylabel('Accuracy')\n",
    "plt.legend()\n",
    "plt.show()"
   ]
  },
  {
   "cell_type": "code",
   "execution_count": 15,
   "metadata": {},
   "outputs": [
    {
     "name": "stdout",
     "output_type": "stream",
     "text": [
      "Train on 7982 samples, validate on 1000 samples\n",
      "Epoch 1/8\n",
      "7982/7982 [==============================] - 1s 85us/sample - loss: 2.4802 - acc: 0.5608 - val_loss: 1.6169 - val_acc: 0.6620\n",
      "Epoch 2/8\n",
      "7982/7982 [==============================] - 1s 72us/sample - loss: 1.3317 - acc: 0.7187 - val_loss: 1.2489 - val_acc: 0.7280\n",
      "Epoch 3/8\n",
      "7982/7982 [==============================] - 1s 73us/sample - loss: 1.0007 - acc: 0.7855 - val_loss: 1.1012 - val_acc: 0.7610\n",
      "Epoch 4/8\n",
      "7982/7982 [==============================] - 1s 72us/sample - loss: 0.7910 - acc: 0.8292 - val_loss: 1.0284 - val_acc: 0.7790\n",
      "Epoch 5/8\n",
      "7982/7982 [==============================] - 1s 74us/sample - loss: 0.6329 - acc: 0.8638 - val_loss: 0.9637 - val_acc: 0.7810\n",
      "Epoch 6/8\n",
      "7982/7982 [==============================] - 1s 75us/sample - loss: 0.5121 - acc: 0.8911 - val_loss: 0.9159 - val_acc: 0.8060\n",
      "Epoch 7/8\n",
      "7982/7982 [==============================] - 1s 74us/sample - loss: 0.4098 - acc: 0.9148 - val_loss: 0.9094 - val_acc: 0.8140\n",
      "Epoch 8/8\n",
      "7982/7982 [==============================] - 1s 78us/sample - loss: 0.3412 - acc: 0.9288 - val_loss: 0.9001 - val_acc: 0.8150\n",
      "2246/2246 [==============================] - 0s 76us/sample - loss: 0.9908 - acc: 0.7885\n"
     ]
    },
    {
     "data": {
      "text/plain": [
       "[0.9908148418657502, 0.7885129]"
      ]
     },
     "execution_count": 15,
     "metadata": {},
     "output_type": "execute_result"
    }
   ],
   "source": [
    "# List 3-21\n",
    "\n",
    "model = models.Sequential()\n",
    "model.add(layers.Dense(64, activation='relu', input_shape=(10000,)))\n",
    "model.add(layers.Dense(64, activation='relu'))\n",
    "model.add(layers.Dense(46, activation='softmax'))\n",
    "\n",
    "model.compile(optimizer='rmsprop', loss='categorical_crossentropy', metrics=['accuracy'])\n",
    "\n",
    "history = model.fit(partial_x_train, partial_y_train, epochs=8, batch_size=512, validation_data=(x_val, y_val))\n",
    "\n",
    "results = model.evaluate(x_test, one_hot_test_labels)\n",
    "results"
   ]
  },
  {
   "cell_type": "code",
   "execution_count": 16,
   "metadata": {},
   "outputs": [
    {
     "data": {
      "text/plain": [
       "0.188780053428317"
      ]
     },
     "execution_count": 16,
     "metadata": {},
     "output_type": "execute_result"
    }
   ],
   "source": [
    "import copy\n",
    "\n",
    "test_labels_copy = copy.copy(test_labels)\n",
    "np.random.shuffle(test_labels_copy)\n",
    "float(np.sum(np.array(test_labels) == np.array(test_labels_copy))) / len(test_labels)"
   ]
  },
  {
   "cell_type": "markdown",
   "metadata": {},
   "source": [
    "## 3.5.5"
   ]
  },
  {
   "cell_type": "code",
   "execution_count": 17,
   "metadata": {},
   "outputs": [
    {
     "data": {
      "text/plain": [
       "(46,)"
      ]
     },
     "execution_count": 17,
     "metadata": {},
     "output_type": "execute_result"
    }
   ],
   "source": [
    "# List 3-22\n",
    "\n",
    "predictions = model.predict(x_test)\n",
    "predictions[0].shape"
   ]
  },
  {
   "cell_type": "code",
   "execution_count": 18,
   "metadata": {},
   "outputs": [
    {
     "data": {
      "text/plain": [
       "1.0000001"
      ]
     },
     "execution_count": 18,
     "metadata": {},
     "output_type": "execute_result"
    }
   ],
   "source": [
    "np.sum(predictions[0])"
   ]
  },
  {
   "cell_type": "code",
   "execution_count": 19,
   "metadata": {},
   "outputs": [
    {
     "data": {
      "text/plain": [
       "3"
      ]
     },
     "execution_count": 19,
     "metadata": {},
     "output_type": "execute_result"
    }
   ],
   "source": [
    "np.argmax(predictions[0])"
   ]
  },
  {
   "cell_type": "markdown",
   "metadata": {},
   "source": [
    "## 3.5.6"
   ]
  },
  {
   "cell_type": "code",
   "execution_count": 20,
   "metadata": {},
   "outputs": [],
   "source": [
    "y_train = np.array(train_labels)\n",
    "y_test  = np.array(test_labels)"
   ]
  },
  {
   "cell_type": "code",
   "execution_count": 21,
   "metadata": {},
   "outputs": [
    {
     "name": "stdout",
     "output_type": "stream",
     "text": [
      "Train on 7982 samples, validate on 1000 samples\n",
      "Epoch 1/8\n",
      "7982/7982 [==============================] - 1s 75us/sample - loss: 2.6912 - acc: 0.4912 - val_loss: 1.7715 - val_acc: 0.6440\n",
      "Epoch 2/8\n",
      "7982/7982 [==============================] - 0s 52us/sample - loss: 1.4495 - acc: 0.6999 - val_loss: 1.3190 - val_acc: 0.7110\n",
      "Epoch 3/8\n",
      "7982/7982 [==============================] - 0s 62us/sample - loss: 1.0774 - acc: 0.7724 - val_loss: 1.1443 - val_acc: 0.7460\n",
      "Epoch 4/8\n",
      "7982/7982 [==============================] - 0s 61us/sample - loss: 0.8547 - acc: 0.8231 - val_loss: 1.0625 - val_acc: 0.7620\n",
      "Epoch 5/8\n",
      "7982/7982 [==============================] - 1s 67us/sample - loss: 0.6817 - acc: 0.8608 - val_loss: 0.9868 - val_acc: 0.7940\n",
      "Epoch 6/8\n",
      "7982/7982 [==============================] - 0s 58us/sample - loss: 0.5449 - acc: 0.8884 - val_loss: 0.9458 - val_acc: 0.7970\n",
      "Epoch 7/8\n",
      "7982/7982 [==============================] - 0s 57us/sample - loss: 0.4368 - acc: 0.9110 - val_loss: 0.9168 - val_acc: 0.8060\n",
      "Epoch 8/8\n",
      "7982/7982 [==============================] - 0s 58us/sample - loss: 0.3500 - acc: 0.9295 - val_loss: 0.9203 - val_acc: 0.8010\n",
      "2246/2246 [==============================] - 0s 67us/sample - loss: 1.0250 - acc: 0.7738\n"
     ]
    },
    {
     "data": {
      "text/plain": [
       "[1.0250383121884517, 0.7738201]"
      ]
     },
     "execution_count": 21,
     "metadata": {},
     "output_type": "execute_result"
    }
   ],
   "source": [
    "x_train = vectorize_sequences(train_data)\n",
    "x_test  = vectorize_sequences(test_data)\n",
    "\n",
    "x_val = x_train[:1000]\n",
    "partial_x_train = x_train[1000:]\n",
    "\n",
    "y_val = y_train[:1000]\n",
    "partial_y_train = y_train[1000:]\n",
    "\n",
    "model = models.Sequential()\n",
    "model.add(layers.Dense(64, activation='relu', input_shape=(10000,)))\n",
    "model.add(layers.Dense(64, activation='relu'))\n",
    "model.add(layers.Dense(46, activation='softmax'))\n",
    "\n",
    "model.compile(optimizer='rmsprop', loss='sparse_categorical_crossentropy', metrics=['accuracy'])\n",
    "\n",
    "history = model.fit(partial_x_train, partial_y_train, epochs=8, batch_size=512, validation_data=(x_val, y_val))\n",
    "\n",
    "results = model.evaluate(x_test, y_test)\n",
    "results"
   ]
  },
  {
   "cell_type": "markdown",
   "metadata": {},
   "source": [
    "## 3.5.7"
   ]
  },
  {
   "cell_type": "code",
   "execution_count": 22,
   "metadata": {},
   "outputs": [
    {
     "name": "stdout",
     "output_type": "stream",
     "text": [
      "Train on 7982 samples, validate on 1000 samples\n",
      "Epoch 1/20\n",
      "7982/7982 [==============================] - 1s 112us/sample - loss: 2.6174 - acc: 0.4246 - val_loss: 2.0068 - val_acc: 0.4620\n",
      "Epoch 2/20\n",
      "7982/7982 [==============================] - 1s 86us/sample - loss: 1.7450 - acc: 0.5799 - val_loss: 1.6035 - val_acc: 0.6040\n",
      "Epoch 3/20\n",
      "7982/7982 [==============================] - 1s 87us/sample - loss: 1.4058 - acc: 0.6262 - val_loss: 1.4487 - val_acc: 0.6340\n",
      "Epoch 4/20\n",
      "7982/7982 [==============================] - 1s 84us/sample - loss: 1.2123 - acc: 0.6715 - val_loss: 1.3611 - val_acc: 0.6540\n",
      "Epoch 5/20\n",
      "7982/7982 [==============================] - 1s 85us/sample - loss: 1.0713 - acc: 0.6923 - val_loss: 1.3066 - val_acc: 0.6670\n",
      "Epoch 6/20\n",
      "7982/7982 [==============================] - 1s 83us/sample - loss: 0.9585 - acc: 0.7328 - val_loss: 1.2871 - val_acc: 0.6920\n",
      "Epoch 7/20\n",
      "7982/7982 [==============================] - 1s 82us/sample - loss: 0.8654 - acc: 0.7709 - val_loss: 1.3079 - val_acc: 0.6960\n",
      "Epoch 8/20\n",
      "7982/7982 [==============================] - 1s 89us/sample - loss: 0.7894 - acc: 0.7843 - val_loss: 1.2801 - val_acc: 0.7090\n",
      "Epoch 9/20\n",
      "7982/7982 [==============================] - 1s 88us/sample - loss: 0.7257 - acc: 0.7999 - val_loss: 1.3086 - val_acc: 0.7010\n",
      "Epoch 10/20\n",
      "7982/7982 [==============================] - 1s 88us/sample - loss: 0.6702 - acc: 0.8193 - val_loss: 1.3382 - val_acc: 0.7070\n",
      "Epoch 11/20\n",
      "7982/7982 [==============================] - 1s 83us/sample - loss: 0.6244 - acc: 0.8304 - val_loss: 1.3921 - val_acc: 0.7100\n",
      "Epoch 12/20\n",
      "7982/7982 [==============================] - 1s 87us/sample - loss: 0.5824 - acc: 0.8388 - val_loss: 1.4244 - val_acc: 0.7020\n",
      "Epoch 13/20\n",
      "7982/7982 [==============================] - 1s 84us/sample - loss: 0.5527 - acc: 0.8438 - val_loss: 1.4731 - val_acc: 0.7050\n",
      "Epoch 14/20\n",
      "7982/7982 [==============================] - 1s 89us/sample - loss: 0.5221 - acc: 0.8493 - val_loss: 1.5252 - val_acc: 0.7000\n",
      "Epoch 15/20\n",
      "7982/7982 [==============================] - 1s 88us/sample - loss: 0.4967 - acc: 0.8582 - val_loss: 1.5292 - val_acc: 0.7010\n",
      "Epoch 16/20\n",
      "7982/7982 [==============================] - 1s 87us/sample - loss: 0.4740 - acc: 0.8626 - val_loss: 1.5959 - val_acc: 0.7000\n",
      "Epoch 17/20\n",
      "7982/7982 [==============================] - 1s 86us/sample - loss: 0.4554 - acc: 0.8715 - val_loss: 1.6757 - val_acc: 0.7050\n",
      "Epoch 18/20\n",
      "7982/7982 [==============================] - 1s 90us/sample - loss: 0.4359 - acc: 0.8767 - val_loss: 1.7424 - val_acc: 0.6990\n",
      "Epoch 19/20\n",
      "7982/7982 [==============================] - 1s 87us/sample - loss: 0.4179 - acc: 0.8834 - val_loss: 1.7724 - val_acc: 0.7050\n",
      "Epoch 20/20\n",
      "7982/7982 [==============================] - 1s 87us/sample - loss: 0.4027 - acc: 0.8859 - val_loss: 1.8156 - val_acc: 0.7030\n"
     ]
    }
   ],
   "source": [
    "x_train = vectorize_sequences(train_data)\n",
    "x_test  = vectorize_sequences(test_data)\n",
    "\n",
    "one_hot_train_labels = to_one_hot(train_labels)\n",
    "one_hot_test_labels  = to_one_hot(test_labels)\n",
    "\n",
    "x_val = x_train[:1000]\n",
    "partial_x_train = x_train[1000:]\n",
    "\n",
    "y_val = one_hot_train_labels[:1000]\n",
    "partial_y_train = one_hot_train_labels[1000:]\n",
    "\n",
    "# List 3-23\n",
    "model = models.Sequential()\n",
    "model.add(layers.Dense(64, activation='relu', input_shape=(10000,)))\n",
    "model.add(layers.Dense(4, activation='relu'))\n",
    "model.add(layers.Dense(46, activation='softmax'))\n",
    "\n",
    "model.compile(optimizer='rmsprop', loss='categorical_crossentropy', metrics=['accuracy'])\n",
    "\n",
    "history = model.fit(partial_x_train, partial_y_train, epochs=20, batch_size=128, validation_data=(x_val, y_val))"
   ]
  },
  {
   "cell_type": "code",
   "execution_count": 23,
   "metadata": {},
   "outputs": [
    {
     "data": {
      "image/png": "[encoded data removed]",
      "text/plain": [
       "<Figure size 432x288 with 1 Axes>"
      ]
     },
     "metadata": {
      "needs_background": "light"
     },
     "output_type": "display_data"
    }
   ],
   "source": [
    "plt.clf()\n",
    "\n",
    "loss = history.history['loss']\n",
    "val_loss = history.history['val_loss']\n",
    "epochs = range(1, len(loss) + 1)\n",
    "\n",
    "plt.plot(epochs, loss, 'bo', label='Training loss')\n",
    "plt.plot(epochs, val_loss, 'b', label='Validation loss')\n",
    "plt.title('Training and validation loss')\n",
    "plt.xlabel('Epochs')\n",
    "plt.ylabel('Loss')\n",
    "plt.legend()\n",
    "plt.show()"
   ]
  },
  {
   "cell_type": "code",
   "execution_count": 24,
   "metadata": {},
   "outputs": [
    {
     "data": {
      "image/png": "[encoded data removed]",
      "text/plain": [
       "<Figure size 432x288 with 1 Axes>"
      ]
     },
     "metadata": {
      "needs_background": "light"
     },
     "output_type": "display_data"
    }
   ],
   "source": [
    "plt.clf()\n",
    "\n",
    "acc = history.history['acc']\n",
    "val_acc = history.history['val_acc']\n",
    "\n",
    "plt.plot(epochs, acc, 'bo', label='Training acc')\n",
    "plt.plot(epochs, val_acc, 'b', label='Validation acc')\n",
    "plt.title('Training and validation accracy')\n",
    "plt.xlabel('Epochs')\n",
    "plt.ylabel('Accuracy')\n",
    "plt.legend()\n",
    "plt.show()"
   ]
  },
  {
   "cell_type": "markdown",
   "metadata": {},
   "source": [
    "## 3.5.8\n",
    "### 小さい中間層"
   ]
  },
  {
   "cell_type": "code",
   "execution_count": 25,
   "metadata": {},
   "outputs": [
    {
     "name": "stdout",
     "output_type": "stream",
     "text": [
      "Train on 7982 samples, validate on 1000 samples\n",
      "Epoch 1/20\n",
      "7982/7982 [==============================] - 1s 101us/sample - loss: 1.9622 - acc: 0.6026 - val_loss: 1.3501 - val_acc: 0.6970\n",
      "Epoch 2/20\n",
      "7982/7982 [==============================] - 1s 88us/sample - loss: 1.0427 - acc: 0.7726 - val_loss: 1.0597 - val_acc: 0.7690\n",
      "Epoch 3/20\n",
      "7982/7982 [==============================] - 1s 87us/sample - loss: 0.7313 - acc: 0.8420 - val_loss: 0.9574 - val_acc: 0.8020\n",
      "Epoch 4/20\n",
      "7982/7982 [==============================] - 1s 85us/sample - loss: 0.5340 - acc: 0.8842 - val_loss: 0.8959 - val_acc: 0.8150\n",
      "Epoch 5/20\n",
      "7982/7982 [==============================] - 1s 87us/sample - loss: 0.3924 - acc: 0.9158 - val_loss: 0.9449 - val_acc: 0.8040\n",
      "Epoch 6/20\n",
      "7982/7982 [==============================] - 1s 83us/sample - loss: 0.3046 - acc: 0.9325 - val_loss: 0.8931 - val_acc: 0.8250\n",
      "Epoch 7/20\n",
      "7982/7982 [==============================] - 1s 84us/sample - loss: 0.2434 - acc: 0.9436 - val_loss: 0.9209 - val_acc: 0.8260\n",
      "Epoch 8/20\n",
      "7982/7982 [==============================] - 1s 83us/sample - loss: 0.2059 - acc: 0.9499 - val_loss: 0.9586 - val_acc: 0.8150\n",
      "Epoch 9/20\n",
      "7982/7982 [==============================] - 1s 86us/sample - loss: 0.1789 - acc: 0.9508 - val_loss: 0.9993 - val_acc: 0.8230\n",
      "Epoch 10/20\n",
      "7982/7982 [==============================] - 1s 87us/sample - loss: 0.1633 - acc: 0.9528 - val_loss: 1.0375 - val_acc: 0.8060\n",
      "Epoch 11/20\n",
      "7982/7982 [==============================] - 1s 88us/sample - loss: 0.1505 - acc: 0.9540 - val_loss: 1.0557 - val_acc: 0.8090\n",
      "Epoch 12/20\n",
      "7982/7982 [==============================] - 1s 85us/sample - loss: 0.1409 - acc: 0.9560 - val_loss: 1.1029 - val_acc: 0.8000\n",
      "Epoch 13/20\n",
      "7982/7982 [==============================] - 1s 85us/sample - loss: 0.1353 - acc: 0.9569 - val_loss: 1.1307 - val_acc: 0.7970\n",
      "Epoch 14/20\n",
      "7982/7982 [==============================] - 1s 84us/sample - loss: 0.1298 - acc: 0.9584 - val_loss: 1.1339 - val_acc: 0.7990\n",
      "Epoch 15/20\n",
      "7982/7982 [==============================] - 1s 84us/sample - loss: 0.1253 - acc: 0.9557 - val_loss: 1.1623 - val_acc: 0.8100\n",
      "Epoch 16/20\n",
      "7982/7982 [==============================] - 1s 86us/sample - loss: 0.1242 - acc: 0.9553 - val_loss: 1.1809 - val_acc: 0.8090\n",
      "Epoch 17/20\n",
      "7982/7982 [==============================] - 1s 85us/sample - loss: 0.1212 - acc: 0.9562 - val_loss: 1.2371 - val_acc: 0.7990\n",
      "Epoch 18/20\n",
      "7982/7982 [==============================] - 1s 86us/sample - loss: 0.1163 - acc: 0.9559 - val_loss: 1.1990 - val_acc: 0.8090\n",
      "Epoch 19/20\n",
      "7982/7982 [==============================] - 1s 88us/sample - loss: 0.1143 - acc: 0.9560 - val_loss: 1.3245 - val_acc: 0.7950\n",
      "Epoch 20/20\n",
      "7982/7982 [==============================] - 1s 88us/sample - loss: 0.1135 - acc: 0.9582 - val_loss: 1.2873 - val_acc: 0.7980\n"
     ]
    }
   ],
   "source": [
    "model = models.Sequential()\n",
    "model.add(layers.Dense(64, activation='relu', input_shape=(10000,)))\n",
    "model.add(layers.Dense(32, activation='relu'))\n",
    "model.add(layers.Dense(46, activation='softmax'))\n",
    "\n",
    "model.compile(optimizer='rmsprop', loss='categorical_crossentropy', metrics=['accuracy'])\n",
    "\n",
    "history = model.fit(partial_x_train, partial_y_train, epochs=20, batch_size=128, validation_data=(x_val, y_val))"
   ]
  },
  {
   "cell_type": "code",
   "execution_count": 26,
   "metadata": {},
   "outputs": [
    {
     "data": {
      "image/png": "[encoded data removed]",
      "text/plain": [
       "<Figure size 432x288 with 1 Axes>"
      ]
     },
     "metadata": {
      "needs_background": "light"
     },
     "output_type": "display_data"
    }
   ],
   "source": [
    "plt.clf()\n",
    "\n",
    "loss = history.history['loss']\n",
    "val_loss = history.history['val_loss']\n",
    "epochs = range(1, len(loss) + 1)\n",
    "\n",
    "plt.plot(epochs, loss, 'bo', label='Training loss')\n",
    "plt.plot(epochs, val_loss, 'b', label='Validation loss')\n",
    "plt.title('Training and validation loss')\n",
    "plt.xlabel('Epochs')\n",
    "plt.ylabel('Loss')\n",
    "plt.legend()\n",
    "plt.show()"
   ]
  },
  {
   "cell_type": "code",
   "execution_count": 27,
   "metadata": {},
   "outputs": [
    {
     "data": {
      "image/png": "[encoded data removed]",
      "text/plain": [
       "<Figure size 432x288 with 1 Axes>"
      ]
     },
     "metadata": {
      "needs_background": "light"
     },
     "output_type": "display_data"
    }
   ],
   "source": [
    "plt.clf()\n",
    "\n",
    "acc = history.history['acc']\n",
    "val_acc = history.history['val_acc']\n",
    "\n",
    "plt.plot(epochs, acc, 'bo', label='Training acc')\n",
    "plt.plot(epochs, val_acc, 'b', label='Validation acc')\n",
    "plt.title('Training and validation accracy')\n",
    "plt.xlabel('Epochs')\n",
    "plt.ylabel('Accuracy')\n",
    "plt.legend()\n",
    "plt.show()"
   ]
  },
  {
   "cell_type": "markdown",
   "metadata": {},
   "source": [
    "### 大きい中間層"
   ]
  },
  {
   "cell_type": "code",
   "execution_count": 28,
   "metadata": {},
   "outputs": [
    {
     "name": "stdout",
     "output_type": "stream",
     "text": [
      "Train on 7982 samples, validate on 1000 samples\n",
      "Epoch 1/20\n",
      "7982/7982 [==============================] - 1s 99us/sample - loss: 1.7568 - acc: 0.6319 - val_loss: 1.2244 - val_acc: 0.7160\n",
      "Epoch 2/20\n",
      "7982/7982 [==============================] - 1s 84us/sample - loss: 0.9414 - acc: 0.7949 - val_loss: 0.9769 - val_acc: 0.7880\n",
      "Epoch 3/20\n",
      "7982/7982 [==============================] - 1s 86us/sample - loss: 0.6177 - acc: 0.8629 - val_loss: 0.8845 - val_acc: 0.8120\n",
      "Epoch 4/20\n",
      "7982/7982 [==============================] - 1s 85us/sample - loss: 0.4211 - acc: 0.9112 - val_loss: 0.9016 - val_acc: 0.8200\n",
      "Epoch 5/20\n",
      "7982/7982 [==============================] - 1s 85us/sample - loss: 0.3006 - acc: 0.9342 - val_loss: 0.8933 - val_acc: 0.8260\n",
      "Epoch 6/20\n",
      "7982/7982 [==============================] - 1s 85us/sample - loss: 0.2386 - acc: 0.9456 - val_loss: 0.9210 - val_acc: 0.8290\n",
      "Epoch 7/20\n",
      "7982/7982 [==============================] - 1s 85us/sample - loss: 0.1960 - acc: 0.9496 - val_loss: 0.9525 - val_acc: 0.8170\n",
      "Epoch 8/20\n",
      "7982/7982 [==============================] - 1s 84us/sample - loss: 0.1733 - acc: 0.9531 - val_loss: 1.0398 - val_acc: 0.8050\n",
      "Epoch 9/20\n",
      "7982/7982 [==============================] - 1s 87us/sample - loss: 0.1561 - acc: 0.9557 - val_loss: 1.0191 - val_acc: 0.8150\n",
      "Epoch 10/20\n",
      "7982/7982 [==============================] - 1s 85us/sample - loss: 0.1469 - acc: 0.9560 - val_loss: 1.0293 - val_acc: 0.8140\n",
      "Epoch 11/20\n",
      "7982/7982 [==============================] - 1s 87us/sample - loss: 0.1371 - acc: 0.9568 - val_loss: 1.0743 - val_acc: 0.8080\n",
      "Epoch 12/20\n",
      "7982/7982 [==============================] - 1s 85us/sample - loss: 0.1298 - acc: 0.9565 - val_loss: 1.1691 - val_acc: 0.8040\n",
      "Epoch 13/20\n",
      "7982/7982 [==============================] - 1s 88us/sample - loss: 0.1230 - acc: 0.9570 - val_loss: 1.1187 - val_acc: 0.7940\n",
      "Epoch 14/20\n",
      "7982/7982 [==============================] - 1s 85us/sample - loss: 0.1182 - acc: 0.9575 - val_loss: 1.2526 - val_acc: 0.7900\n",
      "Epoch 15/20\n",
      "7982/7982 [==============================] - 1s 87us/sample - loss: 0.1192 - acc: 0.9560 - val_loss: 1.1329 - val_acc: 0.8140\n",
      "Epoch 16/20\n",
      "7982/7982 [==============================] - 1s 87us/sample - loss: 0.1114 - acc: 0.9548 - val_loss: 1.1825 - val_acc: 0.8030\n",
      "Epoch 17/20\n",
      "7982/7982 [==============================] - 1s 96us/sample - loss: 0.1041 - acc: 0.9560 - val_loss: 1.1905 - val_acc: 0.8120\n",
      "Epoch 18/20\n",
      "7982/7982 [==============================] - 1s 88us/sample - loss: 0.1044 - acc: 0.9567 - val_loss: 1.2999 - val_acc: 0.8100\n",
      "Epoch 19/20\n",
      "7982/7982 [==============================] - 1s 86us/sample - loss: 0.1008 - acc: 0.9590 - val_loss: 1.2582 - val_acc: 0.8080\n",
      "Epoch 20/20\n",
      "7982/7982 [==============================] - 1s 87us/sample - loss: 0.0979 - acc: 0.9579 - val_loss: 1.3676 - val_acc: 0.8040\n"
     ]
    }
   ],
   "source": [
    "model = models.Sequential()\n",
    "model.add(layers.Dense(64, activation='relu', input_shape=(10000,)))\n",
    "model.add(layers.Dense(128, activation='relu'))\n",
    "model.add(layers.Dense(46, activation='softmax'))\n",
    "\n",
    "model.compile(optimizer='rmsprop', loss='categorical_crossentropy', metrics=['accuracy'])\n",
    "\n",
    "history = model.fit(partial_x_train, partial_y_train, epochs=20, batch_size=128, validation_data=(x_val, y_val))"
   ]
  },
  {
   "cell_type": "code",
   "execution_count": 29,
   "metadata": {},
   "outputs": [
    {
     "data": {
      "image/png": "[encoded data removed]",
      "text/plain": [
       "<Figure size 432x288 with 1 Axes>"
      ]
     },
     "metadata": {
      "needs_background": "light"
     },
     "output_type": "display_data"
    }
   ],
   "source": [
    "plt.clf()\n",
    "\n",
    "loss = history.history['loss']\n",
    "val_loss = history.history['val_loss']\n",
    "epochs = range(1, len(loss) + 1)\n",
    "\n",
    "plt.plot(epochs, loss, 'bo', label='Training loss')\n",
    "plt.plot(epochs, val_loss, 'b', label='Validation loss')\n",
    "plt.title('Training and validation loss')\n",
    "plt.xlabel('Epochs')\n",
    "plt.ylabel('Loss')\n",
    "plt.legend()\n",
    "plt.show()"
   ]
  },
  {
   "cell_type": "code",
   "execution_count": 30,
   "metadata": {},
   "outputs": [
    {
     "data": {
      "image/png": "[encoded data removed]",
      "text/plain": [
       "<Figure size 432x288 with 1 Axes>"
      ]
     },
     "metadata": {
      "needs_background": "light"
     },
     "output_type": "display_data"
    }
   ],
   "source": [
    "plt.clf()\n",
    "\n",
    "acc = history.history['acc']\n",
    "val_acc = history.history['val_acc']\n",
    "\n",
    "plt.plot(epochs, acc, 'bo', label='Training acc')\n",
    "plt.plot(epochs, val_acc, 'b', label='Validation acc')\n",
    "plt.title('Training and validation accracy')\n",
    "plt.xlabel('Epochs')\n",
    "plt.ylabel('Accuracy')\n",
    "plt.legend()\n",
    "plt.show()"
   ]
  },
  {
   "cell_type": "markdown",
   "metadata": {},
   "source": [
    "### 隠れ層を1つにする"
   ]
  },
  {
   "cell_type": "code",
   "execution_count": 31,
   "metadata": {},
   "outputs": [
    {
     "name": "stdout",
     "output_type": "stream",
     "text": [
      "Train on 7982 samples, validate on 1000 samples\n",
      "Epoch 1/20\n",
      "7982/7982 [==============================] - 1s 89us/sample - loss: 2.5795 - acc: 0.5470 - val_loss: 1.8070 - val_acc: 0.6580\n",
      "Epoch 2/20\n",
      "7982/7982 [==============================] - 1s 75us/sample - loss: 1.4711 - acc: 0.7112 - val_loss: 1.3349 - val_acc: 0.7180\n",
      "Epoch 3/20\n",
      "7982/7982 [==============================] - 1s 77us/sample - loss: 1.0691 - acc: 0.7784 - val_loss: 1.1408 - val_acc: 0.7640\n",
      "Epoch 4/20\n",
      "7982/7982 [==============================] - 1s 83us/sample - loss: 0.8337 - acc: 0.8315 - val_loss: 1.0212 - val_acc: 0.7920\n",
      "Epoch 5/20\n",
      "7982/7982 [==============================] - 1s 76us/sample - loss: 0.6675 - acc: 0.8703 - val_loss: 0.9419 - val_acc: 0.8090\n",
      "Epoch 6/20\n",
      "7982/7982 [==============================] - 1s 84us/sample - loss: 0.5431 - acc: 0.8931 - val_loss: 0.8922 - val_acc: 0.8100\n",
      "Epoch 7/20\n",
      "7982/7982 [==============================] - 1s 76us/sample - loss: 0.4489 - acc: 0.9119 - val_loss: 0.8562 - val_acc: 0.8250\n",
      "Epoch 8/20\n",
      "7982/7982 [==============================] - 1s 74us/sample - loss: 0.3707 - acc: 0.9243 - val_loss: 0.8450 - val_acc: 0.8300\n",
      "Epoch 9/20\n",
      "7982/7982 [==============================] - 1s 76us/sample - loss: 0.3119 - acc: 0.9364 - val_loss: 0.8281 - val_acc: 0.8210\n",
      "Epoch 10/20\n",
      "7982/7982 [==============================] - 1s 74us/sample - loss: 0.2675 - acc: 0.9427 - val_loss: 0.8384 - val_acc: 0.8190\n",
      "Epoch 11/20\n",
      "7982/7982 [==============================] - 1s 76us/sample - loss: 0.2284 - acc: 0.9470 - val_loss: 0.8281 - val_acc: 0.8330\n",
      "Epoch 12/20\n",
      "7982/7982 [==============================] - 1s 74us/sample - loss: 0.2018 - acc: 0.9501 - val_loss: 0.8203 - val_acc: 0.8290\n",
      "Epoch 13/20\n",
      "7982/7982 [==============================] - 1s 74us/sample - loss: 0.1788 - acc: 0.9528 - val_loss: 0.8390 - val_acc: 0.8260\n",
      "Epoch 14/20\n",
      "7982/7982 [==============================] - 1s 75us/sample - loss: 0.1600 - acc: 0.9548 - val_loss: 0.8451 - val_acc: 0.8240\n",
      "Epoch 15/20\n",
      "7982/7982 [==============================] - 1s 75us/sample - loss: 0.1467 - acc: 0.9550 - val_loss: 0.8586 - val_acc: 0.8250\n",
      "Epoch 16/20\n",
      "7982/7982 [==============================] - 1s 77us/sample - loss: 0.1368 - acc: 0.9545 - val_loss: 0.8717 - val_acc: 0.8250\n",
      "Epoch 17/20\n",
      "7982/7982 [==============================] - 1s 75us/sample - loss: 0.1258 - acc: 0.9572 - val_loss: 0.8969 - val_acc: 0.8160\n",
      "Epoch 18/20\n",
      "7982/7982 [==============================] - 1s 78us/sample - loss: 0.1204 - acc: 0.9575 - val_loss: 0.9243 - val_acc: 0.8100\n",
      "Epoch 19/20\n",
      "7982/7982 [==============================] - 1s 75us/sample - loss: 0.1128 - acc: 0.9577 - val_loss: 0.9357 - val_acc: 0.8130\n",
      "Epoch 20/20\n",
      "7982/7982 [==============================] - 1s 75us/sample - loss: 0.1093 - acc: 0.9570 - val_loss: 0.9404 - val_acc: 0.8120\n"
     ]
    }
   ],
   "source": [
    "model = models.Sequential()\n",
    "model.add(layers.Dense(64, activation='relu', input_shape=(10000,)))\n",
    "model.add(layers.Dense(46, activation='softmax'))\n",
    "\n",
    "model.compile(optimizer='rmsprop', loss='categorical_crossentropy', metrics=['accuracy'])\n",
    "\n",
    "history = model.fit(partial_x_train, partial_y_train, epochs=20, batch_size=512, validation_data=(x_val, y_val))"
   ]
  },
  {
   "cell_type": "code",
   "execution_count": 32,
   "metadata": {},
   "outputs": [
    {
     "data": {
      "image/png": "[encoded data removed]",
      "text/plain": [
       "<Figure size 432x288 with 1 Axes>"
      ]
     },
     "metadata": {
      "needs_background": "light"
     },
     "output_type": "display_data"
    }
   ],
   "source": [
    "plt.clf()\n",
    "\n",
    "loss = history.history['loss']\n",
    "val_loss = history.history['val_loss']\n",
    "epochs = range(1, len(loss) + 1)\n",
    "\n",
    "plt.plot(epochs, loss, 'bo', label='Training loss')\n",
    "plt.plot(epochs, val_loss, 'b', label='Validation loss')\n",
    "plt.title('Training and validation loss')\n",
    "plt.xlabel('Epochs')\n",
    "plt.ylabel('Loss')\n",
    "plt.legend()\n",
    "plt.show()"
   ]
  },
  {
   "cell_type": "code",
   "execution_count": 33,
   "metadata": {},
   "outputs": [
    {
     "data": {
      "image/png": "[encoded data removed]",
      "text/plain": [
       "<Figure size 432x288 with 1 Axes>"
      ]
     },
     "metadata": {
      "needs_background": "light"
     },
     "output_type": "display_data"
    }
   ],
   "source": [
    "plt.clf()\n",
    "\n",
    "acc = history.history['acc']\n",
    "val_acc = history.history['val_acc']\n",
    "\n",
    "plt.plot(epochs, acc, 'bo', label='Training acc')\n",
    "plt.plot(epochs, val_acc, 'b', label='Validation acc')\n",
    "plt.title('Training and validation accracy')\n",
    "plt.xlabel('Epochs')\n",
    "plt.ylabel('Accuracy')\n",
    "plt.legend()\n",
    "plt.show()"
   ]
  },
  {
   "cell_type": "markdown",
   "metadata": {},
   "source": [
    "### 隠れ層を3つにする"
   ]
  },
  {
   "cell_type": "code",
   "execution_count": 34,
   "metadata": {},
   "outputs": [
    {
     "name": "stdout",
     "output_type": "stream",
     "text": [
      "Train on 7982 samples, validate on 1000 samples\n",
      "Epoch 1/20\n",
      "7982/7982 [==============================] - 1s 106us/sample - loss: 2.6118 - acc: 0.4650 - val_loss: 1.7274 - val_acc: 0.6080\n",
      "Epoch 2/20\n",
      "7982/7982 [==============================] - 1s 79us/sample - loss: 1.4551 - acc: 0.6832 - val_loss: 1.3481 - val_acc: 0.6910\n",
      "Epoch 3/20\n",
      "7982/7982 [==============================] - 1s 82us/sample - loss: 1.1056 - acc: 0.7517 - val_loss: 1.2084 - val_acc: 0.7250\n",
      "Epoch 4/20\n",
      "7982/7982 [==============================] - 1s 73us/sample - loss: 0.8873 - acc: 0.8032 - val_loss: 1.0919 - val_acc: 0.7690\n",
      "Epoch 5/20\n",
      "7982/7982 [==============================] - 1s 70us/sample - loss: 0.7066 - acc: 0.8457 - val_loss: 1.0184 - val_acc: 0.7890\n",
      "Epoch 6/20\n",
      "7982/7982 [==============================] - 0s 55us/sample - loss: 0.5734 - acc: 0.8728 - val_loss: 0.9771 - val_acc: 0.8020\n",
      "Epoch 7/20\n",
      "7982/7982 [==============================] - 1s 71us/sample - loss: 0.4576 - acc: 0.8984 - val_loss: 0.9439 - val_acc: 0.8120\n",
      "Epoch 8/20\n",
      "7982/7982 [==============================] - 1s 74us/sample - loss: 0.3854 - acc: 0.9128 - val_loss: 0.9399 - val_acc: 0.8060\n",
      "Epoch 9/20\n",
      "7982/7982 [==============================] - 0s 61us/sample - loss: 0.3031 - acc: 0.9339 - val_loss: 1.0229 - val_acc: 0.7840\n",
      "Epoch 10/20\n",
      "7982/7982 [==============================] - 0s 62us/sample - loss: 0.2565 - acc: 0.9420 - val_loss: 1.1404 - val_acc: 0.7710\n",
      "Epoch 11/20\n",
      "7982/7982 [==============================] - 1s 66us/sample - loss: 0.2154 - acc: 0.9478 - val_loss: 1.0833 - val_acc: 0.7820\n",
      "Epoch 12/20\n",
      "7982/7982 [==============================] - 1s 64us/sample - loss: 0.1888 - acc: 0.9519 - val_loss: 1.1911 - val_acc: 0.7710\n",
      "Epoch 13/20\n",
      "7982/7982 [==============================] - 0s 62us/sample - loss: 0.1712 - acc: 0.9525 - val_loss: 1.0295 - val_acc: 0.8090\n",
      "Epoch 14/20\n",
      "7982/7982 [==============================] - 1s 65us/sample - loss: 0.1647 - acc: 0.9543 - val_loss: 1.0644 - val_acc: 0.8070\n",
      "Epoch 15/20\n",
      "7982/7982 [==============================] - 1s 69us/sample - loss: 0.1506 - acc: 0.9563 - val_loss: 1.1254 - val_acc: 0.7870\n",
      "Epoch 16/20\n",
      "7982/7982 [==============================] - 1s 73us/sample - loss: 0.1414 - acc: 0.9565 - val_loss: 1.1279 - val_acc: 0.8000\n",
      "Epoch 17/20\n",
      "7982/7982 [==============================] - 1s 73us/sample - loss: 0.1318 - acc: 0.9569 - val_loss: 1.1391 - val_acc: 0.8050\n",
      "Epoch 18/20\n",
      "7982/7982 [==============================] - 1s 64us/sample - loss: 0.1224 - acc: 0.9593 - val_loss: 1.1476 - val_acc: 0.8020\n",
      "Epoch 19/20\n",
      "7982/7982 [==============================] - 1s 70us/sample - loss: 0.1238 - acc: 0.9583 - val_loss: 1.1772 - val_acc: 0.7950\n",
      "Epoch 20/20\n",
      "7982/7982 [==============================] - 1s 72us/sample - loss: 0.1227 - acc: 0.9587 - val_loss: 1.1670 - val_acc: 0.8000\n"
     ]
    }
   ],
   "source": [
    "model = models.Sequential()\n",
    "model.add(layers.Dense(64, activation='relu', input_shape=(10000,)))\n",
    "model.add(layers.Dense(64, activation='relu'))\n",
    "model.add(layers.Dense(64, activation='relu'))\n",
    "model.add(layers.Dense(46, activation='softmax'))\n",
    "\n",
    "model.compile(optimizer='rmsprop', loss='categorical_crossentropy', metrics=['accuracy'])\n",
    "\n",
    "history = model.fit(partial_x_train, partial_y_train, epochs=20, batch_size=512, validation_data=(x_val, y_val))"
   ]
  },
  {
   "cell_type": "code",
   "execution_count": 35,
   "metadata": {},
   "outputs": [
    {
     "data": {
      "image/png": "[encoded data removed]",
      "text/plain": [
       "<Figure size 432x288 with 1 Axes>"
      ]
     },
     "metadata": {
      "needs_background": "light"
     },
     "output_type": "display_data"
    }
   ],
   "source": [
    "plt.clf()\n",
    "\n",
    "loss = history.history['loss']\n",
    "val_loss = history.history['val_loss']\n",
    "epochs = range(1, len(loss) + 1)\n",
    "\n",
    "plt.plot(epochs, loss, 'bo', label='Training loss')\n",
    "plt.plot(epochs, val_loss, 'b', label='Validation loss')\n",
    "plt.title('Training and validation loss')\n",
    "plt.xlabel('Epochs')\n",
    "plt.ylabel('Loss')\n",
    "plt.legend()\n",
    "plt.show()"
   ]
  },
  {
   "cell_type": "code",
   "execution_count": 36,
   "metadata": {},
   "outputs": [
    {
     "data": {
      "image/png": "[encoded data removed]",
      "text/plain": [
       "<Figure size 432x288 with 1 Axes>"
      ]
     },
     "metadata": {
      "needs_background": "light"
     },
     "output_type": "display_data"
    }
   ],
   "source": [
    "plt.clf()\n",
    "\n",
    "acc = history.history['acc']\n",
    "val_acc = history.history['val_acc']\n",
    "\n",
    "plt.plot(epochs, acc, 'bo', label='Training acc')\n",
    "plt.plot(epochs, val_acc, 'b', label='Validation acc')\n",
    "plt.title('Training and validation accracy')\n",
    "plt.xlabel('Epochs')\n",
    "plt.ylabel('Accuracy')\n",
    "plt.legend()\n",
    "plt.show()"
   ]
  },
  {
   "cell_type": "code",
   "execution_count": null,
   "metadata": {},
   "outputs": [],
   "source": []
  }
 ],
 "metadata": {
  "kernelspec": {
   "display_name": "Python 3",
   "language": "python",
   "name": "python3"
  },
  "language_info": {
   "codemirror_mode": {
    "name": "ipython",
    "version": 3
   },
   "file_extension": ".py",
   "mimetype": "text/x-python",
   "name": "python",
   "nbconvert_exporter": "python",
   "pygments_lexer": "ipython3",
   "version": "3.7.4"
  }
 },
 "nbformat": 4,
 "nbformat_minor": 4
}
