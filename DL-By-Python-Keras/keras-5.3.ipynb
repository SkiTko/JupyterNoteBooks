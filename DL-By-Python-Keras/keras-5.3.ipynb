{
 "cells": [
  {
   "cell_type": "markdown",
   "metadata": {},
   "source": [
    "# 5\n",
    "## 5.3\n",
    "### 5.3.1"
   ]
  },
  {
   "cell_type": "code",
   "execution_count": 4,
   "metadata": {},
   "outputs": [],
   "source": [
    "# List 5-16\n",
    "\n",
    "from tensorflow.keras.applications import VGG16\n",
    "\n",
    "conv_base = VGG16(weights='imagenet',\n",
    "                  include_top=False,\n",
    "                  input_shape=(150, 150, 3))"
   ]
  },
  {
   "cell_type": "code",
   "execution_count": 5,
   "metadata": {},
   "outputs": [
    {
     "name": "stdout",
     "output_type": "stream",
     "text": [
      "Model: \"vgg16\"\n",
      "_________________________________________________________________\n",
      "Layer (type)                 Output Shape              Param #   \n",
      "=================================================================\n",
      "input_2 (InputLayer)         [(None, 150, 150, 3)]     0         \n",
      "_________________________________________________________________\n",
      "block1_conv1 (Conv2D)        (None, 150, 150, 64)      1792      \n",
      "_________________________________________________________________\n",
      "block1_conv2 (Conv2D)        (None, 150, 150, 64)      36928     \n",
      "_________________________________________________________________\n",
      "block1_pool (MaxPooling2D)   (None, 75, 75, 64)        0         \n",
      "_________________________________________________________________\n",
      "block2_conv1 (Conv2D)        (None, 75, 75, 128)       73856     \n",
      "_________________________________________________________________\n",
      "block2_conv2 (Conv2D)        (None, 75, 75, 128)       147584    \n",
      "_________________________________________________________________\n",
      "block2_pool (MaxPooling2D)   (None, 37, 37, 128)       0         \n",
      "_________________________________________________________________\n",
      "block3_conv1 (Conv2D)        (None, 37, 37, 256)       295168    \n",
      "_________________________________________________________________\n",
      "block3_conv2 (Conv2D)        (None, 37, 37, 256)       590080    \n",
      "_________________________________________________________________\n",
      "block3_conv3 (Conv2D)        (None, 37, 37, 256)       590080    \n",
      "_________________________________________________________________\n",
      "block3_pool (MaxPooling2D)   (None, 18, 18, 256)       0         \n",
      "_________________________________________________________________\n",
      "block4_conv1 (Conv2D)        (None, 18, 18, 512)       1180160   \n",
      "_________________________________________________________________\n",
      "block4_conv2 (Conv2D)        (None, 18, 18, 512)       2359808   \n",
      "_________________________________________________________________\n",
      "block4_conv3 (Conv2D)        (None, 18, 18, 512)       2359808   \n",
      "_________________________________________________________________\n",
      "block4_pool (MaxPooling2D)   (None, 9, 9, 512)         0         \n",
      "_________________________________________________________________\n",
      "block5_conv1 (Conv2D)        (None, 9, 9, 512)         2359808   \n",
      "_________________________________________________________________\n",
      "block5_conv2 (Conv2D)        (None, 9, 9, 512)         2359808   \n",
      "_________________________________________________________________\n",
      "block5_conv3 (Conv2D)        (None, 9, 9, 512)         2359808   \n",
      "_________________________________________________________________\n",
      "block5_pool (MaxPooling2D)   (None, 4, 4, 512)         0         \n",
      "=================================================================\n",
      "Total params: 14,714,688\n",
      "Trainable params: 14,714,688\n",
      "Non-trainable params: 0\n",
      "_________________________________________________________________\n"
     ]
    }
   ],
   "source": [
    "conv_base.summary()"
   ]
  },
  {
   "cell_type": "markdown",
   "metadata": {},
   "source": [
    "#### データ拡張を行わない高速な特徴抽出"
   ]
  },
  {
   "cell_type": "code",
   "execution_count": 6,
   "metadata": {},
   "outputs": [
    {
     "name": "stdout",
     "output_type": "stream",
     "text": [
      "Found 2000 images belonging to 2 classes.\n",
      "Found 1000 images belonging to 2 classes.\n",
      "Found 1000 images belonging to 2 classes.\n"
     ]
    }
   ],
   "source": [
    "# List 5-17\n",
    "import os\n",
    "import numpy as np\n",
    "from tensorflow.keras.preprocessing.image import ImageDataGenerator\n",
    "\n",
    "base_dir = '/home/takao/Documents/dev/jupyter/DL-By-Python-Keras/5-cat_and_dog_small'\n",
    "\n",
    "train_dir = os.path.join(base_dir, 'train')\n",
    "validation_dir = os.path.join(base_dir, 'validation')\n",
    "test_dir = os.path.join(base_dir, 'test')\n",
    "\n",
    "datagen = ImageDataGenerator(rescale=1./255)\n",
    "batch_size = 20\n",
    "\n",
    "def extract_features(directory, sample_count):\n",
    "    features = np.zeros(shape=(sample_count, 4, 4, 512))\n",
    "    labels = np.zeros(shape=(sample_count))\n",
    "    generator = datagen.flow_from_directory(directory,\n",
    "                                            target_size=(150, 150),\n",
    "                                            batch_size=batch_size,\n",
    "                                            class_mode='binary')\n",
    "    i = 0\n",
    "    for inputs_batch, labels_batch in generator:\n",
    "        features_batch = conv_base.predict(inputs_batch)\n",
    "        features[i * batch_size : (i + 1) * batch_size] = features_batch\n",
    "        labels[i * batch_size : (i + 1) * batch_size] = labels_batch\n",
    "        i += 1\n",
    "        if(i * batch_size >= sample_count):\n",
    "            break;\n",
    "    return features, labels\n",
    "\n",
    "train_features, train_labels = extract_features(train_dir, 2000)\n",
    "validation_features, validation_labels = extract_features(validation_dir, 1000)\n",
    "test_features, test_labels = extract_features(test_dir, 1000)"
   ]
  },
  {
   "cell_type": "code",
   "execution_count": 7,
   "metadata": {},
   "outputs": [],
   "source": [
    "train_features = np.reshape(train_features, (2000, 4*4*512))\n",
    "validation_features = np.reshape(validation_features, (1000, 4*4*512))\n",
    "test_features = np.reshape(test_features, (1000, 4*4*512))"
   ]
  },
  {
   "cell_type": "code",
   "execution_count": 8,
   "metadata": {},
   "outputs": [
    {
     "name": "stderr",
     "output_type": "stream",
     "text": [
      "W0816 17:29:27.729628 140379431780480 deprecation.py:323] From /home/takao/.pyenv/versions/3.7.4/envs/Jupyter/lib/python3.7/site-packages/tensorflow/python/ops/nn_impl.py:180: add_dispatch_support.<locals>.wrapper (from tensorflow.python.ops.array_ops) is deprecated and will be removed in a future version.\n",
      "Instructions for updating:\n",
      "Use tf.where in 2.0, which has the same broadcast rule as np.where\n"
     ]
    },
    {
     "name": "stdout",
     "output_type": "stream",
     "text": [
      "Train on 2000 samples, validate on 1000 samples\n",
      "Epoch 1/30\n",
      "2000/2000 [==============================] - 1s 423us/sample - loss: 0.5899 - acc: 0.6830 - val_loss: 0.4457 - val_acc: 0.8430\n",
      "Epoch 2/30\n",
      "2000/2000 [==============================] - 1s 286us/sample - loss: 0.4241 - acc: 0.8010 - val_loss: 0.3687 - val_acc: 0.8500\n",
      "Epoch 3/30\n",
      "2000/2000 [==============================] - 1s 323us/sample - loss: 0.3572 - acc: 0.8490 - val_loss: 0.3242 - val_acc: 0.8840\n",
      "Epoch 4/30\n",
      "2000/2000 [==============================] - 1s 288us/sample - loss: 0.3146 - acc: 0.8625 - val_loss: 0.3018 - val_acc: 0.8880\n",
      "Epoch 5/30\n",
      "2000/2000 [==============================] - 1s 317us/sample - loss: 0.2914 - acc: 0.8820 - val_loss: 0.2862 - val_acc: 0.8980\n",
      "Epoch 6/30\n",
      "2000/2000 [==============================] - 1s 300us/sample - loss: 0.2627 - acc: 0.8960 - val_loss: 0.2799 - val_acc: 0.8910\n",
      "Epoch 7/30\n",
      "2000/2000 [==============================] - 1s 289us/sample - loss: 0.2550 - acc: 0.8930 - val_loss: 0.2665 - val_acc: 0.9030\n",
      "Epoch 8/30\n",
      "2000/2000 [==============================] - 1s 297us/sample - loss: 0.2329 - acc: 0.9135 - val_loss: 0.2628 - val_acc: 0.8990\n",
      "Epoch 9/30\n",
      "2000/2000 [==============================] - 1s 296us/sample - loss: 0.2157 - acc: 0.9230 - val_loss: 0.2539 - val_acc: 0.9050\n",
      "Epoch 10/30\n",
      "2000/2000 [==============================] - 1s 275us/sample - loss: 0.2064 - acc: 0.9215 - val_loss: 0.2513 - val_acc: 0.9040\n",
      "Epoch 11/30\n",
      "2000/2000 [==============================] - 1s 335us/sample - loss: 0.1953 - acc: 0.9285 - val_loss: 0.2520 - val_acc: 0.9010\n",
      "Epoch 12/30\n",
      "2000/2000 [==============================] - 1s 282us/sample - loss: 0.1906 - acc: 0.9310 - val_loss: 0.2459 - val_acc: 0.9050\n",
      "Epoch 13/30\n",
      "2000/2000 [==============================] - 1s 301us/sample - loss: 0.1800 - acc: 0.9320 - val_loss: 0.2451 - val_acc: 0.9020\n",
      "Epoch 14/30\n",
      "2000/2000 [==============================] - 1s 272us/sample - loss: 0.1796 - acc: 0.9335 - val_loss: 0.2447 - val_acc: 0.9040\n",
      "Epoch 15/30\n",
      "2000/2000 [==============================] - 1s 317us/sample - loss: 0.1723 - acc: 0.9365 - val_loss: 0.2383 - val_acc: 0.9070\n",
      "Epoch 16/30\n",
      "2000/2000 [==============================] - 1s 283us/sample - loss: 0.1593 - acc: 0.9450 - val_loss: 0.2395 - val_acc: 0.9040\n",
      "Epoch 17/30\n",
      "2000/2000 [==============================] - 1s 290us/sample - loss: 0.1515 - acc: 0.9475 - val_loss: 0.2372 - val_acc: 0.9040\n",
      "Epoch 18/30\n",
      "2000/2000 [==============================] - 1s 283us/sample - loss: 0.1482 - acc: 0.9455 - val_loss: 0.2375 - val_acc: 0.9050\n",
      "Epoch 19/30\n",
      "2000/2000 [==============================] - 1s 278us/sample - loss: 0.1383 - acc: 0.9490 - val_loss: 0.2381 - val_acc: 0.9040\n",
      "Epoch 20/30\n",
      "2000/2000 [==============================] - 1s 289us/sample - loss: 0.1352 - acc: 0.9550 - val_loss: 0.2368 - val_acc: 0.9060\n",
      "Epoch 21/30\n",
      "2000/2000 [==============================] - 1s 308us/sample - loss: 0.1336 - acc: 0.9525 - val_loss: 0.2352 - val_acc: 0.9060\n",
      "Epoch 22/30\n",
      "2000/2000 [==============================] - 1s 271us/sample - loss: 0.1246 - acc: 0.9610 - val_loss: 0.2475 - val_acc: 0.9000\n",
      "Epoch 23/30\n",
      "2000/2000 [==============================] - 1s 264us/sample - loss: 0.1214 - acc: 0.9545 - val_loss: 0.2375 - val_acc: 0.9080\n",
      "Epoch 24/30\n",
      "2000/2000 [==============================] - 1s 285us/sample - loss: 0.1159 - acc: 0.9590 - val_loss: 0.2470 - val_acc: 0.9020\n",
      "Epoch 25/30\n",
      "2000/2000 [==============================] - 1s 268us/sample - loss: 0.1110 - acc: 0.9675 - val_loss: 0.2353 - val_acc: 0.9050\n",
      "Epoch 26/30\n",
      "2000/2000 [==============================] - 1s 286us/sample - loss: 0.1028 - acc: 0.9670 - val_loss: 0.2379 - val_acc: 0.9060\n",
      "Epoch 27/30\n",
      "2000/2000 [==============================] - 1s 273us/sample - loss: 0.1061 - acc: 0.9645 - val_loss: 0.2387 - val_acc: 0.9030\n",
      "Epoch 28/30\n",
      "2000/2000 [==============================] - 1s 269us/sample - loss: 0.1022 - acc: 0.9685 - val_loss: 0.2363 - val_acc: 0.9050\n",
      "Epoch 29/30\n",
      "2000/2000 [==============================] - 1s 270us/sample - loss: 0.0934 - acc: 0.9690 - val_loss: 0.2409 - val_acc: 0.9060\n",
      "Epoch 30/30\n",
      "2000/2000 [==============================] - 1s 268us/sample - loss: 0.0901 - acc: 0.9745 - val_loss: 0.2427 - val_acc: 0.9020\n"
     ]
    }
   ],
   "source": [
    "# List 5-18\n",
    "\n",
    "from tensorflow.keras import models, layers, optimizers\n",
    "\n",
    "model = models.Sequential()\n",
    "model.add(layers.Dense(256, activation='relu', input_dim=4*4*512))\n",
    "model.add(layers.Dropout(0.5))\n",
    "model.add(layers.Dense(1, activation='sigmoid'))\n",
    "\n",
    "model.compile(optimizer=optimizers.RMSprop(lr=2e-5),\n",
    "              loss='binary_crossentropy',\n",
    "              metrics=['acc'])\n",
    "\n",
    "history = model.fit(train_features, train_labels,\n",
    "                    epochs=30,\n",
    "                    batch_size=20,\n",
    "                    validation_data=(validation_features, validation_labels))"
   ]
  },
  {
   "cell_type": "code",
   "execution_count": 9,
   "metadata": {},
   "outputs": [
    {
     "data": {
      "image/png": "[encoded data removed]",
      "text/plain": [
       "<Figure size 432x288 with 1 Axes>"
      ]
     },
     "metadata": {
      "needs_background": "light"
     },
     "output_type": "display_data"
    },
    {
     "data": {
      "image/png": "[encoded data removed]",
      "text/plain": [
       "<Figure size 432x288 with 1 Axes>"
      ]
     },
     "metadata": {
      "needs_background": "light"
     },
     "output_type": "display_data"
    }
   ],
   "source": [
    "%matplotlib inline\n",
    "import matplotlib.pyplot as plt\n",
    "\n",
    "acc = history.history['acc']\n",
    "val_acc = history.history['val_acc']\n",
    "loss = history.history['loss']\n",
    "val_loss = history.history['val_loss']\n",
    "\n",
    "epochs = range(len(acc))\n",
    "\n",
    "plt.plot(epochs, acc, 'bo', label='Training acc')\n",
    "plt.plot(epochs, val_acc, 'b', label='Validation acc')\n",
    "plt.title('Training and validation accuracy')\n",
    "plt.legend()\n",
    "\n",
    "plt.figure()\n",
    "\n",
    "plt.plot(epochs, loss, 'bo', label='Training loss')\n",
    "plt.plot(epochs, val_loss, 'b', label='Validation loss')\n",
    "plt.title('Training and validation loss')\n",
    "plt.legend()\n",
    "\n",
    "plt.show()"
   ]
  },
  {
   "cell_type": "markdown",
   "metadata": {},
   "source": [
    "#### データ拡張を行う特徴抽出"
   ]
  },
  {
   "cell_type": "code",
   "execution_count": 10,
   "metadata": {},
   "outputs": [],
   "source": [
    "# List 5-20\n",
    "\n",
    "from tensorflow.keras import models, layers\n",
    "\n",
    "model = models.Sequential()\n",
    "model.add(conv_base)\n",
    "model.add(layers.Flatten())\n",
    "model.add(layers.Dense(256, activation='relu'))\n",
    "model.add(layers.Dense(1, activation='sigmoid'))"
   ]
  },
  {
   "cell_type": "code",
   "execution_count": 11,
   "metadata": {},
   "outputs": [
    {
     "name": "stdout",
     "output_type": "stream",
     "text": [
      "Model: \"sequential_1\"\n",
      "_________________________________________________________________\n",
      "Layer (type)                 Output Shape              Param #   \n",
      "=================================================================\n",
      "vgg16 (Model)                (None, 4, 4, 512)         14714688  \n",
      "_________________________________________________________________\n",
      "flatten (Flatten)            (None, 8192)              0         \n",
      "_________________________________________________________________\n",
      "dense_2 (Dense)              (None, 256)               2097408   \n",
      "_________________________________________________________________\n",
      "dense_3 (Dense)              (None, 1)                 257       \n",
      "=================================================================\n",
      "Total params: 16,812,353\n",
      "Trainable params: 16,812,353\n",
      "Non-trainable params: 0\n",
      "_________________________________________________________________\n"
     ]
    }
   ],
   "source": [
    "model.summary()"
   ]
  },
  {
   "cell_type": "code",
   "execution_count": 12,
   "metadata": {},
   "outputs": [
    {
     "name": "stdout",
     "output_type": "stream",
     "text": [
      "これゎ、conv_base を凍結する前の、訓練する重みの数 30\n"
     ]
    }
   ],
   "source": [
    "print('これゎ、conv_base を凍結する前の、訓練する重みの数', len(model.trainable_weights))"
   ]
  },
  {
   "cell_type": "code",
   "execution_count": 13,
   "metadata": {},
   "outputs": [],
   "source": [
    "conv_base.trainable = False"
   ]
  },
  {
   "cell_type": "code",
   "execution_count": 14,
   "metadata": {},
   "outputs": [
    {
     "name": "stdout",
     "output_type": "stream",
     "text": [
      "これゎ、conv_base を凍結した後の、訓練する重みの数 4\n"
     ]
    }
   ],
   "source": [
    "print('これゎ、conv_base を凍結した後の、訓練する重みの数', len(model.trainable_weights))"
   ]
  },
  {
   "cell_type": "code",
   "execution_count": 15,
   "metadata": {},
   "outputs": [
    {
     "name": "stdout",
     "output_type": "stream",
     "text": [
      "Found 2000 images belonging to 2 classes.\n",
      "Found 2000 images belonging to 2 classes.\n",
      "Epoch 1/30\n",
      "100/100 - 22s - loss: 0.5753 - acc: 0.7135 - val_loss: 0.4397 - val_acc: 0.8290\n",
      "Epoch 2/30\n",
      "100/100 - 20s - loss: 0.4823 - acc: 0.7810 - val_loss: 0.3453 - val_acc: 0.8760\n",
      "Epoch 3/30\n",
      "100/100 - 20s - loss: 0.4310 - acc: 0.8195 - val_loss: 0.3036 - val_acc: 0.8850\n",
      "Epoch 4/30\n",
      "100/100 - 20s - loss: 0.4023 - acc: 0.8315 - val_loss: 0.2775 - val_acc: 0.8970\n",
      "Epoch 5/30\n",
      "100/100 - 20s - loss: 0.3864 - acc: 0.8245 - val_loss: 0.2637 - val_acc: 0.9030\n",
      "Epoch 6/30\n",
      "100/100 - 20s - loss: 0.3625 - acc: 0.8445 - val_loss: 0.2558 - val_acc: 0.8950\n",
      "Epoch 7/30\n",
      "100/100 - 20s - loss: 0.3545 - acc: 0.8495 - val_loss: 0.2418 - val_acc: 0.9010\n",
      "Epoch 8/30\n",
      "100/100 - 20s - loss: 0.3535 - acc: 0.8420 - val_loss: 0.2323 - val_acc: 0.9080\n",
      "Epoch 9/30\n",
      "100/100 - 20s - loss: 0.3372 - acc: 0.8440 - val_loss: 0.2268 - val_acc: 0.9070\n",
      "Epoch 10/30\n",
      "100/100 - 20s - loss: 0.3382 - acc: 0.8540 - val_loss: 0.2186 - val_acc: 0.9090\n",
      "Epoch 11/30\n",
      "100/100 - 20s - loss: 0.3264 - acc: 0.8555 - val_loss: 0.2126 - val_acc: 0.9120\n",
      "Epoch 12/30\n",
      "100/100 - 21s - loss: 0.3270 - acc: 0.8540 - val_loss: 0.2080 - val_acc: 0.9130\n",
      "Epoch 13/30\n",
      "100/100 - 20s - loss: 0.3288 - acc: 0.8545 - val_loss: 0.2105 - val_acc: 0.9130\n",
      "Epoch 14/30\n",
      "100/100 - 21s - loss: 0.3259 - acc: 0.8550 - val_loss: 0.2043 - val_acc: 0.9160\n",
      "Epoch 15/30\n",
      "100/100 - 22s - loss: 0.3232 - acc: 0.8575 - val_loss: 0.1978 - val_acc: 0.9160\n",
      "Epoch 16/30\n",
      "100/100 - 21s - loss: 0.3197 - acc: 0.8610 - val_loss: 0.1935 - val_acc: 0.9200\n",
      "Epoch 17/30\n",
      "100/100 - 22s - loss: 0.3055 - acc: 0.8590 - val_loss: 0.2024 - val_acc: 0.9230\n",
      "Epoch 18/30\n",
      "100/100 - 22s - loss: 0.3136 - acc: 0.8620 - val_loss: 0.1915 - val_acc: 0.9190\n",
      "Epoch 19/30\n",
      "100/100 - 21s - loss: 0.2981 - acc: 0.8730 - val_loss: 0.1931 - val_acc: 0.9210\n",
      "Epoch 20/30\n",
      "100/100 - 22s - loss: 0.2858 - acc: 0.8810 - val_loss: 0.1892 - val_acc: 0.9250\n",
      "Epoch 21/30\n",
      "100/100 - 21s - loss: 0.2895 - acc: 0.8700 - val_loss: 0.1965 - val_acc: 0.9200\n",
      "Epoch 22/30\n",
      "100/100 - 21s - loss: 0.2947 - acc: 0.8725 - val_loss: 0.1825 - val_acc: 0.9230\n",
      "Epoch 23/30\n",
      "100/100 - 21s - loss: 0.2924 - acc: 0.8720 - val_loss: 0.1859 - val_acc: 0.9240\n",
      "Epoch 24/30\n",
      "100/100 - 21s - loss: 0.3041 - acc: 0.8610 - val_loss: 0.1907 - val_acc: 0.9250\n",
      "Epoch 25/30\n",
      "100/100 - 21s - loss: 0.2873 - acc: 0.8700 - val_loss: 0.1755 - val_acc: 0.9210\n",
      "Epoch 26/30\n",
      "100/100 - 22s - loss: 0.2850 - acc: 0.8745 - val_loss: 0.1878 - val_acc: 0.9210\n",
      "Epoch 27/30\n",
      "100/100 - 21s - loss: 0.2870 - acc: 0.8665 - val_loss: 0.1781 - val_acc: 0.9240\n",
      "Epoch 28/30\n",
      "100/100 - 21s - loss: 0.2879 - acc: 0.8770 - val_loss: 0.1703 - val_acc: 0.9310\n",
      "Epoch 29/30\n",
      "100/100 - 22s - loss: 0.2742 - acc: 0.8820 - val_loss: 0.1851 - val_acc: 0.9250\n",
      "Epoch 30/30\n",
      "100/100 - 22s - loss: 0.2743 - acc: 0.8840 - val_loss: 0.1667 - val_acc: 0.9320\n"
     ]
    }
   ],
   "source": [
    "# List 5-21\n",
    "\n",
    "from tensorflow.keras.preprocessing.image import ImageDataGenerator\n",
    "\n",
    "train_datagen = ImageDataGenerator(rescale=1./255,\n",
    "                                   rotation_range=40,\n",
    "                                   width_shift_range=0.2,\n",
    "                                   height_shift_range=0.2,\n",
    "                                   shear_range=0.2,\n",
    "                                   zoom_range=0.2,\n",
    "                                   horizontal_flip=True,\n",
    "                                   fill_mode='nearest')\n",
    "test_datagen = ImageDataGenerator(rescale=1./255)\n",
    "\n",
    "train_generator = train_datagen.flow_from_directory(train_dir,\n",
    "                                                    target_size=(150, 150),\n",
    "                                                    batch_size=20,\n",
    "                                                    class_mode='binary')\n",
    "validation_generator = test_datagen.flow_from_directory(train_dir,\n",
    "                                                        target_size=(150, 150),\n",
    "                                                        batch_size=20,\n",
    "                                                        class_mode='binary')\n",
    "\n",
    "model.compile(optimizer=optimizers.RMSprop(lr=2e-5),\n",
    "              loss='binary_crossentropy',\n",
    "              metrics=['acc'])\n",
    "\n",
    "history = model.fit_generator(train_generator,\n",
    "                              steps_per_epoch=100,\n",
    "                              epochs=30,\n",
    "                              validation_data=validation_generator,\n",
    "                              validation_steps=50,\n",
    "                              verbose=2)"
   ]
  },
  {
   "cell_type": "code",
   "execution_count": 16,
   "metadata": {},
   "outputs": [
    {
     "data": {
      "image/png": "[encoded data removed]",
      "text/plain": [
       "<Figure size 432x288 with 1 Axes>"
      ]
     },
     "metadata": {
      "needs_background": "light"
     },
     "output_type": "display_data"
    },
    {
     "data": {
      "image/png": "[encoded data removed]",
      "text/plain": [
       "<Figure size 432x288 with 1 Axes>"
      ]
     },
     "metadata": {
      "needs_background": "light"
     },
     "output_type": "display_data"
    }
   ],
   "source": [
    "acc = history.history['acc']\n",
    "val_acc = history.history['val_acc']\n",
    "loss = history.history['loss']\n",
    "val_loss = history.history['val_loss']\n",
    "\n",
    "epochs = range(len(acc))\n",
    "\n",
    "plt.plot(epochs, acc, 'bo', label='Training acc')\n",
    "plt.plot(epochs, val_acc, 'b', label='Validation acc')\n",
    "plt.title('Training and validation accuracy')\n",
    "plt.legend()\n",
    "\n",
    "plt.figure()\n",
    "\n",
    "plt.plot(epochs, loss, 'bo', label='Training loss')\n",
    "plt.plot(epochs, val_loss, 'b', label='Validation loss')\n",
    "plt.title('Training and validation loss')\n",
    "plt.legend()\n",
    "\n",
    "plt.show()"
   ]
  },
  {
   "cell_type": "markdown",
   "metadata": {},
   "source": [
    "### 5.3.2"
   ]
  },
  {
   "cell_type": "code",
   "execution_count": 17,
   "metadata": {},
   "outputs": [
    {
     "name": "stdout",
     "output_type": "stream",
     "text": [
      "Model: \"vgg16\"\n",
      "_________________________________________________________________\n",
      "Layer (type)                 Output Shape              Param #   \n",
      "=================================================================\n",
      "input_2 (InputLayer)         [(None, 150, 150, 3)]     0         \n",
      "_________________________________________________________________\n",
      "block1_conv1 (Conv2D)        (None, 150, 150, 64)      1792      \n",
      "_________________________________________________________________\n",
      "block1_conv2 (Conv2D)        (None, 150, 150, 64)      36928     \n",
      "_________________________________________________________________\n",
      "block1_pool (MaxPooling2D)   (None, 75, 75, 64)        0         \n",
      "_________________________________________________________________\n",
      "block2_conv1 (Conv2D)        (None, 75, 75, 128)       73856     \n",
      "_________________________________________________________________\n",
      "block2_conv2 (Conv2D)        (None, 75, 75, 128)       147584    \n",
      "_________________________________________________________________\n",
      "block2_pool (MaxPooling2D)   (None, 37, 37, 128)       0         \n",
      "_________________________________________________________________\n",
      "block3_conv1 (Conv2D)        (None, 37, 37, 256)       295168    \n",
      "_________________________________________________________________\n",
      "block3_conv2 (Conv2D)        (None, 37, 37, 256)       590080    \n",
      "_________________________________________________________________\n",
      "block3_conv3 (Conv2D)        (None, 37, 37, 256)       590080    \n",
      "_________________________________________________________________\n",
      "block3_pool (MaxPooling2D)   (None, 18, 18, 256)       0         \n",
      "_________________________________________________________________\n",
      "block4_conv1 (Conv2D)        (None, 18, 18, 512)       1180160   \n",
      "_________________________________________________________________\n",
      "block4_conv2 (Conv2D)        (None, 18, 18, 512)       2359808   \n",
      "_________________________________________________________________\n",
      "block4_conv3 (Conv2D)        (None, 18, 18, 512)       2359808   \n",
      "_________________________________________________________________\n",
      "block4_pool (MaxPooling2D)   (None, 9, 9, 512)         0         \n",
      "_________________________________________________________________\n",
      "block5_conv1 (Conv2D)        (None, 9, 9, 512)         2359808   \n",
      "_________________________________________________________________\n",
      "block5_conv2 (Conv2D)        (None, 9, 9, 512)         2359808   \n",
      "_________________________________________________________________\n",
      "block5_conv3 (Conv2D)        (None, 9, 9, 512)         2359808   \n",
      "_________________________________________________________________\n",
      "block5_pool (MaxPooling2D)   (None, 4, 4, 512)         0         \n",
      "=================================================================\n",
      "Total params: 14,714,688\n",
      "Trainable params: 0\n",
      "Non-trainable params: 14,714,688\n",
      "_________________________________________________________________\n"
     ]
    }
   ],
   "source": [
    "conv_base.summary()"
   ]
  },
  {
   "cell_type": "code",
   "execution_count": 18,
   "metadata": {},
   "outputs": [],
   "source": [
    "# List 5-22\n",
    "\n",
    "conv_base.trainable = True\n",
    "\n",
    "set_trainable = False\n",
    "for layer in conv_base.layers:\n",
    "    if layer.name == 'block5_conv1':\n",
    "        set_trainable = True\n",
    "    if set_trainable:\n",
    "        layer.trainable = True\n",
    "    else:\n",
    "        layer.trainable = False"
   ]
  },
  {
   "cell_type": "code",
   "execution_count": 19,
   "metadata": {},
   "outputs": [
    {
     "name": "stdout",
     "output_type": "stream",
     "text": [
      "Epoch 1/100\n",
      "100/100 [==============================] - 26s 255ms/step - loss: 0.3006 - acc: 0.8705 - val_loss: 0.1410 - val_acc: 0.9420\n",
      "Epoch 2/100\n",
      "100/100 [==============================] - 26s 258ms/step - loss: 0.2627 - acc: 0.8875 - val_loss: 0.1207 - val_acc: 0.9510\n",
      "Epoch 3/100\n",
      "100/100 [==============================] - 25s 246ms/step - loss: 0.2488 - acc: 0.8975 - val_loss: 0.1352 - val_acc: 0.9490\n",
      "Epoch 4/100\n",
      "100/100 [==============================] - 26s 256ms/step - loss: 0.2105 - acc: 0.9110 - val_loss: 0.1312 - val_acc: 0.9550\n",
      "Epoch 5/100\n",
      "100/100 [==============================] - 27s 265ms/step - loss: 0.2161 - acc: 0.9080 - val_loss: 0.0990 - val_acc: 0.9590\n",
      "Epoch 6/100\n",
      "100/100 [==============================] - 25s 249ms/step - loss: 0.2020 - acc: 0.9210 - val_loss: 0.0933 - val_acc: 0.9650\n",
      "Epoch 7/100\n",
      "100/100 [==============================] - 26s 255ms/step - loss: 0.1756 - acc: 0.9265 - val_loss: 0.0731 - val_acc: 0.9720\n",
      "Epoch 8/100\n",
      "100/100 [==============================] - 25s 252ms/step - loss: 0.1682 - acc: 0.9235 - val_loss: 0.0671 - val_acc: 0.9770\n",
      "Epoch 9/100\n",
      "100/100 [==============================] - 24s 242ms/step - loss: 0.1631 - acc: 0.9275 - val_loss: 0.0597 - val_acc: 0.9750\n",
      "Epoch 10/100\n",
      "100/100 [==============================] - 25s 251ms/step - loss: 0.1564 - acc: 0.9395 - val_loss: 0.0780 - val_acc: 0.9730\n",
      "Epoch 11/100\n",
      "100/100 [==============================] - 25s 251ms/step - loss: 0.1331 - acc: 0.9500 - val_loss: 0.0593 - val_acc: 0.9800\n",
      "Epoch 12/100\n",
      "100/100 [==============================] - 25s 251ms/step - loss: 0.1535 - acc: 0.9350 - val_loss: 0.0630 - val_acc: 0.9740\n",
      "Epoch 13/100\n",
      "100/100 [==============================] - 26s 258ms/step - loss: 0.1351 - acc: 0.9415 - val_loss: 0.0600 - val_acc: 0.9820\n",
      "Epoch 14/100\n",
      "100/100 [==============================] - 26s 264ms/step - loss: 0.1415 - acc: 0.9450 - val_loss: 0.0548 - val_acc: 0.9810\n",
      "Epoch 15/100\n",
      "100/100 [==============================] - 26s 260ms/step - loss: 0.1251 - acc: 0.9480 - val_loss: 0.0488 - val_acc: 0.9830\n",
      "Epoch 16/100\n",
      "100/100 [==============================] - 27s 266ms/step - loss: 0.1221 - acc: 0.9470 - val_loss: 0.0347 - val_acc: 0.9870\n",
      "Epoch 17/100\n",
      "100/100 [==============================] - 24s 237ms/step - loss: 0.1215 - acc: 0.9480 - val_loss: 0.0322 - val_acc: 0.9900\n",
      "Epoch 18/100\n",
      "100/100 [==============================] - 26s 257ms/step - loss: 0.0927 - acc: 0.9665 - val_loss: 0.0348 - val_acc: 0.9900\n",
      "Epoch 19/100\n",
      "100/100 [==============================] - 25s 248ms/step - loss: 0.1177 - acc: 0.9560 - val_loss: 0.0319 - val_acc: 0.9910\n",
      "Epoch 20/100\n",
      "100/100 [==============================] - 26s 262ms/step - loss: 0.1018 - acc: 0.9615 - val_loss: 0.0374 - val_acc: 0.9860\n",
      "Epoch 21/100\n",
      "100/100 [==============================] - 27s 272ms/step - loss: 0.0889 - acc: 0.9710 - val_loss: 0.0537 - val_acc: 0.9820\n",
      "Epoch 22/100\n",
      "100/100 [==============================] - 26s 258ms/step - loss: 0.1066 - acc: 0.9585 - val_loss: 0.0240 - val_acc: 0.9920\n",
      "Epoch 23/100\n",
      "100/100 [==============================] - 25s 253ms/step - loss: 0.0812 - acc: 0.9670 - val_loss: 0.0207 - val_acc: 0.9940\n",
      "Epoch 24/100\n",
      "100/100 [==============================] - 25s 247ms/step - loss: 0.0922 - acc: 0.9625 - val_loss: 0.0264 - val_acc: 0.9930\n",
      "Epoch 25/100\n",
      "100/100 [==============================] - 24s 242ms/step - loss: 0.0850 - acc: 0.9685 - val_loss: 0.0189 - val_acc: 0.9940\n",
      "Epoch 26/100\n",
      "100/100 [==============================] - 26s 256ms/step - loss: 0.0738 - acc: 0.9690 - val_loss: 0.0179 - val_acc: 0.9950\n",
      "Epoch 27/100\n",
      "100/100 [==============================] - 24s 243ms/step - loss: 0.0754 - acc: 0.9725 - val_loss: 0.0173 - val_acc: 0.9940\n",
      "Epoch 28/100\n",
      "100/100 [==============================] - 24s 241ms/step - loss: 0.0802 - acc: 0.9665 - val_loss: 0.0180 - val_acc: 0.9940\n",
      "Epoch 29/100\n",
      "100/100 [==============================] - 24s 245ms/step - loss: 0.0759 - acc: 0.9710 - val_loss: 0.0170 - val_acc: 0.9960\n",
      "Epoch 30/100\n",
      "100/100 [==============================] - 24s 241ms/step - loss: 0.0669 - acc: 0.9760 - val_loss: 0.0137 - val_acc: 0.9940\n",
      "Epoch 31/100\n",
      "100/100 [==============================] - 25s 248ms/step - loss: 0.0690 - acc: 0.9740 - val_loss: 0.0132 - val_acc: 0.9980\n",
      "Epoch 32/100\n",
      "100/100 [==============================] - 25s 251ms/step - loss: 0.0687 - acc: 0.9750 - val_loss: 0.0447 - val_acc: 0.9850\n",
      "Epoch 33/100\n",
      "100/100 [==============================] - 26s 261ms/step - loss: 0.0599 - acc: 0.9750 - val_loss: 0.0131 - val_acc: 0.9970\n",
      "Epoch 34/100\n",
      "100/100 [==============================] - 26s 261ms/step - loss: 0.0648 - acc: 0.9755 - val_loss: 0.0162 - val_acc: 0.9920\n",
      "Epoch 35/100\n",
      "100/100 [==============================] - 26s 260ms/step - loss: 0.0572 - acc: 0.9820 - val_loss: 0.0072 - val_acc: 0.9990\n",
      "Epoch 36/100\n",
      "100/100 [==============================] - 26s 259ms/step - loss: 0.0652 - acc: 0.9735 - val_loss: 0.0082 - val_acc: 0.9980\n",
      "Epoch 37/100\n",
      "100/100 [==============================] - 27s 270ms/step - loss: 0.0565 - acc: 0.9785 - val_loss: 0.0148 - val_acc: 0.9970\n",
      "Epoch 38/100\n",
      "100/100 [==============================] - 25s 251ms/step - loss: 0.0574 - acc: 0.9780 - val_loss: 0.0097 - val_acc: 0.9980\n",
      "Epoch 39/100\n",
      "100/100 [==============================] - 24s 238ms/step - loss: 0.0499 - acc: 0.9785 - val_loss: 0.0113 - val_acc: 0.9950\n",
      "Epoch 40/100\n",
      "100/100 [==============================] - 25s 255ms/step - loss: 0.0508 - acc: 0.9810 - val_loss: 0.0184 - val_acc: 0.9930\n",
      "Epoch 41/100\n",
      "100/100 [==============================] - 26s 259ms/step - loss: 0.0482 - acc: 0.9800 - val_loss: 0.0069 - val_acc: 0.9980\n",
      "Epoch 42/100\n",
      "100/100 [==============================] - 26s 257ms/step - loss: 0.0521 - acc: 0.9830 - val_loss: 0.0127 - val_acc: 0.9960\n",
      "Epoch 43/100\n",
      "100/100 [==============================] - 25s 253ms/step - loss: 0.0481 - acc: 0.9835 - val_loss: 0.0060 - val_acc: 0.9990\n",
      "Epoch 44/100\n",
      "100/100 [==============================] - 25s 246ms/step - loss: 0.0403 - acc: 0.9855 - val_loss: 0.0060 - val_acc: 0.9980\n",
      "Epoch 45/100\n",
      "100/100 [==============================] - 25s 248ms/step - loss: 0.0385 - acc: 0.9870 - val_loss: 0.0071 - val_acc: 0.9980\n",
      "Epoch 46/100\n",
      "100/100 [==============================] - 25s 247ms/step - loss: 0.0417 - acc: 0.9830 - val_loss: 0.0040 - val_acc: 0.9990\n",
      "Epoch 47/100\n",
      "100/100 [==============================] - 26s 256ms/step - loss: 0.0371 - acc: 0.9865 - val_loss: 0.0032 - val_acc: 0.9990\n",
      "Epoch 48/100\n",
      "100/100 [==============================] - 26s 256ms/step - loss: 0.0568 - acc: 0.9810 - val_loss: 0.0044 - val_acc: 0.9980\n",
      "Epoch 49/100\n",
      "100/100 [==============================] - 26s 257ms/step - loss: 0.0395 - acc: 0.9875 - val_loss: 0.0069 - val_acc: 0.9960\n",
      "Epoch 50/100\n",
      "100/100 [==============================] - 25s 250ms/step - loss: 0.0451 - acc: 0.9820 - val_loss: 0.0026 - val_acc: 1.0000\n",
      "Epoch 51/100\n",
      "100/100 [==============================] - 28s 278ms/step - loss: 0.0341 - acc: 0.9885 - val_loss: 0.0021 - val_acc: 1.0000\n",
      "Epoch 52/100\n",
      "100/100 [==============================] - 26s 260ms/step - loss: 0.0342 - acc: 0.9865 - val_loss: 0.0019 - val_acc: 1.0000\n",
      "Epoch 53/100\n",
      "100/100 [==============================] - 26s 259ms/step - loss: 0.0375 - acc: 0.9865 - val_loss: 0.0022 - val_acc: 1.0000\n",
      "Epoch 54/100\n",
      "100/100 [==============================] - 26s 264ms/step - loss: 0.0381 - acc: 0.9825 - val_loss: 0.0039 - val_acc: 1.0000\n",
      "Epoch 55/100\n",
      "100/100 [==============================] - 26s 261ms/step - loss: 0.0404 - acc: 0.9850 - val_loss: 0.0097 - val_acc: 0.9960\n",
      "Epoch 56/100\n",
      "100/100 [==============================] - 27s 267ms/step - loss: 0.0398 - acc: 0.9875 - val_loss: 0.0043 - val_acc: 0.9990\n",
      "Epoch 57/100\n",
      "100/100 [==============================] - 26s 257ms/step - loss: 0.0350 - acc: 0.9865 - val_loss: 0.0022 - val_acc: 0.9990\n",
      "Epoch 58/100\n",
      "100/100 [==============================] - 24s 244ms/step - loss: 0.0373 - acc: 0.9875 - val_loss: 0.0015 - val_acc: 1.0000\n",
      "Epoch 59/100\n",
      "100/100 [==============================] - 26s 258ms/step - loss: 0.0299 - acc: 0.9915 - val_loss: 0.0029 - val_acc: 0.9990\n",
      "Epoch 60/100\n",
      "100/100 [==============================] - 26s 255ms/step - loss: 0.0282 - acc: 0.9905 - val_loss: 0.0026 - val_acc: 0.9990\n",
      "Epoch 61/100\n",
      "100/100 [==============================] - 25s 246ms/step - loss: 0.0330 - acc: 0.9890 - val_loss: 0.0016 - val_acc: 1.0000\n",
      "Epoch 62/100\n",
      "100/100 [==============================] - 24s 244ms/step - loss: 0.0386 - acc: 0.9850 - val_loss: 0.0027 - val_acc: 1.0000\n",
      "Epoch 63/100\n",
      "100/100 [==============================] - 24s 238ms/step - loss: 0.0290 - acc: 0.9895 - val_loss: 0.0010 - val_acc: 1.0000\n",
      "Epoch 64/100\n",
      "100/100 [==============================] - 26s 262ms/step - loss: 0.0267 - acc: 0.9905 - val_loss: 0.0021 - val_acc: 0.9990\n",
      "Epoch 65/100\n",
      "100/100 [==============================] - 25s 250ms/step - loss: 0.0286 - acc: 0.9885 - val_loss: 0.0013 - val_acc: 1.0000\n",
      "Epoch 66/100\n",
      "100/100 [==============================] - 24s 240ms/step - loss: 0.0255 - acc: 0.9925 - val_loss: 0.0023 - val_acc: 1.0000\n",
      "Epoch 67/100\n",
      "100/100 [==============================] - 24s 238ms/step - loss: 0.0301 - acc: 0.9900 - val_loss: 0.0073 - val_acc: 0.9980\n",
      "Epoch 68/100\n",
      "100/100 [==============================] - 24s 238ms/step - loss: 0.0267 - acc: 0.9925 - val_loss: 5.0924e-04 - val_acc: 1.0000\n",
      "Epoch 69/100\n",
      "100/100 [==============================] - 24s 238ms/step - loss: 0.0303 - acc: 0.9905 - val_loss: 8.1996e-04 - val_acc: 1.0000\n",
      "Epoch 70/100\n",
      "100/100 [==============================] - 24s 238ms/step - loss: 0.0328 - acc: 0.9880 - val_loss: 8.6200e-04 - val_acc: 1.0000\n",
      "Epoch 71/100\n",
      "100/100 [==============================] - 24s 237ms/step - loss: 0.0272 - acc: 0.9910 - val_loss: 0.0028 - val_acc: 0.9990\n",
      "Epoch 72/100\n",
      "100/100 [==============================] - 24s 237ms/step - loss: 0.0291 - acc: 0.9870 - val_loss: 0.0028 - val_acc: 0.9990\n",
      "Epoch 73/100\n",
      "100/100 [==============================] - 24s 237ms/step - loss: 0.0281 - acc: 0.9900 - val_loss: 0.0016 - val_acc: 1.0000\n",
      "Epoch 74/100\n",
      "100/100 [==============================] - 24s 238ms/step - loss: 0.0221 - acc: 0.9920 - val_loss: 0.0024 - val_acc: 1.0000\n",
      "Epoch 75/100\n",
      "100/100 [==============================] - 24s 237ms/step - loss: 0.0256 - acc: 0.9895 - val_loss: 4.6422e-04 - val_acc: 1.0000\n",
      "Epoch 76/100\n",
      "100/100 [==============================] - 24s 242ms/step - loss: 0.0302 - acc: 0.9900 - val_loss: 3.5652e-04 - val_acc: 1.0000\n",
      "Epoch 77/100\n",
      "100/100 [==============================] - 24s 241ms/step - loss: 0.0343 - acc: 0.9905 - val_loss: 4.8301e-04 - val_acc: 1.0000\n",
      "Epoch 78/100\n",
      "100/100 [==============================] - 25s 254ms/step - loss: 0.0257 - acc: 0.9925 - val_loss: 2.8247e-04 - val_acc: 1.0000\n",
      "Epoch 79/100\n",
      "100/100 [==============================] - 26s 255ms/step - loss: 0.0264 - acc: 0.9905 - val_loss: 7.6380e-04 - val_acc: 1.0000\n",
      "Epoch 80/100\n",
      "100/100 [==============================] - 24s 241ms/step - loss: 0.0193 - acc: 0.9965 - val_loss: 2.1516e-04 - val_acc: 1.0000\n",
      "Epoch 81/100\n",
      "100/100 [==============================] - 24s 243ms/step - loss: 0.0257 - acc: 0.9910 - val_loss: 0.0047 - val_acc: 0.9990\n",
      "Epoch 82/100\n",
      "100/100 [==============================] - 25s 249ms/step - loss: 0.0256 - acc: 0.9910 - val_loss: 3.1591e-04 - val_acc: 1.0000\n",
      "Epoch 83/100\n",
      "100/100 [==============================] - 26s 255ms/step - loss: 0.0219 - acc: 0.9925 - val_loss: 2.9449e-04 - val_acc: 1.0000\n",
      "Epoch 84/100\n",
      "100/100 [==============================] - 26s 256ms/step - loss: 0.0144 - acc: 0.9965 - val_loss: 0.0013 - val_acc: 0.9990\n",
      "Epoch 85/100\n",
      "100/100 [==============================] - 25s 246ms/step - loss: 0.0314 - acc: 0.9915 - val_loss: 0.0032 - val_acc: 1.0000\n",
      "Epoch 86/100\n",
      "100/100 [==============================] - 25s 251ms/step - loss: 0.0195 - acc: 0.9925 - val_loss: 0.0013 - val_acc: 0.9990\n",
      "Epoch 87/100\n",
      "100/100 [==============================] - 25s 251ms/step - loss: 0.0219 - acc: 0.9915 - val_loss: 0.0054 - val_acc: 0.9980\n",
      "Epoch 88/100\n",
      "100/100 [==============================] - 26s 256ms/step - loss: 0.0179 - acc: 0.9910 - val_loss: 0.0040 - val_acc: 0.9990\n",
      "Epoch 89/100\n",
      "100/100 [==============================] - 25s 251ms/step - loss: 0.0183 - acc: 0.9920 - val_loss: 4.4555e-04 - val_acc: 1.0000\n",
      "Epoch 90/100\n",
      "100/100 [==============================] - 24s 244ms/step - loss: 0.0199 - acc: 0.9925 - val_loss: 1.2837e-04 - val_acc: 1.0000\n",
      "Epoch 91/100\n",
      "100/100 [==============================] - 25s 245ms/step - loss: 0.0179 - acc: 0.9945 - val_loss: 2.3457e-04 - val_acc: 1.0000\n",
      "Epoch 92/100\n",
      "100/100 [==============================] - 26s 255ms/step - loss: 0.0173 - acc: 0.9945 - val_loss: 2.4584e-04 - val_acc: 1.0000\n",
      "Epoch 93/100\n",
      "100/100 [==============================] - 24s 242ms/step - loss: 0.0188 - acc: 0.9915 - val_loss: 6.2710e-04 - val_acc: 1.0000\n",
      "Epoch 94/100\n",
      "100/100 [==============================] - 25s 247ms/step - loss: 0.0188 - acc: 0.9930 - val_loss: 0.0032 - val_acc: 0.9990\n",
      "Epoch 95/100\n",
      "100/100 [==============================] - 25s 247ms/step - loss: 0.0166 - acc: 0.9955 - val_loss: 0.0058 - val_acc: 0.9990\n",
      "Epoch 96/100\n",
      "100/100 [==============================] - 30s 303ms/step - loss: 0.0188 - acc: 0.9935 - val_loss: 4.3348e-04 - val_acc: 1.0000\n",
      "Epoch 97/100\n",
      "100/100 [==============================] - 24s 239ms/step - loss: 0.0174 - acc: 0.9930 - val_loss: 5.9918e-04 - val_acc: 1.0000\n",
      "Epoch 98/100\n",
      "100/100 [==============================] - 24s 242ms/step - loss: 0.0193 - acc: 0.9920 - val_loss: 3.6216e-04 - val_acc: 1.0000\n",
      "Epoch 99/100\n",
      "100/100 [==============================] - 24s 242ms/step - loss: 0.0118 - acc: 0.9955 - val_loss: 9.5909e-04 - val_acc: 1.0000\n",
      "Epoch 100/100\n",
      "100/100 [==============================] - 24s 240ms/step - loss: 0.0231 - acc: 0.9900 - val_loss: 9.2280e-04 - val_acc: 1.0000\n"
     ]
    }
   ],
   "source": [
    "model.compile(optimizer=optimizers.RMSprop(lr=1e-5),\n",
    "              loss='binary_crossentropy',\n",
    "              metrics=['acc'])\n",
    "\n",
    "history = model.fit_generator(train_generator,\n",
    "                              steps_per_epoch=100,\n",
    "                              epochs=100,\n",
    "                              validation_data=validation_generator,\n",
    "                              validation_steps=50)"
   ]
  },
  {
   "cell_type": "code",
   "execution_count": 20,
   "metadata": {},
   "outputs": [
    {
     "data": {
      "image/png": "[encoded data removed]",
      "text/plain": [
       "<Figure size 432x288 with 1 Axes>"
      ]
     },
     "metadata": {
      "needs_background": "light"
     },
     "output_type": "display_data"
    },
    {
     "data": {
      "image/png": "[encoded data removed]",
      "text/plain": [
       "<Figure size 432x288 with 1 Axes>"
      ]
     },
     "metadata": {
      "needs_background": "light"
     },
     "output_type": "display_data"
    }
   ],
   "source": [
    "acc = history.history['acc']\n",
    "val_acc = history.history['val_acc']\n",
    "loss = history.history['loss']\n",
    "val_loss = history.history['val_loss']\n",
    "\n",
    "epochs = range(len(acc))\n",
    "\n",
    "plt.plot(epochs, acc, 'bo', label='Training acc')\n",
    "plt.plot(epochs, val_acc, 'b', label='Validation acc')\n",
    "plt.title('Training and validation accuracy')\n",
    "plt.legend()\n",
    "\n",
    "plt.figure()\n",
    "\n",
    "plt.plot(epochs, loss, 'bo', label='Training loss')\n",
    "plt.plot(epochs, val_loss, 'b', label='Validation loss')\n",
    "plt.title('Training and validation loss')\n",
    "plt.legend()\n",
    "\n",
    "plt.show()"
   ]
  },
  {
   "cell_type": "code",
   "execution_count": 21,
   "metadata": {},
   "outputs": [
    {
     "data": {
      "image/png": "[encoded data removed]",
      "text/plain": [
       "<Figure size 432x288 with 1 Axes>"
      ]
     },
     "metadata": {
      "needs_background": "light"
     },
     "output_type": "display_data"
    },
    {
     "data": {
      "image/png": "[encoded data removed]",
      "text/plain": [
       "<Figure size 432x288 with 1 Axes>"
      ]
     },
     "metadata": {
      "needs_background": "light"
     },
     "output_type": "display_data"
    }
   ],
   "source": [
    "def smooth_curve(points, factor=0.8):\n",
    "    smoothed_points=[]\n",
    "    for point in points:\n",
    "        if smoothed_points:\n",
    "            previous = smoothed_points[-1]\n",
    "            smoothed_points.append(previous*factor + point * (1 - factor))\n",
    "        else:\n",
    "            smoothed_points.append(point)\n",
    "    return smoothed_points\n",
    "\n",
    "plt.plot(epochs, smooth_curve(acc), 'bo', label='Smoothed training acc')\n",
    "plt.plot(epochs, smooth_curve(val_acc), 'b', label='Smoothed validation acc')\n",
    "plt.title('Training and validation accuracy')\n",
    "plt.legend()\n",
    "\n",
    "plt.figure()\n",
    "\n",
    "plt.plot(epochs, smooth_curve(loss), 'bo', label='Smoothed training loss')\n",
    "plt.plot(epochs, smooth_curve(val_loss), 'b', label='Smoothed validation loss')\n",
    "plt.title('Training and validation loss')\n",
    "plt.legend()\n",
    "\n",
    "plt.show()"
   ]
  },
  {
   "cell_type": "code",
   "execution_count": 22,
   "metadata": {},
   "outputs": [
    {
     "name": "stdout",
     "output_type": "stream",
     "text": [
      "Found 1000 images belonging to 2 classes.\n",
      "test_acc 0.937\n"
     ]
    }
   ],
   "source": [
    "test_generator = test_datagen.flow_from_directory(test_dir,\n",
    "                                                  target_size=(150,150),\n",
    "                                                  batch_size=20,\n",
    "                                                  class_mode='binary')\n",
    "test_loss, test_acc = model.evaluate_generator(test_generator, steps=50)\n",
    "print('test_acc', test_acc)"
   ]
  },
  {
   "cell_type": "code",
   "execution_count": null,
   "metadata": {},
   "outputs": [],
   "source": []
  }
 ],
 "metadata": {
  "kernelspec": {
   "display_name": "Python 3",
   "language": "python",
   "name": "python3"
  },
  "language_info": {
   "codemirror_mode": {
    "name": "ipython",
    "version": 3
   },
   "file_extension": ".py",
   "mimetype": "text/x-python",
   "name": "python",
   "nbconvert_exporter": "python",
   "pygments_lexer": "ipython3",
   "version": "3.7.4"
  }
 },
 "nbformat": 4,
 "nbformat_minor": 4
}
