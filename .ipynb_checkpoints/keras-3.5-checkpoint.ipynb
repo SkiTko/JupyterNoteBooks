{
 "cells": [
  {
   "cell_type": "markdown",
   "metadata": {},
   "source": [
    "# 3\n",
    "## 3.5"
   ]
  },
  {
   "cell_type": "code",
   "execution_count": 2,
   "metadata": {},
   "outputs": [],
   "source": [
    "# List 3-12\n",
    "\n",
    "from tensorflow.keras.datasets import reuters\n",
    "\n",
    "(train_data, train_labels), (test_data, test_labels) = reuters.load_data(num_words=10000)"
   ]
  },
  {
   "cell_type": "code",
   "execution_count": 3,
   "metadata": {},
   "outputs": [
    {
     "data": {
      "text/plain": [
       "8982"
      ]
     },
     "execution_count": 3,
     "metadata": {},
     "output_type": "execute_result"
    }
   ],
   "source": [
    "len(train_data)"
   ]
  },
  {
   "cell_type": "code",
   "execution_count": 4,
   "metadata": {},
   "outputs": [
    {
     "data": {
      "text/plain": [
       "2246"
      ]
     },
     "execution_count": 4,
     "metadata": {},
     "output_type": "execute_result"
    }
   ],
   "source": [
    "len(test_data)"
   ]
  },
  {
   "cell_type": "code",
   "execution_count": 5,
   "metadata": {},
   "outputs": [
    {
     "data": {
      "text/plain": [
       "[1,\n",
       " 245,\n",
       " 273,\n",
       " 207,\n",
       " 156,\n",
       " 53,\n",
       " 74,\n",
       " 160,\n",
       " 26,\n",
       " 14,\n",
       " 46,\n",
       " 296,\n",
       " 26,\n",
       " 39,\n",
       " 74,\n",
       " 2979,\n",
       " 3554,\n",
       " 14,\n",
       " 46,\n",
       " 4689,\n",
       " 4329,\n",
       " 86,\n",
       " 61,\n",
       " 3499,\n",
       " 4795,\n",
       " 14,\n",
       " 61,\n",
       " 451,\n",
       " 4329,\n",
       " 17,\n",
       " 12]"
      ]
     },
     "execution_count": 5,
     "metadata": {},
     "output_type": "execute_result"
    }
   ],
   "source": [
    "train_data[10]"
   ]
  },
  {
   "cell_type": "code",
   "execution_count": 6,
   "metadata": {},
   "outputs": [
    {
     "data": {
      "text/plain": [
       "'? ? ? said as a result of its december acquisition of space co it expects earnings per share in 1987 of 1 15 to 1 30 dlrs per share up from 70 cts in 1986 the company said pretax net should rise to nine to 10 mln dlrs from six mln dlrs in 1986 and rental operation revenues to 19 to 22 mln dlrs from 12 5 mln dlrs it said cash flow per share this year should be 2 50 to three dlrs reuter 3'"
      ]
     },
     "execution_count": 6,
     "metadata": {},
     "output_type": "execute_result"
    }
   ],
   "source": [
    "# List 3-13\n",
    "\n",
    "word_index = reuters.get_word_index()\n",
    "reverse_word_index = dict([(value, key) for (key, value) in word_index.items()])\n",
    "\n",
    "decoded_newswire = ' '.join([reverse_word_index.get(i-3, '?') for i in train_data[0]])\n",
    "decoded_newswire"
   ]
  },
  {
   "cell_type": "code",
   "execution_count": 7,
   "metadata": {},
   "outputs": [
    {
     "data": {
      "text/plain": [
       "3"
      ]
     },
     "execution_count": 7,
     "metadata": {},
     "output_type": "execute_result"
    }
   ],
   "source": [
    "train_labels[10]"
   ]
  },
  {
   "cell_type": "code",
   "execution_count": 8,
   "metadata": {},
   "outputs": [],
   "source": [
    "# List 3-14\n",
    "\n",
    "import numpy as np\n",
    "\n",
    "def vectorize_sequences(sequences, dimension=10000):\n",
    "    results = np.zeros((len(sequences), dimension))\n",
    "    for i, sequence in enumerate(sequences):\n",
    "        results[i, sequence] = 1.\n",
    "    return results\n",
    "\n",
    "x_train = vectorize_sequences(train_data)\n",
    "x_test  = vectorize_sequences(test_data)"
   ]
  },
  {
   "cell_type": "code",
   "execution_count": 9,
   "metadata": {},
   "outputs": [],
   "source": [
    "def to_one_hot(labels, dimension=46):\n",
    "    results = np.zeros((len(labels), dimension))\n",
    "    for i, label in enumerate(labels):\n",
    "        results[i, label] = 1.\n",
    "    return results\n",
    "\n",
    "one_hot_train_labels = to_one_hot(train_labels)\n",
    "one_hot_test_labels  = to_one_hot(test_labels)"
   ]
  },
  {
   "cell_type": "markdown",
   "metadata": {},
   "source": [
    "## 3.5.3"
   ]
  },
  {
   "cell_type": "code",
   "execution_count": 10,
   "metadata": {},
   "outputs": [
    {
     "name": "stderr",
     "output_type": "stream",
     "text": [
      "WARNING: Logging before flag parsing goes to stderr.\n",
      "W0804 18:55:40.533032 140686436499584 deprecation.py:506] From /home/takao/.pyenv/versions/3.7.4/envs/Jupyter/lib/python3.7/site-packages/tensorflow/python/ops/init_ops.py:1251: calling VarianceScaling.__init__ (from tensorflow.python.ops.init_ops) with dtype is deprecated and will be removed in a future version.\n",
      "Instructions for updating:\n",
      "Call initializer instance with the dtype argument instead of passing it to the constructor\n"
     ]
    }
   ],
   "source": [
    "# List 3-15\n",
    "\n",
    "from tensorflow.keras import models\n",
    "from tensorflow.keras import layers\n",
    "\n",
    "model = models.Sequential()\n",
    "model.add(layers.Dense(64, activation='relu', input_shape=(10000,)))\n",
    "model.add(layers.Dense(64, activation='relu'))\n",
    "model.add(layers.Dense(46, activation='softmax'))"
   ]
  },
  {
   "cell_type": "code",
   "execution_count": 11,
   "metadata": {},
   "outputs": [],
   "source": [
    "# List 3-16\n",
    "model.compile(optimizer='rmsprop', loss='categorical_crossentropy', metrics=['accuracy'])"
   ]
  },
  {
   "cell_type": "markdown",
   "metadata": {},
   "source": [
    "## 3.5.4"
   ]
  },
  {
   "cell_type": "code",
   "execution_count": 12,
   "metadata": {},
   "outputs": [],
   "source": [
    "# List 3-17\n",
    "\n",
    "x_val = x_train[:1000]\n",
    "partial_x_train = x_train[1000:]\n",
    "\n",
    "y_val = one_hot_train_labels[:1000]\n",
    "partial_y_train = one_hot_train_labels[1000:]"
   ]
  },
  {
   "cell_type": "code",
   "execution_count": 13,
   "metadata": {},
   "outputs": [
    {
     "name": "stdout",
     "output_type": "stream",
     "text": [
      "Train on 7982 samples, validate on 1000 samples\n",
      "Epoch 1/20\n",
      "7982/7982 [==============================] - 1s 108us/sample - loss: 2.4446 - acc: 0.5184 - val_loss: 1.6137 - val_acc: 0.6480\n",
      "Epoch 2/20\n",
      "7982/7982 [==============================] - 0s 56us/sample - loss: 1.3410 - acc: 0.7111 - val_loss: 1.2724 - val_acc: 0.7220\n",
      "Epoch 3/20\n",
      "7982/7982 [==============================] - 0s 57us/sample - loss: 1.0070 - acc: 0.7826 - val_loss: 1.1141 - val_acc: 0.7680\n",
      "Epoch 4/20\n",
      "7982/7982 [==============================] - 0s 59us/sample - loss: 0.7906 - acc: 0.8336 - val_loss: 1.0317 - val_acc: 0.7760\n",
      "Epoch 5/20\n",
      "7982/7982 [==============================] - 0s 61us/sample - loss: 0.6305 - acc: 0.8658 - val_loss: 0.9528 - val_acc: 0.7980\n",
      "Epoch 6/20\n",
      "7982/7982 [==============================] - 0s 60us/sample - loss: 0.5011 - acc: 0.8946 - val_loss: 0.9132 - val_acc: 0.8080\n",
      "Epoch 7/20\n",
      "7982/7982 [==============================] - 0s 60us/sample - loss: 0.4023 - acc: 0.9138 - val_loss: 0.8882 - val_acc: 0.8140\n",
      "Epoch 8/20\n",
      "7982/7982 [==============================] - 1s 67us/sample - loss: 0.3278 - acc: 0.9308 - val_loss: 0.8969 - val_acc: 0.8130\n",
      "Epoch 9/20\n",
      "7982/7982 [==============================] - 1s 64us/sample - loss: 0.2685 - acc: 0.9424 - val_loss: 0.9093 - val_acc: 0.8120\n",
      "Epoch 10/20\n",
      "7982/7982 [==============================] - 1s 66us/sample - loss: 0.2263 - acc: 0.9471 - val_loss: 0.9033 - val_acc: 0.8160\n",
      "Epoch 11/20\n",
      "7982/7982 [==============================] - 1s 66us/sample - loss: 0.1984 - acc: 0.9513 - val_loss: 0.8841 - val_acc: 0.8240\n",
      "Epoch 12/20\n",
      "7982/7982 [==============================] - 1s 64us/sample - loss: 0.1697 - acc: 0.9553 - val_loss: 0.9257 - val_acc: 0.8170\n",
      "Epoch 13/20\n",
      "7982/7982 [==============================] - 0s 61us/sample - loss: 0.1542 - acc: 0.9546 - val_loss: 0.9351 - val_acc: 0.8120\n",
      "Epoch 14/20\n",
      "7982/7982 [==============================] - 1s 64us/sample - loss: 0.1429 - acc: 0.9553 - val_loss: 0.9851 - val_acc: 0.8190\n",
      "Epoch 15/20\n",
      "7982/7982 [==============================] - 1s 64us/sample - loss: 0.1349 - acc: 0.9553 - val_loss: 0.9707 - val_acc: 0.8160\n",
      "Epoch 16/20\n",
      "7982/7982 [==============================] - 1s 65us/sample - loss: 0.1263 - acc: 0.9573 - val_loss: 1.0202 - val_acc: 0.8100\n",
      "Epoch 17/20\n",
      "7982/7982 [==============================] - 1s 66us/sample - loss: 0.1208 - acc: 0.9567 - val_loss: 1.0592 - val_acc: 0.8050\n",
      "Epoch 18/20\n",
      "7982/7982 [==============================] - 1s 63us/sample - loss: 0.1205 - acc: 0.9565 - val_loss: 1.0881 - val_acc: 0.7960\n",
      "Epoch 19/20\n",
      "7982/7982 [==============================] - 1s 72us/sample - loss: 0.1112 - acc: 0.9570 - val_loss: 1.0557 - val_acc: 0.8010\n",
      "Epoch 20/20\n",
      "7982/7982 [==============================] - 1s 66us/sample - loss: 0.1115 - acc: 0.9585 - val_loss: 1.0579 - val_acc: 0.8080\n"
     ]
    }
   ],
   "source": [
    "# List 3-18\n",
    "\n",
    "history = model.fit(partial_x_train, partial_y_train, epochs=20, batch_size=512, validation_data=(x_val, y_val))"
   ]
  },
  {
   "cell_type": "code",
   "execution_count": 30,
   "metadata": {},
   "outputs": [
    {
     "data": {
      "image/png": "[encoded data removed]",
      "text/plain": [
       "<Figure size 432x288 with 1 Axes>"
      ]
     },
     "metadata": {
      "needs_background": "light"
     },
     "output_type": "display_data"
    }
   ],
   "source": [
    "# List 3-19\n",
    "\n",
    "import matplotlib.pyplot as plt\n",
    "\n",
    "loss = history.history['loss']\n",
    "val_loss = history.history['val_loss']\n",
    "epochs = range(1, len(loss) + 1)\n",
    "\n",
    "plt.plot(epochs, loss, 'bo', label='Training loss')\n",
    "plt.plot(epochs, val_loss, 'b', label='Validation loss')\n",
    "plt.title('Training and validation loss')\n",
    "plt.xlabel('Epochs')\n",
    "plt.ylabel('Loss')\n",
    "plt.legend()\n",
    "plt.show()"
   ]
  },
  {
   "cell_type": "code",
   "execution_count": 29,
   "metadata": {},
   "outputs": [
    {
     "data": {
      "image/png": "[encoded data removed]",
      "text/plain": [
       "<Figure size 432x288 with 1 Axes>"
      ]
     },
     "metadata": {
      "needs_background": "light"
     },
     "output_type": "display_data"
    }
   ],
   "source": [
    "# List 3-20\n",
    "\n",
    "plt.clf()\n",
    "\n",
    "acc = history.history['acc']\n",
    "val_acc = history.history['val_acc']\n",
    "\n",
    "plt.plot(epochs, acc, 'bo', label='Training acc')\n",
    "plt.plot(epochs, val_acc, 'b', label='Validation acc')\n",
    "plt.title('Training and validation accracy')\n",
    "plt.xlabel('Epochs')\n",
    "plt.ylabel('Accuracy')\n",
    "plt.legend()\n",
    "plt.show()"
   ]
  },
  {
   "cell_type": "code",
   "execution_count": 16,
   "metadata": {},
   "outputs": [
    {
     "name": "stdout",
     "output_type": "stream",
     "text": [
      "Train on 7982 samples, validate on 1000 samples\n",
      "Epoch 1/8\n",
      "7982/7982 [==============================] - 1s 75us/sample - loss: 2.7602 - acc: 0.5242 - val_loss: 1.8724 - val_acc: 0.6360\n",
      "Epoch 2/8\n",
      "7982/7982 [==============================] - 1s 75us/sample - loss: 1.5064 - acc: 0.6948 - val_loss: 1.3699 - val_acc: 0.7090\n",
      "Epoch 3/8\n",
      "7982/7982 [==============================] - 1s 66us/sample - loss: 1.1027 - acc: 0.7597 - val_loss: 1.1763 - val_acc: 0.7540\n",
      "Epoch 4/8\n",
      "7982/7982 [==============================] - 1s 68us/sample - loss: 0.8683 - acc: 0.8141 - val_loss: 1.0788 - val_acc: 0.7630\n",
      "Epoch 5/8\n",
      "7982/7982 [==============================] - 1s 66us/sample - loss: 0.6901 - acc: 0.8507 - val_loss: 0.9819 - val_acc: 0.7950\n",
      "Epoch 6/8\n",
      "7982/7982 [==============================] - 1s 67us/sample - loss: 0.5555 - acc: 0.8847 - val_loss: 0.9345 - val_acc: 0.8140\n",
      "Epoch 7/8\n",
      "7982/7982 [==============================] - 1s 67us/sample - loss: 0.4431 - acc: 0.9078 - val_loss: 0.9293 - val_acc: 0.8040\n",
      "Epoch 8/8\n",
      "7982/7982 [==============================] - 1s 66us/sample - loss: 0.3650 - acc: 0.9246 - val_loss: 0.9022 - val_acc: 0.8160\n",
      "2246/2246 [==============================] - 0s 88us/sample - loss: 0.9835 - acc: 0.7845\n"
     ]
    },
    {
     "data": {
      "text/plain": [
       "[0.9834719882516699, 0.7845058]"
      ]
     },
     "execution_count": 16,
     "metadata": {},
     "output_type": "execute_result"
    }
   ],
   "source": [
    "# List 3-21\n",
    "\n",
    "model = models.Sequential()\n",
    "model.add(layers.Dense(64, activation='relu', input_shape=(10000,)))\n",
    "model.add(layers.Dense(64, activation='relu'))\n",
    "model.add(layers.Dense(46, activation='softmax'))\n",
    "\n",
    "model.compile(optimizer='rmsprop', loss='categorical_crossentropy', metrics=['accuracy'])\n",
    "\n",
    "history = model.fit(partial_x_train, partial_y_train, epochs=8, batch_size=512, validation_data=(x_val, y_val))\n",
    "\n",
    "results = model.evaluate(x_test, one_hot_test_labels)\n",
    "results"
   ]
  },
  {
   "cell_type": "code",
   "execution_count": 17,
   "metadata": {},
   "outputs": [
    {
     "data": {
      "text/plain": [
       "0.188780053428317"
      ]
     },
     "execution_count": 17,
     "metadata": {},
     "output_type": "execute_result"
    }
   ],
   "source": [
    "import copy\n",
    "\n",
    "test_labels_copy = copy.copy(test_labels)\n",
    "np.random.shuffle(test_labels_copy)\n",
    "float(np.sum(np.array(test_labels) == np.array(test_labels_copy))) / len(test_labels)"
   ]
  },
  {
   "cell_type": "markdown",
   "metadata": {},
   "source": [
    "## 3.5.5"
   ]
  },
  {
   "cell_type": "code",
   "execution_count": 18,
   "metadata": {},
   "outputs": [
    {
     "data": {
      "text/plain": [
       "(46,)"
      ]
     },
     "execution_count": 18,
     "metadata": {},
     "output_type": "execute_result"
    }
   ],
   "source": [
    "# List 3-22\n",
    "\n",
    "predictions = model.predict(x_test)\n",
    "predictions[0].shape"
   ]
  },
  {
   "cell_type": "code",
   "execution_count": 19,
   "metadata": {},
   "outputs": [
    {
     "data": {
      "text/plain": [
       "0.99999994"
      ]
     },
     "execution_count": 19,
     "metadata": {},
     "output_type": "execute_result"
    }
   ],
   "source": [
    "np.sum(predictions[0])"
   ]
  },
  {
   "cell_type": "code",
   "execution_count": 20,
   "metadata": {},
   "outputs": [
    {
     "data": {
      "text/plain": [
       "3"
      ]
     },
     "execution_count": 20,
     "metadata": {},
     "output_type": "execute_result"
    }
   ],
   "source": [
    "np.argmax(predictions[0])"
   ]
  },
  {
   "cell_type": "markdown",
   "metadata": {},
   "source": [
    "## 3.5.6"
   ]
  },
  {
   "cell_type": "code",
   "execution_count": 23,
   "metadata": {},
   "outputs": [],
   "source": [
    "y_train = np.array(train_labels)\n",
    "y_test  = np.array(test_labels)"
   ]
  },
  {
   "cell_type": "code",
   "execution_count": 28,
   "metadata": {},
   "outputs": [
    {
     "name": "stdout",
     "output_type": "stream",
     "text": [
      "Train on 7982 samples, validate on 1000 samples\n",
      "Epoch 1/8\n",
      "7982/7982 [==============================] - 1s 71us/sample - loss: 2.5484 - acc: 0.5373 - val_loss: 1.7382 - val_acc: 0.6120\n",
      "Epoch 2/8\n",
      "7982/7982 [==============================] - 0s 47us/sample - loss: 1.4286 - acc: 0.7022 - val_loss: 1.3151 - val_acc: 0.7050\n",
      "Epoch 3/8\n",
      "7982/7982 [==============================] - 0s 44us/sample - loss: 1.0515 - acc: 0.7756 - val_loss: 1.1362 - val_acc: 0.7470\n",
      "Epoch 4/8\n",
      "7982/7982 [==============================] - 0s 44us/sample - loss: 0.8249 - acc: 0.8280 - val_loss: 1.0510 - val_acc: 0.7650\n",
      "Epoch 5/8\n",
      "7982/7982 [==============================] - 0s 46us/sample - loss: 0.6515 - acc: 0.8659 - val_loss: 0.9839 - val_acc: 0.8100\n",
      "Epoch 6/8\n",
      "7982/7982 [==============================] - 0s 44us/sample - loss: 0.5175 - acc: 0.8953 - val_loss: 0.9384 - val_acc: 0.8010\n",
      "Epoch 7/8\n",
      "7982/7982 [==============================] - 0s 46us/sample - loss: 0.4180 - acc: 0.9139 - val_loss: 0.9197 - val_acc: 0.8130\n",
      "Epoch 8/8\n",
      "7982/7982 [==============================] - 0s 51us/sample - loss: 0.3350 - acc: 0.9312 - val_loss: 0.9504 - val_acc: 0.8130\n",
      "2246/2246 [==============================] - 0s 96us/sample - loss: 1.0225 - acc: 0.7711\n"
     ]
    },
    {
     "data": {
      "text/plain": [
       "[1.0225019529262824, 0.7711487]"
      ]
     },
     "execution_count": 28,
     "metadata": {},
     "output_type": "execute_result"
    }
   ],
   "source": [
    "x_train = vectorize_sequences(train_data)\n",
    "x_test  = vectorize_sequences(test_data)\n",
    "\n",
    "x_val = x_train[:1000]\n",
    "partial_x_train = x_train[1000:]\n",
    "\n",
    "y_val = y_train[:1000]\n",
    "partial_y_train = y_train[1000:]\n",
    "\n",
    "model = models.Sequential()\n",
    "model.add(layers.Dense(64, activation='relu', input_shape=(10000,)))\n",
    "model.add(layers.Dense(64, activation='relu'))\n",
    "model.add(layers.Dense(46, activation='softmax'))\n",
    "\n",
    "model.compile(optimizer='rmsprop', loss='sparse_categorical_crossentropy', metrics=['accuracy'])\n",
    "\n",
    "history = model.fit(partial_x_train, partial_y_train, epochs=8, batch_size=512, validation_data=(x_val, y_val))\n",
    "\n",
    "results = model.evaluate(x_test, y_test)\n",
    "results"
   ]
  },
  {
   "cell_type": "markdown",
   "metadata": {},
   "source": [
    "## 3.5.7"
   ]
  },
  {
   "cell_type": "code",
   "execution_count": 33,
   "metadata": {},
   "outputs": [
    {
     "name": "stdout",
     "output_type": "stream",
     "text": [
      "Train on 7982 samples, validate on 1000 samples\n",
      "Epoch 1/20\n",
      "7982/7982 [==============================] - 1s 88us/sample - loss: 2.9302 - acc: 0.2669 - val_loss: 2.3036 - val_acc: 0.5200\n",
      "Epoch 2/20\n",
      "7982/7982 [==============================] - 0s 61us/sample - loss: 1.8001 - acc: 0.5841 - val_loss: 1.5449 - val_acc: 0.6010\n",
      "Epoch 3/20\n",
      "7982/7982 [==============================] - 0s 62us/sample - loss: 1.3510 - acc: 0.6377 - val_loss: 1.3939 - val_acc: 0.6400\n",
      "Epoch 4/20\n",
      "7982/7982 [==============================] - 0s 61us/sample - loss: 1.1706 - acc: 0.6819 - val_loss: 1.3201 - val_acc: 0.6750\n",
      "Epoch 5/20\n",
      "7982/7982 [==============================] - 0s 62us/sample - loss: 1.0385 - acc: 0.7097 - val_loss: 1.2958 - val_acc: 0.6910\n",
      "Epoch 6/20\n",
      "7982/7982 [==============================] - 0s 62us/sample - loss: 0.9322 - acc: 0.7504 - val_loss: 1.2718 - val_acc: 0.7140\n",
      "Epoch 7/20\n",
      "7982/7982 [==============================] - 1s 66us/sample - loss: 0.8429 - acc: 0.7794 - val_loss: 1.2823 - val_acc: 0.7210\n",
      "Epoch 8/20\n",
      "7982/7982 [==============================] - 1s 63us/sample - loss: 0.7656 - acc: 0.8019 - val_loss: 1.3160 - val_acc: 0.7350\n",
      "Epoch 9/20\n",
      "7982/7982 [==============================] - 1s 63us/sample - loss: 0.7001 - acc: 0.8173 - val_loss: 1.3181 - val_acc: 0.7330\n",
      "Epoch 10/20\n",
      "7982/7982 [==============================] - 1s 63us/sample - loss: 0.6457 - acc: 0.8306 - val_loss: 1.3926 - val_acc: 0.7370\n",
      "Epoch 11/20\n",
      "7982/7982 [==============================] - 1s 63us/sample - loss: 0.5973 - acc: 0.8440 - val_loss: 1.4278 - val_acc: 0.7410\n",
      "Epoch 12/20\n",
      "7982/7982 [==============================] - 1s 64us/sample - loss: 0.5573 - acc: 0.8550 - val_loss: 1.5244 - val_acc: 0.7340\n",
      "Epoch 13/20\n",
      "7982/7982 [==============================] - 1s 65us/sample - loss: 0.5249 - acc: 0.8641 - val_loss: 1.5325 - val_acc: 0.7380\n",
      "Epoch 14/20\n",
      "7982/7982 [==============================] - 1s 64us/sample - loss: 0.4953 - acc: 0.8677 - val_loss: 1.5557 - val_acc: 0.7390\n",
      "Epoch 15/20\n",
      "7982/7982 [==============================] - 1s 66us/sample - loss: 0.4677 - acc: 0.8758 - val_loss: 1.6495 - val_acc: 0.7300\n",
      "Epoch 16/20\n",
      "7982/7982 [==============================] - 1s 74us/sample - loss: 0.4450 - acc: 0.8827 - val_loss: 1.7543 - val_acc: 0.7360\n",
      "Epoch 17/20\n",
      "7982/7982 [==============================] - 1s 70us/sample - loss: 0.4263 - acc: 0.8884 - val_loss: 1.7517 - val_acc: 0.7370\n",
      "Epoch 18/20\n",
      "7982/7982 [==============================] - 1s 65us/sample - loss: 0.4081 - acc: 0.8913 - val_loss: 1.8955 - val_acc: 0.7210\n",
      "Epoch 19/20\n",
      "7982/7982 [==============================] - 1s 65us/sample - loss: 0.3925 - acc: 0.8916 - val_loss: 1.8612 - val_acc: 0.7300\n",
      "Epoch 20/20\n",
      "7982/7982 [==============================] - 1s 68us/sample - loss: 0.3790 - acc: 0.8948 - val_loss: 1.9374 - val_acc: 0.7320\n"
     ]
    }
   ],
   "source": [
    "x_train = vectorize_sequences(train_data)\n",
    "x_test  = vectorize_sequences(test_data)\n",
    "\n",
    "one_hot_train_labels = to_one_hot(train_labels)\n",
    "one_hot_test_labels  = to_one_hot(test_labels)\n",
    "\n",
    "x_val = x_train[:1000]\n",
    "partial_x_train = x_train[1000:]\n",
    "\n",
    "y_val = one_hot_train_labels[:1000]\n",
    "partial_y_train = one_hot_train_labels[1000:]\n",
    "\n",
    "# List 3-23\n",
    "model = models.Sequential()\n",
    "model.add(layers.Dense(64, activation='relu', input_shape=(10000,)))\n",
    "model.add(layers.Dense(4, activation='relu'))\n",
    "model.add(layers.Dense(46, activation='softmax'))\n",
    "\n",
    "model.compile(optimizer='rmsprop', loss='categorical_crossentropy', metrics=['accuracy'])\n",
    "\n",
    "history = model.fit(partial_x_train, partial_y_train, epochs=20, batch_size=128, validation_data=(x_val, y_val))"
   ]
  },
  {
   "cell_type": "code",
   "execution_count": 34,
   "metadata": {},
   "outputs": [
    {
     "data": {
      "image/png": "[encoded data removed]",
      "text/plain": [
       "<Figure size 432x288 with 1 Axes>"
      ]
     },
     "metadata": {
      "needs_background": "light"
     },
     "output_type": "display_data"
    }
   ],
   "source": [
    "plt.clf()\n",
    "\n",
    "loss = history.history['loss']\n",
    "val_loss = history.history['val_loss']\n",
    "epochs = range(1, len(loss) + 1)\n",
    "\n",
    "plt.plot(epochs, loss, 'bo', label='Training loss')\n",
    "plt.plot(epochs, val_loss, 'b', label='Validation loss')\n",
    "plt.title('Training and validation loss')\n",
    "plt.xlabel('Epochs')\n",
    "plt.ylabel('Loss')\n",
    "plt.legend()\n",
    "plt.show()"
   ]
  },
  {
   "cell_type": "code",
   "execution_count": 35,
   "metadata": {},
   "outputs": [
    {
     "data": {
      "image/png": "[encoded data removed]",
      "text/plain": [
       "<Figure size 432x288 with 1 Axes>"
      ]
     },
     "metadata": {
      "needs_background": "light"
     },
     "output_type": "display_data"
    }
   ],
   "source": [
    "plt.clf()\n",
    "\n",
    "acc = history.history['acc']\n",
    "val_acc = history.history['val_acc']\n",
    "\n",
    "plt.plot(epochs, acc, 'bo', label='Training acc')\n",
    "plt.plot(epochs, val_acc, 'b', label='Validation acc')\n",
    "plt.title('Training and validation accracy')\n",
    "plt.xlabel('Epochs')\n",
    "plt.ylabel('Accuracy')\n",
    "plt.legend()\n",
    "plt.show()"
   ]
  },
  {
   "cell_type": "markdown",
   "metadata": {},
   "source": [
    "## 3.5.8\n",
    "### 小さい中間層"
   ]
  },
  {
   "cell_type": "code",
   "execution_count": 36,
   "metadata": {},
   "outputs": [
    {
     "name": "stdout",
     "output_type": "stream",
     "text": [
      "Train on 7982 samples, validate on 1000 samples\n",
      "Epoch 1/20\n",
      "7982/7982 [==============================] - 1s 78us/sample - loss: 1.9138 - acc: 0.6205 - val_loss: 1.2543 - val_acc: 0.7030\n",
      "Epoch 2/20\n",
      "7982/7982 [==============================] - 0s 62us/sample - loss: 0.9971 - acc: 0.7839 - val_loss: 1.0412 - val_acc: 0.7760\n",
      "Epoch 3/20\n",
      "7982/7982 [==============================] - 1s 63us/sample - loss: 0.7046 - acc: 0.8405 - val_loss: 0.9224 - val_acc: 0.7980\n",
      "Epoch 4/20\n",
      "7982/7982 [==============================] - 1s 64us/sample - loss: 0.5062 - acc: 0.8891 - val_loss: 0.8953 - val_acc: 0.8250\n",
      "Epoch 5/20\n",
      "7982/7982 [==============================] - 1s 77us/sample - loss: 0.3720 - acc: 0.9178 - val_loss: 0.9266 - val_acc: 0.8240\n",
      "Epoch 6/20\n",
      "7982/7982 [==============================] - 1s 74us/sample - loss: 0.2887 - acc: 0.9382 - val_loss: 0.9087 - val_acc: 0.8270\n",
      "Epoch 7/20\n",
      "7982/7982 [==============================] - 1s 74us/sample - loss: 0.2317 - acc: 0.9441 - val_loss: 0.9243 - val_acc: 0.8180\n",
      "Epoch 8/20\n",
      "7982/7982 [==============================] - 1s 65us/sample - loss: 0.2000 - acc: 0.9488 - val_loss: 0.9701 - val_acc: 0.8110\n",
      "Epoch 9/20\n",
      "7982/7982 [==============================] - 1s 64us/sample - loss: 0.1745 - acc: 0.9540 - val_loss: 1.0523 - val_acc: 0.8050\n",
      "Epoch 10/20\n",
      "7982/7982 [==============================] - 1s 64us/sample - loss: 0.1591 - acc: 0.9541 - val_loss: 1.0557 - val_acc: 0.8040\n",
      "Epoch 11/20\n",
      "7982/7982 [==============================] - 1s 68us/sample - loss: 0.1464 - acc: 0.9550 - val_loss: 1.0328 - val_acc: 0.8020\n",
      "Epoch 12/20\n",
      "7982/7982 [==============================] - 1s 66us/sample - loss: 0.1436 - acc: 0.9530 - val_loss: 1.1371 - val_acc: 0.7990\n",
      "Epoch 13/20\n",
      "7982/7982 [==============================] - 1s 66us/sample - loss: 0.1319 - acc: 0.9568 - val_loss: 1.0994 - val_acc: 0.8050\n",
      "Epoch 14/20\n",
      "7982/7982 [==============================] - 1s 66us/sample - loss: 0.1303 - acc: 0.9575 - val_loss: 1.2126 - val_acc: 0.7900\n",
      "Epoch 15/20\n",
      "7982/7982 [==============================] - 1s 67us/sample - loss: 0.1209 - acc: 0.9567 - val_loss: 1.1533 - val_acc: 0.8040\n",
      "Epoch 16/20\n",
      "7982/7982 [==============================] - 1s 68us/sample - loss: 0.1224 - acc: 0.9568 - val_loss: 1.1209 - val_acc: 0.8110\n",
      "Epoch 17/20\n",
      "7982/7982 [==============================] - 1s 67us/sample - loss: 0.1177 - acc: 0.9572 - val_loss: 1.2177 - val_acc: 0.7890\n",
      "Epoch 18/20\n",
      "7982/7982 [==============================] - 1s 70us/sample - loss: 0.1179 - acc: 0.9572 - val_loss: 1.2100 - val_acc: 0.8050\n",
      "Epoch 19/20\n",
      "7982/7982 [==============================] - 1s 69us/sample - loss: 0.1127 - acc: 0.9583 - val_loss: 1.2490 - val_acc: 0.7960\n",
      "Epoch 20/20\n",
      "7982/7982 [==============================] - 1s 70us/sample - loss: 0.1128 - acc: 0.9567 - val_loss: 1.2223 - val_acc: 0.8030\n"
     ]
    }
   ],
   "source": [
    "model = models.Sequential()\n",
    "model.add(layers.Dense(64, activation='relu', input_shape=(10000,)))\n",
    "model.add(layers.Dense(32, activation='relu'))\n",
    "model.add(layers.Dense(46, activation='softmax'))\n",
    "\n",
    "model.compile(optimizer='rmsprop', loss='categorical_crossentropy', metrics=['accuracy'])\n",
    "\n",
    "history = model.fit(partial_x_train, partial_y_train, epochs=20, batch_size=128, validation_data=(x_val, y_val))"
   ]
  },
  {
   "cell_type": "code",
   "execution_count": 37,
   "metadata": {},
   "outputs": [
    {
     "data": {
      "image/png": "[encoded data removed]",
      "text/plain": [
       "<Figure size 432x288 with 1 Axes>"
      ]
     },
     "metadata": {
      "needs_background": "light"
     },
     "output_type": "display_data"
    }
   ],
   "source": [
    "plt.clf()\n",
    "\n",
    "loss = history.history['loss']\n",
    "val_loss = history.history['val_loss']\n",
    "epochs = range(1, len(loss) + 1)\n",
    "\n",
    "plt.plot(epochs, loss, 'bo', label='Training loss')\n",
    "plt.plot(epochs, val_loss, 'b', label='Validation loss')\n",
    "plt.title('Training and validation loss')\n",
    "plt.xlabel('Epochs')\n",
    "plt.ylabel('Loss')\n",
    "plt.legend()\n",
    "plt.show()"
   ]
  },
  {
   "cell_type": "code",
   "execution_count": 38,
   "metadata": {},
   "outputs": [
    {
     "data": {
      "image/png": "[encoded data removed]",
      "text/plain": [
       "<Figure size 432x288 with 1 Axes>"
      ]
     },
     "metadata": {
      "needs_background": "light"
     },
     "output_type": "display_data"
    }
   ],
   "source": [
    "plt.clf()\n",
    "\n",
    "acc = history.history['acc']\n",
    "val_acc = history.history['val_acc']\n",
    "\n",
    "plt.plot(epochs, acc, 'bo', label='Training acc')\n",
    "plt.plot(epochs, val_acc, 'b', label='Validation acc')\n",
    "plt.title('Training and validation accracy')\n",
    "plt.xlabel('Epochs')\n",
    "plt.ylabel('Accuracy')\n",
    "plt.legend()\n",
    "plt.show()"
   ]
  },
  {
   "cell_type": "markdown",
   "metadata": {},
   "source": [
    "### 大きい中間層"
   ]
  },
  {
   "cell_type": "code",
   "execution_count": 39,
   "metadata": {},
   "outputs": [
    {
     "name": "stdout",
     "output_type": "stream",
     "text": [
      "Train on 7982 samples, validate on 1000 samples\n",
      "Epoch 1/20\n",
      "7982/7982 [==============================] - 1s 80us/sample - loss: 1.7489 - acc: 0.6176 - val_loss: 1.2350 - val_acc: 0.7240\n",
      "Epoch 2/20\n",
      "7982/7982 [==============================] - 1s 64us/sample - loss: 0.9443 - acc: 0.7922 - val_loss: 1.0561 - val_acc: 0.7630\n",
      "Epoch 3/20\n",
      "7982/7982 [==============================] - 0s 62us/sample - loss: 0.6284 - acc: 0.8653 - val_loss: 0.9094 - val_acc: 0.8210\n",
      "Epoch 4/20\n",
      "7982/7982 [==============================] - 0s 62us/sample - loss: 0.4228 - acc: 0.9080 - val_loss: 0.9235 - val_acc: 0.8170\n",
      "Epoch 5/20\n",
      "7982/7982 [==============================] - 1s 63us/sample - loss: 0.3029 - acc: 0.9322 - val_loss: 0.9400 - val_acc: 0.8080\n",
      "Epoch 6/20\n",
      "7982/7982 [==============================] - 1s 65us/sample - loss: 0.2362 - acc: 0.9445 - val_loss: 0.9676 - val_acc: 0.8150\n",
      "Epoch 7/20\n",
      "7982/7982 [==============================] - 1s 64us/sample - loss: 0.1961 - acc: 0.9478 - val_loss: 1.0193 - val_acc: 0.8120\n",
      "Epoch 8/20\n",
      "7982/7982 [==============================] - 1s 67us/sample - loss: 0.1737 - acc: 0.9518 - val_loss: 1.0002 - val_acc: 0.8140\n",
      "Epoch 9/20\n",
      "7982/7982 [==============================] - 1s 70us/sample - loss: 0.1596 - acc: 0.9541 - val_loss: 1.0485 - val_acc: 0.8060\n",
      "Epoch 10/20\n",
      "7982/7982 [==============================] - 1s 77us/sample - loss: 0.1491 - acc: 0.9546 - val_loss: 1.0555 - val_acc: 0.8040\n",
      "Epoch 11/20\n",
      "7982/7982 [==============================] - 1s 79us/sample - loss: 0.1429 - acc: 0.9557 - val_loss: 1.1107 - val_acc: 0.7960\n",
      "Epoch 12/20\n",
      "7982/7982 [==============================] - 1s 75us/sample - loss: 0.1361 - acc: 0.9562 - val_loss: 1.0696 - val_acc: 0.8080\n",
      "Epoch 13/20\n",
      "7982/7982 [==============================] - 1s 73us/sample - loss: 0.1282 - acc: 0.9550 - val_loss: 1.1042 - val_acc: 0.7950\n",
      "Epoch 14/20\n",
      "7982/7982 [==============================] - 1s 72us/sample - loss: 0.1235 - acc: 0.9545 - val_loss: 1.1558 - val_acc: 0.7890\n",
      "Epoch 15/20\n",
      "7982/7982 [==============================] - 1s 73us/sample - loss: 0.1154 - acc: 0.9587 - val_loss: 1.1969 - val_acc: 0.7980\n",
      "Epoch 16/20\n",
      "7982/7982 [==============================] - 1s 75us/sample - loss: 0.1109 - acc: 0.9585 - val_loss: 1.3828 - val_acc: 0.7680\n",
      "Epoch 17/20\n",
      "7982/7982 [==============================] - 1s 75us/sample - loss: 0.1083 - acc: 0.9565 - val_loss: 1.2693 - val_acc: 0.8000\n",
      "Epoch 18/20\n",
      "7982/7982 [==============================] - 1s 67us/sample - loss: 0.1092 - acc: 0.9553 - val_loss: 1.3178 - val_acc: 0.7970\n",
      "Epoch 19/20\n",
      "7982/7982 [==============================] - 1s 65us/sample - loss: 0.1026 - acc: 0.9574 - val_loss: 1.3888 - val_acc: 0.7850\n",
      "Epoch 20/20\n",
      "7982/7982 [==============================] - 1s 63us/sample - loss: 0.1001 - acc: 0.9569 - val_loss: 1.3429 - val_acc: 0.7990\n"
     ]
    }
   ],
   "source": [
    "model = models.Sequential()\n",
    "model.add(layers.Dense(64, activation='relu', input_shape=(10000,)))\n",
    "model.add(layers.Dense(128, activation='relu'))\n",
    "model.add(layers.Dense(46, activation='softmax'))\n",
    "\n",
    "model.compile(optimizer='rmsprop', loss='categorical_crossentropy', metrics=['accuracy'])\n",
    "\n",
    "history = model.fit(partial_x_train, partial_y_train, epochs=20, batch_size=128, validation_data=(x_val, y_val))"
   ]
  },
  {
   "cell_type": "code",
   "execution_count": 40,
   "metadata": {},
   "outputs": [
    {
     "data": {
      "image/png": "[encoded data removed]",
      "text/plain": [
       "<Figure size 432x288 with 1 Axes>"
      ]
     },
     "metadata": {
      "needs_background": "light"
     },
     "output_type": "display_data"
    }
   ],
   "source": [
    "plt.clf()\n",
    "\n",
    "loss = history.history['loss']\n",
    "val_loss = history.history['val_loss']\n",
    "epochs = range(1, len(loss) + 1)\n",
    "\n",
    "plt.plot(epochs, loss, 'bo', label='Training loss')\n",
    "plt.plot(epochs, val_loss, 'b', label='Validation loss')\n",
    "plt.title('Training and validation loss')\n",
    "plt.xlabel('Epochs')\n",
    "plt.ylabel('Loss')\n",
    "plt.legend()\n",
    "plt.show()"
   ]
  },
  {
   "cell_type": "code",
   "execution_count": 41,
   "metadata": {},
   "outputs": [
    {
     "data": {
      "image/png": "[encoded data removed]",
      "text/plain": [
       "<Figure size 432x288 with 1 Axes>"
      ]
     },
     "metadata": {
      "needs_background": "light"
     },
     "output_type": "display_data"
    }
   ],
   "source": [
    "plt.clf()\n",
    "\n",
    "acc = history.history['acc']\n",
    "val_acc = history.history['val_acc']\n",
    "\n",
    "plt.plot(epochs, acc, 'bo', label='Training acc')\n",
    "plt.plot(epochs, val_acc, 'b', label='Validation acc')\n",
    "plt.title('Training and validation accracy')\n",
    "plt.xlabel('Epochs')\n",
    "plt.ylabel('Accuracy')\n",
    "plt.legend()\n",
    "plt.show()"
   ]
  },
  {
   "cell_type": "markdown",
   "metadata": {},
   "source": [
    "### 隠れ層を1つにする"
   ]
  },
  {
   "cell_type": "code",
   "execution_count": 49,
   "metadata": {},
   "outputs": [
    {
     "name": "stdout",
     "output_type": "stream",
     "text": [
      "Train on 7982 samples, validate on 1000 samples\n",
      "Epoch 1/20\n",
      "7982/7982 [==============================] - 1s 82us/sample - loss: 2.6137 - acc: 0.5425 - val_loss: 1.8284 - val_acc: 0.6560\n",
      "Epoch 2/20\n",
      "7982/7982 [==============================] - 1s 67us/sample - loss: 1.4992 - acc: 0.7102 - val_loss: 1.3737 - val_acc: 0.7090\n",
      "Epoch 3/20\n",
      "7982/7982 [==============================] - 1s 72us/sample - loss: 1.0845 - acc: 0.7833 - val_loss: 1.1380 - val_acc: 0.7650\n",
      "Epoch 4/20\n",
      "7982/7982 [==============================] - 1s 66us/sample - loss: 0.8364 - acc: 0.8380 - val_loss: 1.0065 - val_acc: 0.8030\n",
      "Epoch 5/20\n",
      "7982/7982 [==============================] - 1s 64us/sample - loss: 0.6701 - acc: 0.8712 - val_loss: 0.9398 - val_acc: 0.8080\n",
      "Epoch 6/20\n",
      "7982/7982 [==============================] - 0s 60us/sample - loss: 0.5453 - acc: 0.8951 - val_loss: 0.8845 - val_acc: 0.8150\n",
      "Epoch 7/20\n",
      "7982/7982 [==============================] - 0s 58us/sample - loss: 0.4501 - acc: 0.9127 - val_loss: 0.8558 - val_acc: 0.8140\n",
      "Epoch 8/20\n",
      "7982/7982 [==============================] - 0s 56us/sample - loss: 0.3755 - acc: 0.9243 - val_loss: 0.8309 - val_acc: 0.8220\n",
      "Epoch 9/20\n",
      "7982/7982 [==============================] - 0s 52us/sample - loss: 0.3181 - acc: 0.9336 - val_loss: 0.8202 - val_acc: 0.8140\n",
      "Epoch 10/20\n",
      "7982/7982 [==============================] - 0s 61us/sample - loss: 0.2698 - acc: 0.9414 - val_loss: 0.8031 - val_acc: 0.8350\n",
      "Epoch 11/20\n",
      "7982/7982 [==============================] - 1s 66us/sample - loss: 0.2347 - acc: 0.9434 - val_loss: 0.8058 - val_acc: 0.8330\n",
      "Epoch 12/20\n",
      "7982/7982 [==============================] - 0s 50us/sample - loss: 0.2040 - acc: 0.9513 - val_loss: 0.8152 - val_acc: 0.8300\n",
      "Epoch 13/20\n",
      "7982/7982 [==============================] - 0s 58us/sample - loss: 0.1835 - acc: 0.9525 - val_loss: 0.8300 - val_acc: 0.8290\n",
      "Epoch 14/20\n",
      "7982/7982 [==============================] - 0s 52us/sample - loss: 0.1647 - acc: 0.9535 - val_loss: 0.8373 - val_acc: 0.8280\n",
      "Epoch 15/20\n",
      "7982/7982 [==============================] - 1s 68us/sample - loss: 0.1506 - acc: 0.9558 - val_loss: 0.8463 - val_acc: 0.8250\n",
      "Epoch 16/20\n",
      "7982/7982 [==============================] - 1s 64us/sample - loss: 0.1392 - acc: 0.9558 - val_loss: 0.8666 - val_acc: 0.8180\n",
      "Epoch 17/20\n",
      "7982/7982 [==============================] - 1s 77us/sample - loss: 0.1311 - acc: 0.9564 - val_loss: 0.8803 - val_acc: 0.8200\n",
      "Epoch 18/20\n",
      "7982/7982 [==============================] - 1s 78us/sample - loss: 0.1218 - acc: 0.9568 - val_loss: 0.8961 - val_acc: 0.8160\n",
      "Epoch 19/20\n",
      "7982/7982 [==============================] - 1s 74us/sample - loss: 0.1150 - acc: 0.9583 - val_loss: 0.8977 - val_acc: 0.8160\n",
      "Epoch 20/20\n",
      "7982/7982 [==============================] - 1s 71us/sample - loss: 0.1107 - acc: 0.9580 - val_loss: 0.9320 - val_acc: 0.8090\n"
     ]
    }
   ],
   "source": [
    "model = models.Sequential()\n",
    "model.add(layers.Dense(64, activation='relu', input_shape=(10000,)))\n",
    "model.add(layers.Dense(46, activation='softmax'))\n",
    "\n",
    "model.compile(optimizer='rmsprop', loss='categorical_crossentropy', metrics=['accuracy'])\n",
    "\n",
    "history = model.fit(partial_x_train, partial_y_train, epochs=20, batch_size=512, validation_data=(x_val, y_val))"
   ]
  },
  {
   "cell_type": "code",
   "execution_count": 50,
   "metadata": {},
   "outputs": [
    {
     "data": {
      "image/png": "[encoded data removed]",
      "text/plain": [
       "<Figure size 432x288 with 1 Axes>"
      ]
     },
     "metadata": {
      "needs_background": "light"
     },
     "output_type": "display_data"
    }
   ],
   "source": [
    "plt.clf()\n",
    "\n",
    "loss = history.history['loss']\n",
    "val_loss = history.history['val_loss']\n",
    "epochs = range(1, len(loss) + 1)\n",
    "\n",
    "plt.plot(epochs, loss, 'bo', label='Training loss')\n",
    "plt.plot(epochs, val_loss, 'b', label='Validation loss')\n",
    "plt.title('Training and validation loss')\n",
    "plt.xlabel('Epochs')\n",
    "plt.ylabel('Loss')\n",
    "plt.legend()\n",
    "plt.show()"
   ]
  },
  {
   "cell_type": "code",
   "execution_count": 51,
   "metadata": {},
   "outputs": [
    {
     "data": {
      "image/png": "[encoded data removed]",
      "text/plain": [
       "<Figure size 432x288 with 1 Axes>"
      ]
     },
     "metadata": {
      "needs_background": "light"
     },
     "output_type": "display_data"
    }
   ],
   "source": [
    "plt.clf()\n",
    "\n",
    "acc = history.history['acc']\n",
    "val_acc = history.history['val_acc']\n",
    "\n",
    "plt.plot(epochs, acc, 'bo', label='Training acc')\n",
    "plt.plot(epochs, val_acc, 'b', label='Validation acc')\n",
    "plt.title('Training and validation accracy')\n",
    "plt.xlabel('Epochs')\n",
    "plt.ylabel('Accuracy')\n",
    "plt.legend()\n",
    "plt.show()"
   ]
  },
  {
   "cell_type": "markdown",
   "metadata": {},
   "source": [
    "### 隠れ層を3つにする"
   ]
  },
  {
   "cell_type": "code",
   "execution_count": 52,
   "metadata": {},
   "outputs": [
    {
     "name": "stdout",
     "output_type": "stream",
     "text": [
      "Train on 7982 samples, validate on 1000 samples\n",
      "Epoch 1/20\n",
      "7982/7982 [==============================] - 1s 87us/sample - loss: 2.6155 - acc: 0.4763 - val_loss: 1.7027 - val_acc: 0.6500\n",
      "Epoch 2/20\n",
      "7982/7982 [==============================] - 0s 54us/sample - loss: 1.4130 - acc: 0.6948 - val_loss: 1.3107 - val_acc: 0.7020\n",
      "Epoch 3/20\n",
      "7982/7982 [==============================] - 0s 58us/sample - loss: 1.0849 - acc: 0.7527 - val_loss: 1.2413 - val_acc: 0.7070\n",
      "Epoch 4/20\n",
      "7982/7982 [==============================] - 1s 65us/sample - loss: 0.8637 - acc: 0.8066 - val_loss: 1.0625 - val_acc: 0.7720\n",
      "Epoch 5/20\n",
      "7982/7982 [==============================] - 0s 54us/sample - loss: 0.6764 - acc: 0.8558 - val_loss: 1.0293 - val_acc: 0.7670\n",
      "Epoch 6/20\n",
      "7982/7982 [==============================] - 0s 49us/sample - loss: 0.5437 - acc: 0.8820 - val_loss: 1.0375 - val_acc: 0.7670\n",
      "Epoch 7/20\n",
      "7982/7982 [==============================] - 0s 50us/sample - loss: 0.4316 - acc: 0.9079 - val_loss: 0.9897 - val_acc: 0.7970\n",
      "Epoch 8/20\n",
      "7982/7982 [==============================] - 0s 53us/sample - loss: 0.3580 - acc: 0.9240 - val_loss: 0.9709 - val_acc: 0.8020\n",
      "Epoch 9/20\n",
      "7982/7982 [==============================] - 0s 58us/sample - loss: 0.2955 - acc: 0.9365 - val_loss: 1.0182 - val_acc: 0.7830\n",
      "Epoch 10/20\n",
      "7982/7982 [==============================] - 0s 58us/sample - loss: 0.2489 - acc: 0.9430 - val_loss: 1.0173 - val_acc: 0.7970\n",
      "Epoch 11/20\n",
      "7982/7982 [==============================] - 1s 70us/sample - loss: 0.2137 - acc: 0.9495 - val_loss: 1.0525 - val_acc: 0.7950\n",
      "Epoch 12/20\n",
      "7982/7982 [==============================] - 0s 56us/sample - loss: 0.1904 - acc: 0.9504 - val_loss: 1.0276 - val_acc: 0.8090\n",
      "Epoch 13/20\n",
      "7982/7982 [==============================] - 0s 56us/sample - loss: 0.1773 - acc: 0.9526 - val_loss: 1.0530 - val_acc: 0.7990\n",
      "Epoch 14/20\n",
      "7982/7982 [==============================] - 1s 65us/sample - loss: 0.1564 - acc: 0.9550 - val_loss: 1.0796 - val_acc: 0.8070\n",
      "Epoch 15/20\n",
      "7982/7982 [==============================] - 1s 69us/sample - loss: 0.1538 - acc: 0.9555 - val_loss: 1.0927 - val_acc: 0.7950\n",
      "Epoch 16/20\n",
      "7982/7982 [==============================] - 1s 70us/sample - loss: 0.1391 - acc: 0.9544 - val_loss: 1.1144 - val_acc: 0.7860\n",
      "Epoch 17/20\n",
      "7982/7982 [==============================] - 0s 61us/sample - loss: 0.1318 - acc: 0.9584 - val_loss: 1.1888 - val_acc: 0.7900\n",
      "Epoch 18/20\n",
      "7982/7982 [==============================] - 0s 62us/sample - loss: 0.1322 - acc: 0.9560 - val_loss: 1.2489 - val_acc: 0.7830\n",
      "Epoch 19/20\n",
      "7982/7982 [==============================] - 1s 67us/sample - loss: 0.1286 - acc: 0.9563 - val_loss: 1.2255 - val_acc: 0.7890\n",
      "Epoch 20/20\n",
      "7982/7982 [==============================] - 1s 67us/sample - loss: 0.1220 - acc: 0.9575 - val_loss: 1.2209 - val_acc: 0.7880\n"
     ]
    }
   ],
   "source": [
    "model = models.Sequential()\n",
    "model.add(layers.Dense(64, activation='relu', input_shape=(10000,)))\n",
    "model.add(layers.Dense(64, activation='relu'))\n",
    "model.add(layers.Dense(64, activation='relu'))\n",
    "model.add(layers.Dense(46, activation='softmax'))\n",
    "\n",
    "model.compile(optimizer='rmsprop', loss='categorical_crossentropy', metrics=['accuracy'])\n",
    "\n",
    "history = model.fit(partial_x_train, partial_y_train, epochs=20, batch_size=512, validation_data=(x_val, y_val))"
   ]
  },
  {
   "cell_type": "code",
   "execution_count": 53,
   "metadata": {},
   "outputs": [
    {
     "data": {
      "image/png": "[encoded data removed]",
      "text/plain": [
       "<Figure size 432x288 with 1 Axes>"
      ]
     },
     "metadata": {
      "needs_background": "light"
     },
     "output_type": "display_data"
    }
   ],
   "source": [
    "plt.clf()\n",
    "\n",
    "loss = history.history['loss']\n",
    "val_loss = history.history['val_loss']\n",
    "epochs = range(1, len(loss) + 1)\n",
    "\n",
    "plt.plot(epochs, loss, 'bo', label='Training loss')\n",
    "plt.plot(epochs, val_loss, 'b', label='Validation loss')\n",
    "plt.title('Training and validation loss')\n",
    "plt.xlabel('Epochs')\n",
    "plt.ylabel('Loss')\n",
    "plt.legend()\n",
    "plt.show()"
   ]
  },
  {
   "cell_type": "code",
   "execution_count": 54,
   "metadata": {},
   "outputs": [
    {
     "data": {
      "image/png": "[encoded data removed]",
      "text/plain": [
       "<Figure size 432x288 with 1 Axes>"
      ]
     },
     "metadata": {
      "needs_background": "light"
     },
     "output_type": "display_data"
    }
   ],
   "source": [
    "plt.clf()\n",
    "\n",
    "acc = history.history['acc']\n",
    "val_acc = history.history['val_acc']\n",
    "\n",
    "plt.plot(epochs, acc, 'bo', label='Training acc')\n",
    "plt.plot(epochs, val_acc, 'b', label='Validation acc')\n",
    "plt.title('Training and validation accracy')\n",
    "plt.xlabel('Epochs')\n",
    "plt.ylabel('Accuracy')\n",
    "plt.legend()\n",
    "plt.show()"
   ]
  },
  {
   "cell_type": "code",
   "execution_count": null,
   "metadata": {},
   "outputs": [],
   "source": []
  }
 ],
 "metadata": {
  "kernelspec": {
   "display_name": "Python 3",
   "language": "python",
   "name": "python3"
  },
  "language_info": {
   "codemirror_mode": {
    "name": "ipython",
    "version": 3
   },
   "file_extension": ".py",
   "mimetype": "text/x-python",
   "name": "python",
   "nbconvert_exporter": "python",
   "pygments_lexer": "ipython3",
   "version": "3.7.4"
  }
 },
 "nbformat": 4,
 "nbformat_minor": 4
}
