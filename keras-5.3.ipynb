{
 "cells": [
  {
   "cell_type": "markdown",
   "metadata": {},
   "source": [
    "# 5\n",
    "## 5.3\n",
    "### 5.3.1"
   ]
  },
  {
   "cell_type": "code",
   "execution_count": 1,
   "metadata": {},
   "outputs": [
    {
     "name": "stderr",
     "output_type": "stream",
     "text": [
      "W0812 16:57:06.414746 140400149782656 deprecation.py:506] From /home/takao/.pyenv/versions/3.7.4/envs/Jupyter/lib/python3.7/site-packages/tensorflow/python/ops/init_ops.py:1251: calling VarianceScaling.__init__ (from tensorflow.python.ops.init_ops) with dtype is deprecated and will be removed in a future version.\n",
      "Instructions for updating:\n",
      "Call initializer instance with the dtype argument instead of passing it to the constructor\n"
     ]
    }
   ],
   "source": [
    "# List 5-16\n",
    "\n",
    "from tensorflow.keras.applications import VGG16\n",
    "\n",
    "conv_base = VGG16(weights='imagenet',\n",
    "                  include_top=False,\n",
    "                  input_shape=(150, 150, 3))"
   ]
  },
  {
   "cell_type": "code",
   "execution_count": 2,
   "metadata": {},
   "outputs": [
    {
     "name": "stdout",
     "output_type": "stream",
     "text": [
      "Model: \"vgg16\"\n",
      "_________________________________________________________________\n",
      "Layer (type)                 Output Shape              Param #   \n",
      "=================================================================\n",
      "input_1 (InputLayer)         [(None, 150, 150, 3)]     0         \n",
      "_________________________________________________________________\n",
      "block1_conv1 (Conv2D)        (None, 150, 150, 64)      1792      \n",
      "_________________________________________________________________\n",
      "block1_conv2 (Conv2D)        (None, 150, 150, 64)      36928     \n",
      "_________________________________________________________________\n",
      "block1_pool (MaxPooling2D)   (None, 75, 75, 64)        0         \n",
      "_________________________________________________________________\n",
      "block2_conv1 (Conv2D)        (None, 75, 75, 128)       73856     \n",
      "_________________________________________________________________\n",
      "block2_conv2 (Conv2D)        (None, 75, 75, 128)       147584    \n",
      "_________________________________________________________________\n",
      "block2_pool (MaxPooling2D)   (None, 37, 37, 128)       0         \n",
      "_________________________________________________________________\n",
      "block3_conv1 (Conv2D)        (None, 37, 37, 256)       295168    \n",
      "_________________________________________________________________\n",
      "block3_conv2 (Conv2D)        (None, 37, 37, 256)       590080    \n",
      "_________________________________________________________________\n",
      "block3_conv3 (Conv2D)        (None, 37, 37, 256)       590080    \n",
      "_________________________________________________________________\n",
      "block3_pool (MaxPooling2D)   (None, 18, 18, 256)       0         \n",
      "_________________________________________________________________\n",
      "block4_conv1 (Conv2D)        (None, 18, 18, 512)       1180160   \n",
      "_________________________________________________________________\n",
      "block4_conv2 (Conv2D)        (None, 18, 18, 512)       2359808   \n",
      "_________________________________________________________________\n",
      "block4_conv3 (Conv2D)        (None, 18, 18, 512)       2359808   \n",
      "_________________________________________________________________\n",
      "block4_pool (MaxPooling2D)   (None, 9, 9, 512)         0         \n",
      "_________________________________________________________________\n",
      "block5_conv1 (Conv2D)        (None, 9, 9, 512)         2359808   \n",
      "_________________________________________________________________\n",
      "block5_conv2 (Conv2D)        (None, 9, 9, 512)         2359808   \n",
      "_________________________________________________________________\n",
      "block5_conv3 (Conv2D)        (None, 9, 9, 512)         2359808   \n",
      "_________________________________________________________________\n",
      "block5_pool (MaxPooling2D)   (None, 4, 4, 512)         0         \n",
      "=================================================================\n",
      "Total params: 14,714,688\n",
      "Trainable params: 14,714,688\n",
      "Non-trainable params: 0\n",
      "_________________________________________________________________\n"
     ]
    }
   ],
   "source": [
    "conv_base.summary()"
   ]
  },
  {
   "cell_type": "markdown",
   "metadata": {},
   "source": [
    "#### データ拡張を行わない高速な特徴抽出"
   ]
  },
  {
   "cell_type": "code",
   "execution_count": 4,
   "metadata": {},
   "outputs": [
    {
     "name": "stdout",
     "output_type": "stream",
     "text": [
      "Found 2000 images belonging to 2 classes.\n",
      "Found 1000 images belonging to 2 classes.\n",
      "Found 1000 images belonging to 2 classes.\n"
     ]
    }
   ],
   "source": [
    "# List 5-17\n",
    "import os\n",
    "import numpy as np\n",
    "from tensorflow.keras.preprocessing.image import ImageDataGenerator\n",
    "\n",
    "base_dir = '/home/takao/Documents/dev/jupyter/5-cat_and_dog_small'\n",
    "\n",
    "train_dir = os.path.join(base_dir, 'train')\n",
    "validation_dir = os.path.join(base_dir, 'validation')\n",
    "test_dir = os.path.join(base_dir, 'test')\n",
    "\n",
    "datagen = ImageDataGenerator(rescale=1./255)\n",
    "batch_size = 20\n",
    "\n",
    "def extract_features(directory, sample_count):\n",
    "    features = np.zeros(shape=(sample_count, 4, 4, 512))\n",
    "    labels = np.zeros(shape=(sample_count))\n",
    "    generator = datagen.flow_from_directory(directory,\n",
    "                                            target_size=(150, 150),\n",
    "                                            batch_size=batch_size,\n",
    "                                            class_mode='binary')\n",
    "    i = 0\n",
    "    for inputs_batch, labels_batch in generator:\n",
    "        features_batch = conv_base.predict(inputs_batch)\n",
    "        features[i * batch_size : (i + 1) * batch_size] = features_batch\n",
    "        labels[i * batch_size : (i + 1) * batch_size] = labels_batch\n",
    "        i += 1\n",
    "        if(i * batch_size >= sample_count):\n",
    "            break;\n",
    "    return features, labels\n",
    "\n",
    "train_features, train_labels = extract_features(train_dir, 2000)\n",
    "validation_features, validation_labels = extract_features(validation_dir, 1000)\n",
    "test_features, test_labels = extract_features(test_dir, 1000)"
   ]
  },
  {
   "cell_type": "code",
   "execution_count": 5,
   "metadata": {},
   "outputs": [],
   "source": [
    "train_features = np.reshape(train_features, (2000, 4*4*512))\n",
    "validation_features = np.reshape(validation_features, (1000, 4*4*512))\n",
    "test_features = np.reshape(test_features, (1000, 4*4*512))"
   ]
  },
  {
   "cell_type": "code",
   "execution_count": 7,
   "metadata": {},
   "outputs": [
    {
     "name": "stderr",
     "output_type": "stream",
     "text": [
      "W0812 17:23:20.681924 140400149782656 deprecation.py:323] From /home/takao/.pyenv/versions/3.7.4/envs/Jupyter/lib/python3.7/site-packages/tensorflow/python/ops/nn_impl.py:180: add_dispatch_support.<locals>.wrapper (from tensorflow.python.ops.array_ops) is deprecated and will be removed in a future version.\n",
      "Instructions for updating:\n",
      "Use tf.where in 2.0, which has the same broadcast rule as np.where\n"
     ]
    },
    {
     "name": "stdout",
     "output_type": "stream",
     "text": [
      "Train on 2000 samples, validate on 1000 samples\n",
      "Epoch 1/30\n",
      "2000/2000 [==============================] - 1s 415us/sample - loss: 0.5670 - acc: 0.6970 - val_loss: 0.4234 - val_acc: 0.8260\n",
      "Epoch 2/30\n",
      "2000/2000 [==============================] - 1s 264us/sample - loss: 0.4111 - acc: 0.8270 - val_loss: 0.3492 - val_acc: 0.8680\n",
      "Epoch 3/30\n",
      "2000/2000 [==============================] - 1s 301us/sample - loss: 0.3447 - acc: 0.8585 - val_loss: 0.3187 - val_acc: 0.8700\n",
      "Epoch 4/30\n",
      "2000/2000 [==============================] - 1s 276us/sample - loss: 0.3046 - acc: 0.8765 - val_loss: 0.2918 - val_acc: 0.8850\n",
      "Epoch 5/30\n",
      "2000/2000 [==============================] - 1s 303us/sample - loss: 0.2823 - acc: 0.8860 - val_loss: 0.2822 - val_acc: 0.8870\n",
      "Epoch 6/30\n",
      "2000/2000 [==============================] - 1s 278us/sample - loss: 0.2545 - acc: 0.9010 - val_loss: 0.2700 - val_acc: 0.8940\n",
      "Epoch 7/30\n",
      "2000/2000 [==============================] - 1s 270us/sample - loss: 0.2468 - acc: 0.9055 - val_loss: 0.2673 - val_acc: 0.8930\n",
      "Epoch 8/30\n",
      "2000/2000 [==============================] - 1s 282us/sample - loss: 0.2252 - acc: 0.9135 - val_loss: 0.2567 - val_acc: 0.8960\n",
      "Epoch 9/30\n",
      "2000/2000 [==============================] - 1s 295us/sample - loss: 0.2130 - acc: 0.9215 - val_loss: 0.2504 - val_acc: 0.9010\n",
      "Epoch 10/30\n",
      "2000/2000 [==============================] - 1s 289us/sample - loss: 0.2005 - acc: 0.9230 - val_loss: 0.2495 - val_acc: 0.9010\n",
      "Epoch 11/30\n",
      "2000/2000 [==============================] - 1s 286us/sample - loss: 0.1916 - acc: 0.9230 - val_loss: 0.2441 - val_acc: 0.9050\n",
      "Epoch 12/30\n",
      "2000/2000 [==============================] - 1s 276us/sample - loss: 0.1817 - acc: 0.9350 - val_loss: 0.2427 - val_acc: 0.9000\n",
      "Epoch 13/30\n",
      "2000/2000 [==============================] - 1s 318us/sample - loss: 0.1775 - acc: 0.9345 - val_loss: 0.2414 - val_acc: 0.9010\n",
      "Epoch 14/30\n",
      "2000/2000 [==============================] - 1s 283us/sample - loss: 0.1698 - acc: 0.9380 - val_loss: 0.2410 - val_acc: 0.9020\n",
      "Epoch 15/30\n",
      "2000/2000 [==============================] - 1s 272us/sample - loss: 0.1600 - acc: 0.9455 - val_loss: 0.2490 - val_acc: 0.8940\n",
      "Epoch 16/30\n",
      "2000/2000 [==============================] - 1s 281us/sample - loss: 0.1544 - acc: 0.9485 - val_loss: 0.2390 - val_acc: 0.9050\n",
      "Epoch 17/30\n",
      "2000/2000 [==============================] - 1s 327us/sample - loss: 0.1475 - acc: 0.9480 - val_loss: 0.2509 - val_acc: 0.8910\n",
      "Epoch 18/30\n",
      "2000/2000 [==============================] - 1s 321us/sample - loss: 0.1429 - acc: 0.9510 - val_loss: 0.2364 - val_acc: 0.9040\n",
      "Epoch 19/30\n",
      "2000/2000 [==============================] - 1s 282us/sample - loss: 0.1344 - acc: 0.9505 - val_loss: 0.2384 - val_acc: 0.9040\n",
      "Epoch 20/30\n",
      "2000/2000 [==============================] - 1s 266us/sample - loss: 0.1360 - acc: 0.9515 - val_loss: 0.2365 - val_acc: 0.9050\n",
      "Epoch 21/30\n",
      "2000/2000 [==============================] - 1s 291us/sample - loss: 0.1270 - acc: 0.9585 - val_loss: 0.2433 - val_acc: 0.9040\n",
      "Epoch 22/30\n",
      "2000/2000 [==============================] - 1s 268us/sample - loss: 0.1178 - acc: 0.9590 - val_loss: 0.2364 - val_acc: 0.9050\n",
      "Epoch 23/30\n",
      "2000/2000 [==============================] - 1s 260us/sample - loss: 0.1092 - acc: 0.9665 - val_loss: 0.2371 - val_acc: 0.9060\n",
      "Epoch 24/30\n",
      "2000/2000 [==============================] - 1s 265us/sample - loss: 0.1102 - acc: 0.9665 - val_loss: 0.2364 - val_acc: 0.9050\n",
      "Epoch 25/30\n",
      "2000/2000 [==============================] - 1s 279us/sample - loss: 0.1067 - acc: 0.9685 - val_loss: 0.2409 - val_acc: 0.9030\n",
      "Epoch 26/30\n",
      "2000/2000 [==============================] - 1s 282us/sample - loss: 0.1011 - acc: 0.9685 - val_loss: 0.2431 - val_acc: 0.9010\n",
      "Epoch 27/30\n",
      "2000/2000 [==============================] - 1s 272us/sample - loss: 0.1002 - acc: 0.9690 - val_loss: 0.2426 - val_acc: 0.9020\n",
      "Epoch 28/30\n",
      "2000/2000 [==============================] - 1s 273us/sample - loss: 0.0941 - acc: 0.9705 - val_loss: 0.2423 - val_acc: 0.9000\n",
      "Epoch 29/30\n",
      "2000/2000 [==============================] - 1s 281us/sample - loss: 0.0935 - acc: 0.9685 - val_loss: 0.2494 - val_acc: 0.8980\n",
      "Epoch 30/30\n",
      "2000/2000 [==============================] - 1s 282us/sample - loss: 0.0900 - acc: 0.9710 - val_loss: 0.2436 - val_acc: 0.8990\n"
     ]
    }
   ],
   "source": [
    "# List 5-18\n",
    "\n",
    "from tensorflow.keras import models, layers, optimizers\n",
    "\n",
    "model = models.Sequential()\n",
    "model.add(layers.Dense(256, activation='relu', input_dim=4*4*512))\n",
    "model.add(layers.Dropout(0.5))\n",
    "model.add(layers.Dense(1, activation='sigmoid'))\n",
    "\n",
    "model.compile(optimizer=optimizers.RMSprop(lr=2e-5),\n",
    "              loss='binary_crossentropy',\n",
    "              metrics=['acc'])\n",
    "\n",
    "history = model.fit(train_features, train_labels,\n",
    "                    epochs=30,\n",
    "                    batch_size=20,\n",
    "                    validation_data=(validation_features, validation_labels))"
   ]
  },
  {
   "cell_type": "code",
   "execution_count": 8,
   "metadata": {},
   "outputs": [
    {
     "data": {
      "image/png": "[encoded data removed]",
      "text/plain": [
       "<Figure size 432x288 with 1 Axes>"
      ]
     },
     "metadata": {
      "needs_background": "light"
     },
     "output_type": "display_data"
    },
    {
     "data": {
      "image/png": "[encoded data removed]",
      "text/plain": [
       "<Figure size 432x288 with 1 Axes>"
      ]
     },
     "metadata": {
      "needs_background": "light"
     },
     "output_type": "display_data"
    }
   ],
   "source": [
    "%matplotlib inline\n",
    "import matplotlib.pyplot as plt\n",
    "\n",
    "acc = history.history['acc']\n",
    "val_acc = history.history['val_acc']\n",
    "loss = history.history['loss']\n",
    "val_loss = history.history['val_loss']\n",
    "\n",
    "epochs = range(len(acc))\n",
    "\n",
    "plt.plot(epochs, acc, 'bo', label='Training acc')\n",
    "plt.plot(epochs, val_acc, 'b', label='Validation acc')\n",
    "plt.title('Training and validation accuracy')\n",
    "plt.legend()\n",
    "\n",
    "plt.figure()\n",
    "\n",
    "plt.plot(epochs, loss, 'bo', label='Training loss')\n",
    "plt.plot(epochs, val_loss, 'b', label='Validation loss')\n",
    "plt.title('Training and validation loss')\n",
    "plt.legend()\n",
    "\n",
    "plt.show()"
   ]
  },
  {
   "cell_type": "markdown",
   "metadata": {},
   "source": [
    "#### データ拡張を行う特徴抽出"
   ]
  },
  {
   "cell_type": "code",
   "execution_count": 9,
   "metadata": {},
   "outputs": [],
   "source": [
    "# List 5-20\n",
    "\n",
    "from tensorflow.keras import models, layers\n",
    "\n",
    "model = models.Sequential()\n",
    "model.add(conv_base)\n",
    "model.add(layers.Flatten())\n",
    "model.add(layers.Dense(256, activation='relu'))\n",
    "model.add(layers.Dense(1, activation='sigmoid'))"
   ]
  },
  {
   "cell_type": "code",
   "execution_count": 10,
   "metadata": {},
   "outputs": [
    {
     "name": "stdout",
     "output_type": "stream",
     "text": [
      "Model: \"sequential_2\"\n",
      "_________________________________________________________________\n",
      "Layer (type)                 Output Shape              Param #   \n",
      "=================================================================\n",
      "vgg16 (Model)                (None, 4, 4, 512)         14714688  \n",
      "_________________________________________________________________\n",
      "flatten (Flatten)            (None, 8192)              0         \n",
      "_________________________________________________________________\n",
      "dense_4 (Dense)              (None, 256)               2097408   \n",
      "_________________________________________________________________\n",
      "dense_5 (Dense)              (None, 1)                 257       \n",
      "=================================================================\n",
      "Total params: 16,812,353\n",
      "Trainable params: 16,812,353\n",
      "Non-trainable params: 0\n",
      "_________________________________________________________________\n"
     ]
    }
   ],
   "source": [
    "model.summary()"
   ]
  },
  {
   "cell_type": "code",
   "execution_count": 11,
   "metadata": {},
   "outputs": [
    {
     "name": "stdout",
     "output_type": "stream",
     "text": [
      "これゎ、conv_base を凍結する前の、訓練する重みの数 30\n"
     ]
    }
   ],
   "source": [
    "print('これゎ、conv_base を凍結する前の、訓練する重みの数', len(model.trainable_weights))"
   ]
  },
  {
   "cell_type": "code",
   "execution_count": 12,
   "metadata": {},
   "outputs": [],
   "source": [
    "conv_base.trainable = False"
   ]
  },
  {
   "cell_type": "code",
   "execution_count": 13,
   "metadata": {},
   "outputs": [
    {
     "name": "stdout",
     "output_type": "stream",
     "text": [
      "これゎ、conv_base を凍結した後の、訓練する重みの数 4\n"
     ]
    }
   ],
   "source": [
    "print('これゎ、conv_base を凍結した後の、訓練する重みの数', len(model.trainable_weights))"
   ]
  },
  {
   "cell_type": "code",
   "execution_count": 14,
   "metadata": {},
   "outputs": [
    {
     "name": "stdout",
     "output_type": "stream",
     "text": [
      "Found 2000 images belonging to 2 classes.\n",
      "Found 2000 images belonging to 2 classes.\n",
      "Epoch 1/30\n",
      "100/100 - 21s - loss: 0.6081 - acc: 0.6755 - val_loss: 0.4574 - val_acc: 0.8130\n",
      "Epoch 2/30\n",
      "100/100 - 21s - loss: 0.4861 - acc: 0.7895 - val_loss: 0.3671 - val_acc: 0.8530\n",
      "Epoch 3/30\n",
      "100/100 - 21s - loss: 0.4327 - acc: 0.8095 - val_loss: 0.3701 - val_acc: 0.8350\n",
      "Epoch 4/30\n",
      "100/100 - 21s - loss: 0.4082 - acc: 0.8220 - val_loss: 0.3021 - val_acc: 0.8670\n",
      "Epoch 5/30\n",
      "100/100 - 21s - loss: 0.3826 - acc: 0.8365 - val_loss: 0.2883 - val_acc: 0.8770\n",
      "Epoch 6/30\n",
      "100/100 - 21s - loss: 0.3676 - acc: 0.8370 - val_loss: 0.2716 - val_acc: 0.8790\n",
      "Epoch 7/30\n",
      "100/100 - 21s - loss: 0.3641 - acc: 0.8425 - val_loss: 0.2642 - val_acc: 0.8860\n",
      "Epoch 8/30\n",
      "100/100 - 23s - loss: 0.3509 - acc: 0.8410 - val_loss: 0.2566 - val_acc: 0.8890\n",
      "Epoch 9/30\n",
      "100/100 - 22s - loss: 0.3495 - acc: 0.8440 - val_loss: 0.2494 - val_acc: 0.8900\n",
      "Epoch 10/30\n",
      "100/100 - 22s - loss: 0.3325 - acc: 0.8525 - val_loss: 0.2712 - val_acc: 0.8810\n",
      "Epoch 11/30\n",
      "100/100 - 26s - loss: 0.3246 - acc: 0.8620 - val_loss: 0.2402 - val_acc: 0.8980\n",
      "Epoch 12/30\n",
      "100/100 - 24s - loss: 0.3261 - acc: 0.8555 - val_loss: 0.2474 - val_acc: 0.9000\n",
      "Epoch 13/30\n",
      "100/100 - 23s - loss: 0.3198 - acc: 0.8665 - val_loss: 0.2410 - val_acc: 0.8990\n",
      "Epoch 14/30\n",
      "100/100 - 25s - loss: 0.3066 - acc: 0.8710 - val_loss: 0.2356 - val_acc: 0.9040\n",
      "Epoch 15/30\n",
      "100/100 - 22s - loss: 0.3224 - acc: 0.8610 - val_loss: 0.2253 - val_acc: 0.9040\n",
      "Epoch 16/30\n",
      "100/100 - 21s - loss: 0.3090 - acc: 0.8590 - val_loss: 0.2263 - val_acc: 0.9080\n",
      "Epoch 17/30\n",
      "100/100 - 22s - loss: 0.3094 - acc: 0.8710 - val_loss: 0.2247 - val_acc: 0.9090\n",
      "Epoch 18/30\n",
      "100/100 - 23s - loss: 0.3037 - acc: 0.8690 - val_loss: 0.2221 - val_acc: 0.9100\n",
      "Epoch 19/30\n",
      "100/100 - 22s - loss: 0.2927 - acc: 0.8760 - val_loss: 0.2157 - val_acc: 0.9130\n",
      "Epoch 20/30\n",
      "100/100 - 22s - loss: 0.2939 - acc: 0.8800 - val_loss: 0.2168 - val_acc: 0.9160\n",
      "Epoch 21/30\n",
      "100/100 - 22s - loss: 0.3023 - acc: 0.8665 - val_loss: 0.2308 - val_acc: 0.8990\n",
      "Epoch 22/30\n",
      "100/100 - 22s - loss: 0.3051 - acc: 0.8670 - val_loss: 0.2158 - val_acc: 0.9150\n",
      "Epoch 23/30\n",
      "100/100 - 21s - loss: 0.2941 - acc: 0.8745 - val_loss: 0.2136 - val_acc: 0.9100\n",
      "Epoch 24/30\n",
      "100/100 - 21s - loss: 0.3006 - acc: 0.8680 - val_loss: 0.2044 - val_acc: 0.9200\n",
      "Epoch 25/30\n",
      "100/100 - 21s - loss: 0.2906 - acc: 0.8720 - val_loss: 0.2209 - val_acc: 0.9070\n",
      "Epoch 26/30\n",
      "100/100 - 22s - loss: 0.2952 - acc: 0.8745 - val_loss: 0.2102 - val_acc: 0.9100\n",
      "Epoch 27/30\n",
      "100/100 - 21s - loss: 0.2830 - acc: 0.8835 - val_loss: 0.1988 - val_acc: 0.9180\n",
      "Epoch 28/30\n",
      "100/100 - 21s - loss: 0.2888 - acc: 0.8715 - val_loss: 0.1975 - val_acc: 0.9200\n",
      "Epoch 29/30\n",
      "100/100 - 22s - loss: 0.2800 - acc: 0.8745 - val_loss: 0.2067 - val_acc: 0.9150\n",
      "Epoch 30/30\n",
      "100/100 - 22s - loss: 0.2782 - acc: 0.8825 - val_loss: 0.1968 - val_acc: 0.9240\n"
     ]
    }
   ],
   "source": [
    "# List 5-21\n",
    "\n",
    "from tensorflow.keras.preprocessing.image import ImageDataGenerator\n",
    "\n",
    "train_datagen = ImageDataGenerator(rescale=1./255,\n",
    "                                   rotation_range=40,\n",
    "                                   width_shift_range=0.2,\n",
    "                                   height_shift_range=0.2,\n",
    "                                   shear_range=0.2,\n",
    "                                   zoom_range=0.2,\n",
    "                                   horizontal_flip=True,\n",
    "                                   fill_mode='nearest')\n",
    "test_datagen = ImageDataGenerator(rescale=1./255)\n",
    "\n",
    "train_generator = train_datagen.flow_from_directory(train_dir,\n",
    "                                                    target_size=(150, 150),\n",
    "                                                    batch_size=20,\n",
    "                                                    class_mode='binary')\n",
    "validation_generator = test_datagen.flow_from_directory(train_dir,\n",
    "                                                        target_size=(150, 150),\n",
    "                                                        batch_size=20,\n",
    "                                                        class_mode='binary')\n",
    "\n",
    "model.compile(optimizer=optimizers.RMSprop(lr=2e-5),\n",
    "              loss='binary_crossentropy',\n",
    "              metrics=['acc'])\n",
    "\n",
    "history = model.fit_generator(train_generator,\n",
    "                              steps_per_epoch=100,\n",
    "                              epochs=30,\n",
    "                              validation_data=validation_generator,\n",
    "                              validation_steps=50,\n",
    "                              verbose=2)"
   ]
  },
  {
   "cell_type": "code",
   "execution_count": 15,
   "metadata": {},
   "outputs": [
    {
     "data": {
      "image/png": "[encoded data removed]",
      "text/plain": [
       "<Figure size 432x288 with 1 Axes>"
      ]
     },
     "metadata": {
      "needs_background": "light"
     },
     "output_type": "display_data"
    },
    {
     "data": {
      "image/png": "[encoded data removed]",
      "text/plain": [
       "<Figure size 432x288 with 1 Axes>"
      ]
     },
     "metadata": {
      "needs_background": "light"
     },
     "output_type": "display_data"
    }
   ],
   "source": [
    "acc = history.history['acc']\n",
    "val_acc = history.history['val_acc']\n",
    "loss = history.history['loss']\n",
    "val_loss = history.history['val_loss']\n",
    "\n",
    "epochs = range(len(acc))\n",
    "\n",
    "plt.plot(epochs, acc, 'bo', label='Training acc')\n",
    "plt.plot(epochs, val_acc, 'b', label='Validation acc')\n",
    "plt.title('Training and validation accuracy')\n",
    "plt.legend()\n",
    "\n",
    "plt.figure()\n",
    "\n",
    "plt.plot(epochs, loss, 'bo', label='Training loss')\n",
    "plt.plot(epochs, val_loss, 'b', label='Validation loss')\n",
    "plt.title('Training and validation loss')\n",
    "plt.legend()\n",
    "\n",
    "plt.show()"
   ]
  },
  {
   "cell_type": "markdown",
   "metadata": {},
   "source": [
    "### 5.3.2"
   ]
  },
  {
   "cell_type": "code",
   "execution_count": 16,
   "metadata": {},
   "outputs": [
    {
     "name": "stdout",
     "output_type": "stream",
     "text": [
      "Model: \"vgg16\"\n",
      "_________________________________________________________________\n",
      "Layer (type)                 Output Shape              Param #   \n",
      "=================================================================\n",
      "input_1 (InputLayer)         [(None, 150, 150, 3)]     0         \n",
      "_________________________________________________________________\n",
      "block1_conv1 (Conv2D)        (None, 150, 150, 64)      1792      \n",
      "_________________________________________________________________\n",
      "block1_conv2 (Conv2D)        (None, 150, 150, 64)      36928     \n",
      "_________________________________________________________________\n",
      "block1_pool (MaxPooling2D)   (None, 75, 75, 64)        0         \n",
      "_________________________________________________________________\n",
      "block2_conv1 (Conv2D)        (None, 75, 75, 128)       73856     \n",
      "_________________________________________________________________\n",
      "block2_conv2 (Conv2D)        (None, 75, 75, 128)       147584    \n",
      "_________________________________________________________________\n",
      "block2_pool (MaxPooling2D)   (None, 37, 37, 128)       0         \n",
      "_________________________________________________________________\n",
      "block3_conv1 (Conv2D)        (None, 37, 37, 256)       295168    \n",
      "_________________________________________________________________\n",
      "block3_conv2 (Conv2D)        (None, 37, 37, 256)       590080    \n",
      "_________________________________________________________________\n",
      "block3_conv3 (Conv2D)        (None, 37, 37, 256)       590080    \n",
      "_________________________________________________________________\n",
      "block3_pool (MaxPooling2D)   (None, 18, 18, 256)       0         \n",
      "_________________________________________________________________\n",
      "block4_conv1 (Conv2D)        (None, 18, 18, 512)       1180160   \n",
      "_________________________________________________________________\n",
      "block4_conv2 (Conv2D)        (None, 18, 18, 512)       2359808   \n",
      "_________________________________________________________________\n",
      "block4_conv3 (Conv2D)        (None, 18, 18, 512)       2359808   \n",
      "_________________________________________________________________\n",
      "block4_pool (MaxPooling2D)   (None, 9, 9, 512)         0         \n",
      "_________________________________________________________________\n",
      "block5_conv1 (Conv2D)        (None, 9, 9, 512)         2359808   \n",
      "_________________________________________________________________\n",
      "block5_conv2 (Conv2D)        (None, 9, 9, 512)         2359808   \n",
      "_________________________________________________________________\n",
      "block5_conv3 (Conv2D)        (None, 9, 9, 512)         2359808   \n",
      "_________________________________________________________________\n",
      "block5_pool (MaxPooling2D)   (None, 4, 4, 512)         0         \n",
      "=================================================================\n",
      "Total params: 14,714,688\n",
      "Trainable params: 0\n",
      "Non-trainable params: 14,714,688\n",
      "_________________________________________________________________\n"
     ]
    }
   ],
   "source": [
    "conv_base.summary()"
   ]
  },
  {
   "cell_type": "code",
   "execution_count": 17,
   "metadata": {},
   "outputs": [],
   "source": [
    "# List 5-22\n",
    "\n",
    "conv_base.trainable = True\n",
    "\n",
    "set_trainable = False\n",
    "for layer in conv_base.layers:\n",
    "    if layer.name == 'block5_conv1':\n",
    "        set_trainable = True\n",
    "    if set_trainable:\n",
    "        layer.trainable = True\n",
    "    else:\n",
    "        layer.trainable = False"
   ]
  },
  {
   "cell_type": "code",
   "execution_count": 18,
   "metadata": {},
   "outputs": [
    {
     "name": "stdout",
     "output_type": "stream",
     "text": [
      "Epoch 1/100\n",
      "100/100 [==============================] - 26s 261ms/step - loss: 0.3050 - acc: 0.8590 - val_loss: 0.2216 - val_acc: 0.9060\n",
      "Epoch 2/100\n",
      "100/100 [==============================] - 25s 246ms/step - loss: 0.2578 - acc: 0.8945 - val_loss: 0.1529 - val_acc: 0.9380\n",
      "Epoch 3/100\n",
      "100/100 [==============================] - 23s 234ms/step - loss: 0.2246 - acc: 0.9120 - val_loss: 0.1342 - val_acc: 0.9510\n",
      "Epoch 4/100\n",
      "100/100 [==============================] - 25s 248ms/step - loss: 0.2286 - acc: 0.9020 - val_loss: 0.1229 - val_acc: 0.9590\n",
      "Epoch 5/100\n",
      "100/100 [==============================] - 26s 260ms/step - loss: 0.2073 - acc: 0.9195 - val_loss: 0.2388 - val_acc: 0.9030\n",
      "Epoch 6/100\n",
      "100/100 [==============================] - 27s 271ms/step - loss: 0.2005 - acc: 0.9190 - val_loss: 0.0974 - val_acc: 0.9670\n",
      "Epoch 7/100\n",
      "100/100 [==============================] - 24s 244ms/step - loss: 0.2037 - acc: 0.9205 - val_loss: 0.0991 - val_acc: 0.9650\n",
      "Epoch 8/100\n",
      "100/100 [==============================] - 28s 279ms/step - loss: 0.1732 - acc: 0.9255 - val_loss: 0.0827 - val_acc: 0.9730\n",
      "Epoch 9/100\n",
      "100/100 [==============================] - 25s 250ms/step - loss: 0.1702 - acc: 0.9335 - val_loss: 0.1049 - val_acc: 0.9650\n",
      "Epoch 10/100\n",
      "100/100 [==============================] - 24s 239ms/step - loss: 0.1608 - acc: 0.9350 - val_loss: 0.0766 - val_acc: 0.9760\n",
      "Epoch 11/100\n",
      "100/100 [==============================] - 26s 256ms/step - loss: 0.1438 - acc: 0.9465 - val_loss: 0.0874 - val_acc: 0.9700\n",
      "Epoch 12/100\n",
      "100/100 [==============================] - 24s 237ms/step - loss: 0.1460 - acc: 0.9440 - val_loss: 0.0749 - val_acc: 0.9670\n",
      "Epoch 13/100\n",
      "100/100 [==============================] - 25s 254ms/step - loss: 0.1267 - acc: 0.9515 - val_loss: 0.1029 - val_acc: 0.9600\n",
      "Epoch 14/100\n",
      "100/100 [==============================] - 29s 290ms/step - loss: 0.1279 - acc: 0.9550 - val_loss: 0.0539 - val_acc: 0.9820\n",
      "Epoch 15/100\n",
      "100/100 [==============================] - 29s 287ms/step - loss: 0.1329 - acc: 0.9450 - val_loss: 0.0523 - val_acc: 0.9840\n",
      "Epoch 16/100\n",
      "100/100 [==============================] - 30s 296ms/step - loss: 0.1176 - acc: 0.9505 - val_loss: 0.0473 - val_acc: 0.9800\n",
      "Epoch 17/100\n",
      "100/100 [==============================] - 27s 275ms/step - loss: 0.1142 - acc: 0.9520 - val_loss: 0.0449 - val_acc: 0.9840\n",
      "Epoch 18/100\n",
      "100/100 [==============================] - 32s 323ms/step - loss: 0.1000 - acc: 0.9625 - val_loss: 0.0445 - val_acc: 0.9810\n",
      "Epoch 19/100\n",
      "100/100 [==============================] - 32s 320ms/step - loss: 0.0982 - acc: 0.9650 - val_loss: 0.0382 - val_acc: 0.9890\n",
      "Epoch 20/100\n",
      "100/100 [==============================] - 32s 317ms/step - loss: 0.0961 - acc: 0.9625 - val_loss: 0.0337 - val_acc: 0.9870\n",
      "Epoch 21/100\n",
      "100/100 [==============================] - 32s 324ms/step - loss: 0.0950 - acc: 0.9625 - val_loss: 0.0316 - val_acc: 0.9870\n",
      "Epoch 22/100\n",
      "100/100 [==============================] - 36s 363ms/step - loss: 0.0941 - acc: 0.9625 - val_loss: 0.0254 - val_acc: 0.9920\n",
      "Epoch 23/100\n",
      "100/100 [==============================] - 32s 320ms/step - loss: 0.0940 - acc: 0.9605 - val_loss: 0.0328 - val_acc: 0.9880\n",
      "Epoch 24/100\n",
      "100/100 [==============================] - 32s 317ms/step - loss: 0.0772 - acc: 0.9735 - val_loss: 0.0336 - val_acc: 0.9860\n",
      "Epoch 25/100\n",
      "100/100 [==============================] - 30s 305ms/step - loss: 0.0791 - acc: 0.9725 - val_loss: 0.0244 - val_acc: 0.9910\n",
      "Epoch 26/100\n",
      "100/100 [==============================] - 33s 333ms/step - loss: 0.0722 - acc: 0.9710 - val_loss: 0.0200 - val_acc: 0.9940\n",
      "Epoch 27/100\n",
      "100/100 [==============================] - 33s 332ms/step - loss: 0.0778 - acc: 0.9680 - val_loss: 0.0192 - val_acc: 0.9950\n",
      "Epoch 28/100\n",
      "100/100 [==============================] - 30s 296ms/step - loss: 0.0719 - acc: 0.9725 - val_loss: 0.0200 - val_acc: 0.9910\n",
      "Epoch 29/100\n",
      "100/100 [==============================] - 28s 284ms/step - loss: 0.0746 - acc: 0.9715 - val_loss: 0.0207 - val_acc: 0.9920\n",
      "Epoch 30/100\n",
      "100/100 [==============================] - 27s 271ms/step - loss: 0.0606 - acc: 0.9785 - val_loss: 0.0272 - val_acc: 0.9900\n",
      "Epoch 31/100\n",
      "100/100 [==============================] - 25s 249ms/step - loss: 0.0699 - acc: 0.9740 - val_loss: 0.0404 - val_acc: 0.9840\n",
      "Epoch 32/100\n",
      "100/100 [==============================] - 28s 284ms/step - loss: 0.0699 - acc: 0.9750 - val_loss: 0.0268 - val_acc: 0.9910\n",
      "Epoch 33/100\n",
      "100/100 [==============================] - 25s 254ms/step - loss: 0.0547 - acc: 0.9815 - val_loss: 0.0207 - val_acc: 0.9920\n",
      "Epoch 34/100\n",
      "100/100 [==============================] - 27s 268ms/step - loss: 0.0634 - acc: 0.9745 - val_loss: 0.0181 - val_acc: 0.9940\n",
      "Epoch 35/100\n",
      "100/100 [==============================] - 29s 291ms/step - loss: 0.0579 - acc: 0.9800 - val_loss: 0.0109 - val_acc: 0.9990\n",
      "Epoch 36/100\n",
      "100/100 [==============================] - 24s 243ms/step - loss: 0.0510 - acc: 0.9815 - val_loss: 0.0289 - val_acc: 0.9880\n",
      "Epoch 37/100\n",
      "100/100 [==============================] - 29s 287ms/step - loss: 0.0556 - acc: 0.9790 - val_loss: 0.0159 - val_acc: 0.9940\n",
      "Epoch 38/100\n",
      "100/100 [==============================] - 25s 252ms/step - loss: 0.0406 - acc: 0.9870 - val_loss: 0.0093 - val_acc: 0.9990\n",
      "Epoch 39/100\n",
      "100/100 [==============================] - 24s 239ms/step - loss: 0.0515 - acc: 0.9800 - val_loss: 0.0153 - val_acc: 0.9910\n",
      "Epoch 40/100\n",
      "100/100 [==============================] - 26s 264ms/step - loss: 0.0435 - acc: 0.9855 - val_loss: 0.0122 - val_acc: 0.9960\n",
      "Epoch 41/100\n",
      "100/100 [==============================] - 25s 253ms/step - loss: 0.0583 - acc: 0.9795 - val_loss: 0.0130 - val_acc: 0.9940\n",
      "Epoch 42/100\n",
      "100/100 [==============================] - 27s 273ms/step - loss: 0.0397 - acc: 0.9860 - val_loss: 0.0105 - val_acc: 0.9940\n",
      "Epoch 43/100\n",
      "100/100 [==============================] - 28s 281ms/step - loss: 0.0435 - acc: 0.9840 - val_loss: 0.0111 - val_acc: 0.9980\n",
      "Epoch 44/100\n",
      "100/100 [==============================] - 28s 282ms/step - loss: 0.0531 - acc: 0.9800 - val_loss: 0.0100 - val_acc: 0.9980\n",
      "Epoch 45/100\n",
      "100/100 [==============================] - 28s 282ms/step - loss: 0.0424 - acc: 0.9825 - val_loss: 0.0125 - val_acc: 0.9940\n",
      "Epoch 46/100\n",
      "100/100 [==============================] - 29s 292ms/step - loss: 0.0447 - acc: 0.9840 - val_loss: 0.0168 - val_acc: 0.9930\n",
      "Epoch 47/100\n",
      "100/100 [==============================] - 30s 299ms/step - loss: 0.0539 - acc: 0.9790 - val_loss: 0.0160 - val_acc: 0.9950\n",
      "Epoch 48/100\n",
      "100/100 [==============================] - 29s 287ms/step - loss: 0.0431 - acc: 0.9850 - val_loss: 0.0099 - val_acc: 0.9980\n",
      "Epoch 49/100\n",
      "100/100 [==============================] - 26s 259ms/step - loss: 0.0381 - acc: 0.9865 - val_loss: 0.0141 - val_acc: 0.9940\n",
      "Epoch 50/100\n",
      "100/100 [==============================] - 24s 240ms/step - loss: 0.0386 - acc: 0.9855 - val_loss: 0.0059 - val_acc: 0.9980\n",
      "Epoch 51/100\n",
      "100/100 [==============================] - 30s 299ms/step - loss: 0.0448 - acc: 0.9850 - val_loss: 0.0077 - val_acc: 0.9990\n",
      "Epoch 52/100\n",
      "100/100 [==============================] - 24s 239ms/step - loss: 0.0378 - acc: 0.9875 - val_loss: 0.0135 - val_acc: 0.9950\n",
      "Epoch 53/100\n",
      "100/100 [==============================] - 24s 241ms/step - loss: 0.0313 - acc: 0.9875 - val_loss: 0.0177 - val_acc: 0.9930\n",
      "Epoch 54/100\n",
      "100/100 [==============================] - 25s 251ms/step - loss: 0.0364 - acc: 0.9865 - val_loss: 0.0114 - val_acc: 0.9960\n",
      "Epoch 55/100\n",
      "100/100 [==============================] - 24s 238ms/step - loss: 0.0342 - acc: 0.9880 - val_loss: 0.0897 - val_acc: 0.9700\n",
      "Epoch 56/100\n",
      "100/100 [==============================] - 25s 248ms/step - loss: 0.0370 - acc: 0.9900 - val_loss: 0.0044 - val_acc: 0.9980\n",
      "Epoch 57/100\n",
      "100/100 [==============================] - 28s 282ms/step - loss: 0.0278 - acc: 0.9910 - val_loss: 0.0085 - val_acc: 0.9970\n",
      "Epoch 58/100\n",
      "100/100 [==============================] - 24s 239ms/step - loss: 0.0315 - acc: 0.9885 - val_loss: 0.0034 - val_acc: 1.0000\n",
      "Epoch 59/100\n",
      "100/100 [==============================] - 25s 245ms/step - loss: 0.0353 - acc: 0.9850 - val_loss: 0.0026 - val_acc: 0.9990\n",
      "Epoch 60/100\n",
      "100/100 [==============================] - 26s 262ms/step - loss: 0.0317 - acc: 0.9885 - val_loss: 0.0033 - val_acc: 0.9980\n",
      "Epoch 61/100\n",
      "100/100 [==============================] - 25s 248ms/step - loss: 0.0322 - acc: 0.9875 - val_loss: 0.0028 - val_acc: 0.9990\n",
      "Epoch 62/100\n",
      "100/100 [==============================] - 26s 255ms/step - loss: 0.0305 - acc: 0.9890 - val_loss: 0.0083 - val_acc: 0.9980\n",
      "Epoch 63/100\n",
      "100/100 [==============================] - 25s 252ms/step - loss: 0.0311 - acc: 0.9885 - val_loss: 0.0026 - val_acc: 0.9990\n",
      "Epoch 64/100\n",
      "100/100 [==============================] - 28s 276ms/step - loss: 0.0413 - acc: 0.9875 - val_loss: 0.0109 - val_acc: 0.9960\n",
      "Epoch 65/100\n",
      "100/100 [==============================] - 26s 259ms/step - loss: 0.0282 - acc: 0.9900 - val_loss: 0.0202 - val_acc: 0.9950\n",
      "Epoch 66/100\n",
      "100/100 [==============================] - 25s 249ms/step - loss: 0.0293 - acc: 0.9895 - val_loss: 0.0021 - val_acc: 1.0000\n",
      "Epoch 67/100\n",
      "100/100 [==============================] - 24s 243ms/step - loss: 0.0304 - acc: 0.9895 - val_loss: 0.0048 - val_acc: 0.9980\n",
      "Epoch 68/100\n",
      "100/100 [==============================] - 25s 252ms/step - loss: 0.0200 - acc: 0.9920 - val_loss: 0.0035 - val_acc: 0.9990\n",
      "Epoch 69/100\n",
      "100/100 [==============================] - 26s 256ms/step - loss: 0.0269 - acc: 0.9905 - val_loss: 0.0021 - val_acc: 1.0000\n",
      "Epoch 70/100\n",
      "100/100 [==============================] - 26s 257ms/step - loss: 0.0201 - acc: 0.9940 - val_loss: 0.0015 - val_acc: 1.0000\n",
      "Epoch 71/100\n",
      "100/100 [==============================] - 24s 238ms/step - loss: 0.0251 - acc: 0.9895 - val_loss: 0.0015 - val_acc: 1.0000\n",
      "Epoch 72/100\n",
      "100/100 [==============================] - 27s 265ms/step - loss: 0.0201 - acc: 0.9935 - val_loss: 0.0036 - val_acc: 0.9990\n",
      "Epoch 73/100\n",
      "100/100 [==============================] - 26s 260ms/step - loss: 0.0206 - acc: 0.9935 - val_loss: 0.0019 - val_acc: 0.9990\n",
      "Epoch 74/100\n",
      "100/100 [==============================] - 26s 264ms/step - loss: 0.0237 - acc: 0.9910 - val_loss: 0.0043 - val_acc: 0.9990\n",
      "Epoch 75/100\n",
      "100/100 [==============================] - 25s 247ms/step - loss: 0.0291 - acc: 0.9905 - val_loss: 0.0010 - val_acc: 1.0000\n",
      "Epoch 76/100\n",
      "100/100 [==============================] - 24s 239ms/step - loss: 0.0275 - acc: 0.9895 - val_loss: 0.0014 - val_acc: 0.9990\n",
      "Epoch 77/100\n",
      "100/100 [==============================] - 24s 238ms/step - loss: 0.0143 - acc: 0.9955 - val_loss: 0.0025 - val_acc: 0.9990\n",
      "Epoch 78/100\n",
      "100/100 [==============================] - 24s 237ms/step - loss: 0.0185 - acc: 0.9920 - val_loss: 7.9969e-04 - val_acc: 1.0000\n",
      "Epoch 79/100\n",
      "100/100 [==============================] - 25s 246ms/step - loss: 0.0147 - acc: 0.9950 - val_loss: 0.0027 - val_acc: 0.9990\n",
      "Epoch 80/100\n",
      "100/100 [==============================] - 27s 273ms/step - loss: 0.0248 - acc: 0.9925 - val_loss: 0.0061 - val_acc: 0.9980\n",
      "Epoch 81/100\n",
      "100/100 [==============================] - 27s 267ms/step - loss: 0.0272 - acc: 0.9915 - val_loss: 7.9951e-04 - val_acc: 1.0000\n",
      "Epoch 82/100\n",
      "100/100 [==============================] - 25s 249ms/step - loss: 0.0131 - acc: 0.9960 - val_loss: 0.0026 - val_acc: 0.9990\n",
      "Epoch 83/100\n",
      "100/100 [==============================] - 25s 254ms/step - loss: 0.0242 - acc: 0.9915 - val_loss: 5.3291e-04 - val_acc: 1.0000\n",
      "Epoch 84/100\n",
      "100/100 [==============================] - 26s 262ms/step - loss: 0.0267 - acc: 0.9915 - val_loss: 7.3842e-04 - val_acc: 1.0000\n",
      "Epoch 85/100\n",
      "100/100 [==============================] - 25s 252ms/step - loss: 0.0270 - acc: 0.9910 - val_loss: 9.0208e-04 - val_acc: 1.0000\n",
      "Epoch 86/100\n",
      "100/100 [==============================] - 24s 244ms/step - loss: 0.0304 - acc: 0.9880 - val_loss: 9.5252e-04 - val_acc: 1.0000\n",
      "Epoch 87/100\n",
      "100/100 [==============================] - 24s 243ms/step - loss: 0.0177 - acc: 0.9940 - val_loss: 0.0036 - val_acc: 0.9980\n",
      "Epoch 88/100\n",
      "100/100 [==============================] - 26s 260ms/step - loss: 0.0163 - acc: 0.9930 - val_loss: 0.0016 - val_acc: 1.0000\n",
      "Epoch 89/100\n",
      "100/100 [==============================] - 26s 256ms/step - loss: 0.0200 - acc: 0.9925 - val_loss: 0.0025 - val_acc: 0.9990\n",
      "Epoch 90/100\n",
      "100/100 [==============================] - 25s 254ms/step - loss: 0.0161 - acc: 0.9940 - val_loss: 7.6362e-04 - val_acc: 1.0000\n",
      "Epoch 91/100\n",
      "100/100 [==============================] - 28s 283ms/step - loss: 0.0153 - acc: 0.9950 - val_loss: 4.6493e-04 - val_acc: 1.0000\n",
      "Epoch 92/100\n",
      "100/100 [==============================] - 29s 286ms/step - loss: 0.0246 - acc: 0.9920 - val_loss: 1.8105e-04 - val_acc: 1.0000\n",
      "Epoch 93/100\n",
      "100/100 [==============================] - 28s 284ms/step - loss: 0.0191 - acc: 0.9930 - val_loss: 0.0050 - val_acc: 0.9970\n",
      "Epoch 94/100\n",
      "100/100 [==============================] - 27s 269ms/step - loss: 0.0129 - acc: 0.9955 - val_loss: 5.2088e-04 - val_acc: 1.0000\n",
      "Epoch 95/100\n",
      "100/100 [==============================] - 24s 238ms/step - loss: 0.0171 - acc: 0.9940 - val_loss: 2.5654e-04 - val_acc: 1.0000\n",
      "Epoch 96/100\n",
      "100/100 [==============================] - 25s 249ms/step - loss: 0.0160 - acc: 0.9970 - val_loss: 5.3241e-04 - val_acc: 1.0000\n",
      "Epoch 97/100\n",
      "100/100 [==============================] - 25s 251ms/step - loss: 0.0225 - acc: 0.9925 - val_loss: 2.2822e-04 - val_acc: 1.0000\n",
      "Epoch 98/100\n",
      "100/100 [==============================] - 26s 263ms/step - loss: 0.0193 - acc: 0.9935 - val_loss: 2.0628e-04 - val_acc: 1.0000\n",
      "Epoch 99/100\n",
      "100/100 [==============================] - 26s 259ms/step - loss: 0.0188 - acc: 0.9955 - val_loss: 0.0013 - val_acc: 1.0000\n",
      "Epoch 100/100\n",
      "100/100 [==============================] - 25s 247ms/step - loss: 0.0176 - acc: 0.9920 - val_loss: 1.4762e-04 - val_acc: 1.0000\n"
     ]
    }
   ],
   "source": [
    "model.compile(optimizer=optimizers.RMSprop(lr=1e-5),\n",
    "              loss='binary_crossentropy',\n",
    "              metrics=['acc'])\n",
    "\n",
    "history = model.fit_generator(train_generator,\n",
    "                              steps_per_epoch=100,\n",
    "                              epochs=100,\n",
    "                              validation_data=validation_generator,\n",
    "                              validation_steps=50)"
   ]
  },
  {
   "cell_type": "code",
   "execution_count": 19,
   "metadata": {},
   "outputs": [
    {
     "data": {
      "image/png": "[encoded data removed]",
      "text/plain": [
       "<Figure size 432x288 with 1 Axes>"
      ]
     },
     "metadata": {
      "needs_background": "light"
     },
     "output_type": "display_data"
    },
    {
     "data": {
      "image/png": "[encoded data removed]",
      "text/plain": [
       "<Figure size 432x288 with 1 Axes>"
      ]
     },
     "metadata": {
      "needs_background": "light"
     },
     "output_type": "display_data"
    }
   ],
   "source": [
    "acc = history.history['acc']\n",
    "val_acc = history.history['val_acc']\n",
    "loss = history.history['loss']\n",
    "val_loss = history.history['val_loss']\n",
    "\n",
    "epochs = range(len(acc))\n",
    "\n",
    "plt.plot(epochs, acc, 'bo', label='Training acc')\n",
    "plt.plot(epochs, val_acc, 'b', label='Validation acc')\n",
    "plt.title('Training and validation accuracy')\n",
    "plt.legend()\n",
    "\n",
    "plt.figure()\n",
    "\n",
    "plt.plot(epochs, loss, 'bo', label='Training loss')\n",
    "plt.plot(epochs, val_loss, 'b', label='Validation loss')\n",
    "plt.title('Training and validation loss')\n",
    "plt.legend()\n",
    "\n",
    "plt.show()"
   ]
  },
  {
   "cell_type": "code",
   "execution_count": 20,
   "metadata": {},
   "outputs": [
    {
     "data": {
      "image/png": "[encoded data removed]",
      "text/plain": [
       "<Figure size 432x288 with 1 Axes>"
      ]
     },
     "metadata": {
      "needs_background": "light"
     },
     "output_type": "display_data"
    },
    {
     "data": {
      "image/png": "[encoded data removed]",
      "text/plain": [
       "<Figure size 432x288 with 1 Axes>"
      ]
     },
     "metadata": {
      "needs_background": "light"
     },
     "output_type": "display_data"
    }
   ],
   "source": [
    "def smooth_curve(points, factor=0.8):\n",
    "    smoothed_points=[]\n",
    "    for point in points:\n",
    "        if smoothed_points:\n",
    "            previous = smoothed_points[-1]\n",
    "            smoothed_points.append(previous*factor + point * (1 - factor))\n",
    "        else:\n",
    "            smoothed_points.append(point)\n",
    "    return smoothed_points\n",
    "\n",
    "plt.plot(epochs, smooth_curve(acc), 'bo', label='Smoothed training acc')\n",
    "plt.plot(epochs, smooth_curve(val_acc), 'b', label='Smoothed validation acc')\n",
    "plt.title('Training and validation accuracy')\n",
    "plt.legend()\n",
    "\n",
    "plt.figure()\n",
    "\n",
    "plt.plot(epochs, smooth_curve(loss), 'bo', label='Smoothed training loss')\n",
    "plt.plot(epochs, smooth_curve(val_loss), 'b', label='Smoothed validation loss')\n",
    "plt.title('Training and validation loss')\n",
    "plt.legend()\n",
    "\n",
    "plt.show()"
   ]
  },
  {
   "cell_type": "code",
   "execution_count": 21,
   "metadata": {},
   "outputs": [
    {
     "name": "stdout",
     "output_type": "stream",
     "text": [
      "Found 1000 images belonging to 2 classes.\n",
      "test_acc 0.946\n"
     ]
    }
   ],
   "source": [
    "test_generator = test_datagen.flow_from_directory(test_dir,\n",
    "                                                  target_size=(150,150),\n",
    "                                                  batch_size=20,\n",
    "                                                  class_mode='binary')\n",
    "test_loss, test_acc = model.evaluate_generator(test_generator, steps=50)\n",
    "print('test_acc', test_acc)"
   ]
  },
  {
   "cell_type": "code",
   "execution_count": null,
   "metadata": {},
   "outputs": [],
   "source": []
  }
 ],
 "metadata": {
  "kernelspec": {
   "display_name": "Python 3",
   "language": "python",
   "name": "python3"
  },
  "language_info": {
   "codemirror_mode": {
    "name": "ipython",
    "version": 3
   },
   "file_extension": ".py",
   "mimetype": "text/x-python",
   "name": "python",
   "nbconvert_exporter": "python",
   "pygments_lexer": "ipython3",
   "version": "3.7.4"
  }
 },
 "nbformat": 4,
 "nbformat_minor": 4
}
